{
 "cells": [
  {
   "cell_type": "code",
   "execution_count": null,
   "id": "2b38763d-c25f-423e-95e1-05b590adbf0b",
   "metadata": {},
   "outputs": [],
   "source": [
    "import pandas as pd\n",
    "import seaborn as sns\n",
    "import matplotlib.pyplot as plt\n",
    "from matplotlib import rcParams \n",
    "rcParams['font.family']='STHeiti' "
   ]
  },
  {
   "cell_type": "code",
   "execution_count": null,
   "id": "dabb5b33-280d-41a5-ab7b-f4be1c9b56c5",
   "metadata": {},
   "outputs": [],
   "source": [
    "#直方图\n",
    "sns.histplot(data=penguins,x='species')\n",
    "#核密度估计图(x轴对应发生的概率为多少，y为概率)\n",
    "sns.kdeplot(data=penguins,x='bill_length_mm')\n",
    "sns.histplot(data=penguins,x='species',kde=True) #在直方图加kde也可\n",
    "#技术图图\n",
    "sns.countplot(data=penguins,x='island')\n",
    "#散点图\n",
    "sns.scatterplot(ata=penguins,x='',y='',hue='sex') #按不同性别标不同颜色\n",
    "#蜂窝图\n",
    "sns.jointplot(ata=penguins,x='',y='',kind='')\n",
    "#二维核密度估计图\n",
    "sns.kdeplot(ata=penguins,x='',y='') #两个参数\n",
    "#条形图\n",
    "sns.barplot(ata=penguins,x='',y='',estimator='mean',errorbar=None)#估计的是平均值\n",
    "#箱线图\n",
    "sns.boxplot(data=penguins,x='',y='')\n",
    "#成对关系图（多个变量两两表示出来关系的多个图）\n",
    "sns.pairplot(data=penguins,hue='species')"
   ]
  }
 ],
 "metadata": {
  "kernelspec": {
   "display_name": "Python [conda env:base] *",
   "language": "python",
   "name": "conda-base-py"
  },
  "language_info": {
   "codemirror_mode": {
    "name": "ipython",
    "version": 3
   },
   "file_extension": ".py",
   "mimetype": "text/x-python",
   "name": "python",
   "nbconvert_exporter": "python",
   "pygments_lexer": "ipython3",
   "version": "3.12.7"
  }
 },
 "nbformat": 4,
 "nbformat_minor": 5
}
