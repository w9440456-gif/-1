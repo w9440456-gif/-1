{
 "cells": [
  {
   "cell_type": "code",
   "execution_count": 20,
   "id": "b217e626-6d1b-4445-9dbb-b565495f2167",
   "metadata": {},
   "outputs": [
    {
     "data": {
      "text/html": [
       "<div>\n",
       "<style scoped>\n",
       "    .dataframe tbody tr th:only-of-type {\n",
       "        vertical-align: middle;\n",
       "    }\n",
       "\n",
       "    .dataframe tbody tr th {\n",
       "        vertical-align: top;\n",
       "    }\n",
       "\n",
       "    .dataframe thead th {\n",
       "        text-align: right;\n",
       "    }\n",
       "</style>\n",
       "<table border=\"1\" class=\"dataframe\">\n",
       "  <thead>\n",
       "    <tr style=\"text-align: right;\">\n",
       "      <th></th>\n",
       "      <th>第1列</th>\n",
       "      <th>第2列</th>\n",
       "    </tr>\n",
       "  </thead>\n",
       "  <tbody>\n",
       "    <tr>\n",
       "      <th>0</th>\n",
       "      <td>1</td>\n",
       "      <td>2</td>\n",
       "    </tr>\n",
       "    <tr>\n",
       "      <th>1</th>\n",
       "      <td>2</td>\n",
       "      <td>2</td>\n",
       "    </tr>\n",
       "    <tr>\n",
       "      <th>2</th>\n",
       "      <td>3</td>\n",
       "      <td>2</td>\n",
       "    </tr>\n",
       "  </tbody>\n",
       "</table>\n",
       "</div>"
      ],
      "text/plain": [
       "   第1列  第2列\n",
       "0    1    2\n",
       "1    2    2\n",
       "2    3    2"
      ]
     },
     "execution_count": 20,
     "metadata": {},
     "output_type": "execute_result"
    }
   ],
   "source": [
    "import numpy as np\n",
    "import pandas as pd\n",
    "#通过series创建\n",
    "s1=pd.Series([1,2,3])\n",
    "s2=pd.Series([4,5,6])\n",
    "df=pd.DataFrame({'第1列':s1,'第2列':2})\n",
    "df\n"
   ]
  },
  {
   "cell_type": "code",
   "execution_count": 30,
   "id": "0399bdf0-ba43-48d3-8eb0-6c0c290d662f",
   "metadata": {},
   "outputs": [
    {
     "data": {
      "text/html": [
       "<div>\n",
       "<style scoped>\n",
       "    .dataframe tbody tr th:only-of-type {\n",
       "        vertical-align: middle;\n",
       "    }\n",
       "\n",
       "    .dataframe tbody tr th {\n",
       "        vertical-align: top;\n",
       "    }\n",
       "\n",
       "    .dataframe thead th {\n",
       "        text-align: right;\n",
       "    }\n",
       "</style>\n",
       "<table border=\"1\" class=\"dataframe\">\n",
       "  <thead>\n",
       "    <tr style=\"text-align: right;\">\n",
       "      <th></th>\n",
       "      <th>name</th>\n",
       "      <th>age</th>\n",
       "      <th>score</th>\n",
       "    </tr>\n",
       "  </thead>\n",
       "  <tbody>\n",
       "    <tr>\n",
       "      <th>1</th>\n",
       "      <td>tom</td>\n",
       "      <td>15</td>\n",
       "      <td>60</td>\n",
       "    </tr>\n",
       "    <tr>\n",
       "      <th>2</th>\n",
       "      <td>jack</td>\n",
       "      <td>24</td>\n",
       "      <td>85</td>\n",
       "    </tr>\n",
       "    <tr>\n",
       "      <th>3</th>\n",
       "      <td>alice</td>\n",
       "      <td>25</td>\n",
       "      <td>86</td>\n",
       "    </tr>\n",
       "    <tr>\n",
       "      <th>4</th>\n",
       "      <td>bob</td>\n",
       "      <td>35</td>\n",
       "      <td>90</td>\n",
       "    </tr>\n",
       "    <tr>\n",
       "      <th>5</th>\n",
       "      <td>allen</td>\n",
       "      <td>59</td>\n",
       "      <td>46</td>\n",
       "    </tr>\n",
       "  </tbody>\n",
       "</table>\n",
       "</div>"
      ],
      "text/plain": [
       "    name  age  score\n",
       "1    tom   15     60\n",
       "2   jack   24     85\n",
       "3  alice   25     86\n",
       "4    bob   35     90\n",
       "5  allen   59     46"
      ]
     },
     "execution_count": 30,
     "metadata": {},
     "output_type": "execute_result"
    }
   ],
   "source": [
    "#通过字典创建（更常用）：\n",
    "df=pd.DataFrame(\n",
    "    {  \n",
    "        \"name\":['tom','jack','alice','bob','allen'], #这里有逗号\n",
    "        \"age\":[15,24,25,35,59], #这里有逗号\n",
    "        'score':[60,85,86,90,46]\n",
    "    },index=[1,2,3,4,5],columns=[\"name\",\"age\",'score']\n",
    ")\n",
    "df"
   ]
  },
  {
   "cell_type": "code",
   "execution_count": 24,
   "id": "fd9746e3-c2e7-4ad5-a03b-b507458d2511",
   "metadata": {},
   "outputs": [
    {
     "name": "stdout",
     "output_type": "stream",
     "text": [
      "行索引:\n",
      "Index([1, 2, 3, 4, 5], dtype='int64')\n",
      "列索引:\n",
      "Index(['name', 'age', 'score'], dtype='object')\n",
      "值\n",
      "[['tom' 15 60]\n",
      " ['jack' 24 85]\n",
      " ['alice' 25 86]\n",
      " ['bob' 35 90]\n",
      " ['allen' 59 46]]\n"
     ]
    }
   ],
   "source": [
    "#dataframe的属性\n",
    "print('行索引:')\n",
    "print(df.index)\n",
    "print('列索引:')\n",
    "print(df.columns)\n",
    "print('值')\n",
    "print(df.values)"
   ]
  },
  {
   "cell_type": "code",
   "execution_count": 26,
   "id": "5f173cfb-81de-4e99-9b36-d207bb20c6a3",
   "metadata": {},
   "outputs": [
    {
     "name": "stdout",
     "output_type": "stream",
     "text": [
      "维度： 2\n",
      "形状： (5, 3)\n",
      "元素个数： 15\n",
      "数据类型： name     object\n",
      "age       int64\n",
      "score     int64\n",
      "dtype: object\n"
     ]
    }
   ],
   "source": [
    "print('维度：',df.ndim)\n",
    "print('形状：',df.shape)\n",
    "print('元素个数：',df.size)\n",
    "print('数据类型：',df.dtypes)"
   ]
  },
  {
   "cell_type": "code",
   "execution_count": 28,
   "id": "08d11e4a-53b3-40bf-8c9f-3347a2855cf9",
   "metadata": {},
   "outputs": [
    {
     "name": "stdout",
     "output_type": "stream",
     "text": [
      "         1     2      3    4      5\n",
      "name   tom  jack  alice  bob  allen\n",
      "age     15    24     25   35     59\n",
      "score   60    85     86   90     46\n",
      "Index(['name', 'age', 'score'], dtype='object')\n"
     ]
    }
   ],
   "source": [
    "#行列转置\n",
    "#print(df.T)\n",
    "#print(df.T.index)"
   ]
  },
  {
   "cell_type": "code",
   "execution_count": 34,
   "id": "1058e12a-f612-48a3-92fd-395e30c534f1",
   "metadata": {},
   "outputs": [
    {
     "name": "stdout",
     "output_type": "stream",
     "text": [
      "name     bob\n",
      "age       35\n",
      "score     90\n",
      "Name: 4, dtype: object\n",
      "name     bob\n",
      "age       35\n",
      "score     90\n",
      "Name: 4, dtype: object\n"
     ]
    }
   ],
   "source": [
    "#某行\n",
    "print(df.loc[4]) #显示索引，根据定义的索引下标\n",
    "print(df.iloc[3]) #根据0、1、2进行索引"
   ]
  },
  {
   "cell_type": "code",
   "execution_count": 36,
   "id": "c2ea978d-ed9f-4f41-8f7b-a4a1cf98247c",
   "metadata": {},
   "outputs": [
    {
     "name": "stdout",
     "output_type": "stream",
     "text": [
      "1      tom\n",
      "2     jack\n",
      "3    alice\n",
      "4      bob\n",
      "5    allen\n",
      "Name: name, dtype: object\n",
      "1      tom\n",
      "2     jack\n",
      "3    alice\n",
      "4      bob\n",
      "5    allen\n",
      "Name: name, dtype: object\n"
     ]
    }
   ],
   "source": [
    "#某列\n",
    "print(df.loc[:,'name'])\n",
    "print(df.iloc[:,0])"
   ]
  },
  {
   "cell_type": "code",
   "execution_count": 39,
   "id": "c05da9dc-dfbf-4525-a163-cafdc5d4f63b",
   "metadata": {},
   "outputs": [
    {
     "name": "stdout",
     "output_type": "stream",
     "text": [
      "86\n",
      "86\n",
      "86\n",
      "86\n"
     ]
    }
   ],
   "source": [
    "#单个元素时loc=at,iloc=iat(loc和iloc可以切片在某行某列时)\n",
    "print(df.at[3,'score'])\n",
    "print(df.iat[2,2])\n",
    "print(df.loc[3,'score'])\n",
    "print(df.iloc[2,2])"
   ]
  },
  {
   "cell_type": "code",
   "execution_count": null,
   "id": "4a25b39e-d2fd-4da2-a718-0708e99fa92c",
   "metadata": {},
   "outputs": [],
   "source": []
  }
 ],
 "metadata": {
  "kernelspec": {
   "display_name": "Python [conda env:base] *",
   "language": "python",
   "name": "conda-base-py"
  },
  "language_info": {
   "codemirror_mode": {
    "name": "ipython",
    "version": 3
   },
   "file_extension": ".py",
   "mimetype": "text/x-python",
   "name": "python",
   "nbconvert_exporter": "python",
   "pygments_lexer": "ipython3",
   "version": "3.12.7"
  }
 },
 "nbformat": 4,
 "nbformat_minor": 5
}
