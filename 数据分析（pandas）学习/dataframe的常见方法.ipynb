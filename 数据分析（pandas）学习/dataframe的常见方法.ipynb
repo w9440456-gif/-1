{
 "cells": [
  {
   "cell_type": "code",
   "execution_count": 1,
   "id": "709f70c9-c526-4e1e-b1cb-3e1469ce9409",
   "metadata": {},
   "outputs": [
    {
     "data": {
      "text/html": [
       "<div>\n",
       "<style scoped>\n",
       "    .dataframe tbody tr th:only-of-type {\n",
       "        vertical-align: middle;\n",
       "    }\n",
       "\n",
       "    .dataframe tbody tr th {\n",
       "        vertical-align: top;\n",
       "    }\n",
       "\n",
       "    .dataframe thead th {\n",
       "        text-align: right;\n",
       "    }\n",
       "</style>\n",
       "<table border=\"1\" class=\"dataframe\">\n",
       "  <thead>\n",
       "    <tr style=\"text-align: right;\">\n",
       "      <th></th>\n",
       "      <th>name</th>\n",
       "      <th>age</th>\n",
       "      <th>score</th>\n",
       "    </tr>\n",
       "  </thead>\n",
       "  <tbody>\n",
       "    <tr>\n",
       "      <th>1</th>\n",
       "      <td>tom</td>\n",
       "      <td>15</td>\n",
       "      <td>60</td>\n",
       "    </tr>\n",
       "    <tr>\n",
       "      <th>2</th>\n",
       "      <td>jack</td>\n",
       "      <td>24</td>\n",
       "      <td>85</td>\n",
       "    </tr>\n",
       "    <tr>\n",
       "      <th>3</th>\n",
       "      <td>alice</td>\n",
       "      <td>25</td>\n",
       "      <td>86</td>\n",
       "    </tr>\n",
       "    <tr>\n",
       "      <th>4</th>\n",
       "      <td>bob</td>\n",
       "      <td>35</td>\n",
       "      <td>90</td>\n",
       "    </tr>\n",
       "    <tr>\n",
       "      <th>5</th>\n",
       "      <td>allen</td>\n",
       "      <td>59</td>\n",
       "      <td>46</td>\n",
       "    </tr>\n",
       "  </tbody>\n",
       "</table>\n",
       "</div>"
      ],
      "text/plain": [
       "    name  age  score\n",
       "1    tom   15     60\n",
       "2   jack   24     85\n",
       "3  alice   25     86\n",
       "4    bob   35     90\n",
       "5  allen   59     46"
      ]
     },
     "execution_count": 1,
     "metadata": {},
     "output_type": "execute_result"
    }
   ],
   "source": [
    "import numpy as np\n",
    "import pandas as pd\n",
    "df=pd.DataFrame(\n",
    "    {  \n",
    "        \"name\":['tom','jack','alice','bob','allen'], #这里有逗号\n",
    "        \"age\":[15,24,25,35,59], #这里有逗号\n",
    "        'score':[60,85,86,90,46]\n",
    "    },index=[1,2,3,4,5],columns=[\"name\",\"age\",'score']\n",
    ")\n",
    "df"
   ]
  },
  {
   "cell_type": "code",
   "execution_count": 2,
   "id": "ecde8c81-137f-4a67-a560-0dc7394d485c",
   "metadata": {},
   "outputs": [
    {
     "name": "stdout",
     "output_type": "stream",
     "text": [
      "   name  age  score\n",
      "1   tom   15     60\n",
      "2  jack   24     85\n",
      "    name  age  score\n",
      "5  allen   59     46\n"
     ]
    }
   ],
   "source": [
    "print(df.head(2))\n",
    "print(df.tail(1))"
   ]
  },
  {
   "cell_type": "code",
   "execution_count": 5,
   "id": "c531fd17-962a-4b08-bbd8-71a3f2823952",
   "metadata": {},
   "outputs": [
    {
     "name": "stdout",
     "output_type": "stream",
     "text": [
      "    name    age  score\n",
      "1  False  False  False\n",
      "2   True   True  False\n",
      "3  False  False  False\n",
      "4  False  False  False\n",
      "5  False  False  False\n",
      "    name    age  score\n",
      "1  False  False  False\n",
      "2  False  False  False\n",
      "3  False  False  False\n",
      "4  False  False  False\n",
      "5  False  False  False\n"
     ]
    }
   ],
   "source": [
    "print(df.isin(['jack',24]))     #查看某元素是否在参数集合中\n",
    "print(df.isna())                #查看是否有缺失值\n"
   ]
  },
  {
   "cell_type": "code",
   "execution_count": 9,
   "id": "0f66601a-fe22-4ef5-a72e-d5d7d83bbd80",
   "metadata": {},
   "outputs": [
    {
     "name": "stdout",
     "output_type": "stream",
     "text": [
      "367\n",
      "90\n",
      "46\n",
      "73.4\n",
      "85.0\n",
      "0    46\n",
      "1    60\n",
      "2    85\n",
      "3    86\n",
      "4    90\n",
      "Name: score, dtype: int64\n"
     ]
    }
   ],
   "source": [
    "print(df['score'].sum())  #某一列的总和\n",
    "print(df.score.max())\n",
    "print(df.score.min())\n",
    "print(df.score.mean())    #平均数\n",
    "print(df.score.median())  #中位数\n",
    "print(df.score.mode())  #都出现一次，都输出\n"
   ]
  },
  {
   "cell_type": "code",
   "execution_count": 11,
   "id": "18782c0c-bdd6-4345-be9d-ca93af1daf1a",
   "metadata": {},
   "outputs": [
    {
     "name": "stdout",
     "output_type": "stream",
     "text": [
      "19.3597520645281\n",
      "374.8\n",
      "60.0\n"
     ]
    }
   ],
   "source": [
    "print(df.score.std())  #标准差\n",
    "print(df.score.var())  #方差\n",
    "print(df.score.quantile(0.25)) #分位数"
   ]
  },
  {
   "cell_type": "code",
   "execution_count": 14,
   "id": "4522ff4c-c07f-4e4f-b817-9189d497ea08",
   "metadata": {},
   "outputs": [
    {
     "name": "stdout",
     "output_type": "stream",
     "text": [
      "             age      score\n",
      "count   5.000000   5.000000\n",
      "mean   31.600000  73.400000\n",
      "std    16.876018  19.359752\n",
      "min    15.000000  46.000000\n",
      "25%    24.000000  60.000000\n",
      "50%    25.000000  85.000000\n",
      "75%    35.000000  86.000000\n",
      "max    59.000000  90.000000\n",
      "\n",
      "\n",
      "name     5\n",
      "age      5\n",
      "score    5\n",
      "dtype: int64\n"
     ]
    }
   ],
   "source": [
    "print(df.describe())\n",
    "print('\\n')\n",
    "print(df.count())"
   ]
  },
  {
   "cell_type": "code",
   "execution_count": 16,
   "id": "a4040237-95f9-461a-8e29-c09175f3e0b3",
   "metadata": {},
   "outputs": [
    {
     "name": "stdout",
     "output_type": "stream",
     "text": [
      "name   age  score\n",
      "alice  25   86       1\n",
      "allen  59   46       1\n",
      "bob    35   90       1\n",
      "jack   24   85       1\n",
      "tom    15   60       1\n",
      "Name: count, dtype: int64\n"
     ]
    }
   ],
   "source": [
    "print(df.value_counts())  #值出现的次数（某行）"
   ]
  },
  {
   "cell_type": "code",
   "execution_count": 20,
   "id": "faf3f218-f3e3-4774-8f46-395bb77caabf",
   "metadata": {},
   "outputs": [
    {
     "name": "stdout",
     "output_type": "stream",
     "text": [
      "    name  age  score\n",
      "1    tom   15     60\n",
      "2   jack   24     85\n",
      "3  alice   25     86\n",
      "4    bob   35     90\n",
      "5  allen   59     46\n",
      "\n",
      "\n",
      "1    False\n",
      "2    False\n",
      "3    False\n",
      "4    False\n",
      "5    False\n",
      "dtype: bool\n",
      "\n",
      "\n",
      "    name  age  score\n",
      "1    tom   15     60\n",
      "2   jack   24     85\n",
      "3  alice   25     86\n",
      "4    bob   35     90\n",
      "5  allen   59     46\n"
     ]
    }
   ],
   "source": [
    "print(df.drop_duplicates()) #去重\n",
    "print('\\n')\n",
    "print(df.duplicated(subset=['score'])) #查看某列的重复\n",
    "print('\\n')\n",
    "print(df.replace(20,30))   #将20替换为30"
   ]
  },
  {
   "cell_type": "code",
   "execution_count": 22,
   "id": "bf326e22-f62b-400c-8a8e-3e961dd09027",
   "metadata": {},
   "outputs": [
    {
     "data": {
      "text/html": [
       "<div>\n",
       "<style scoped>\n",
       "    .dataframe tbody tr th:only-of-type {\n",
       "        vertical-align: middle;\n",
       "    }\n",
       "\n",
       "    .dataframe tbody tr th {\n",
       "        vertical-align: top;\n",
       "    }\n",
       "\n",
       "    .dataframe thead th {\n",
       "        text-align: right;\n",
       "    }\n",
       "</style>\n",
       "<table border=\"1\" class=\"dataframe\">\n",
       "  <thead>\n",
       "    <tr style=\"text-align: right;\">\n",
       "      <th></th>\n",
       "      <th>name</th>\n",
       "      <th>age</th>\n",
       "      <th>score</th>\n",
       "    </tr>\n",
       "  </thead>\n",
       "  <tbody>\n",
       "    <tr>\n",
       "      <th>1</th>\n",
       "      <td>tom</td>\n",
       "      <td>15</td>\n",
       "      <td>60</td>\n",
       "    </tr>\n",
       "    <tr>\n",
       "      <th>2</th>\n",
       "      <td>jack</td>\n",
       "      <td>15</td>\n",
       "      <td>60</td>\n",
       "    </tr>\n",
       "    <tr>\n",
       "      <th>3</th>\n",
       "      <td>alice</td>\n",
       "      <td>15</td>\n",
       "      <td>60</td>\n",
       "    </tr>\n",
       "    <tr>\n",
       "      <th>4</th>\n",
       "      <td>alice</td>\n",
       "      <td>15</td>\n",
       "      <td>60</td>\n",
       "    </tr>\n",
       "    <tr>\n",
       "      <th>5</th>\n",
       "      <td>alice</td>\n",
       "      <td>15</td>\n",
       "      <td>46</td>\n",
       "    </tr>\n",
       "  </tbody>\n",
       "</table>\n",
       "</div>"
      ],
      "text/plain": [
       "    name  age  score\n",
       "1    tom   15     60\n",
       "2   jack   15     60\n",
       "3  alice   15     60\n",
       "4  alice   15     60\n",
       "5  alice   15     46"
      ]
     },
     "execution_count": 22,
     "metadata": {},
     "output_type": "execute_result"
    }
   ],
   "source": [
    "df.cumsum() #累积和\n",
    "df.cummin() #累积最小的"
   ]
  },
  {
   "cell_type": "code",
   "execution_count": 24,
   "id": "03e147c6-8194-4ef2-b600-8f9fbcccdb60",
   "metadata": {},
   "outputs": [
    {
     "name": "stdout",
     "output_type": "stream",
     "text": [
      "    name  age  score\n",
      "5  allen   59     46\n",
      "4    bob   35     90\n",
      "3  alice   25     86\n",
      "2   jack   24     85\n",
      "1    tom   15     60\n",
      "\n",
      "\n",
      "    name  age  score\n",
      "5  allen   59     46\n",
      "1    tom   15     60\n",
      "2   jack   24     85\n",
      "3  alice   25     86\n",
      "4    bob   35     90\n"
     ]
    }
   ],
   "source": [
    "print(df.sort_index(ascending=False)) #按索引降序排序\n",
    "print('\\n')\n",
    "print(df.sort_values(by=['score','age'],ascending=[True,False])) #按值排序，先按score升序排，再按age降序排\n"
   ]
  },
  {
   "cell_type": "code",
   "execution_count": 26,
   "id": "e561336d-52cd-4736-a161-5a203dc489ee",
   "metadata": {},
   "outputs": [
    {
     "data": {
      "text/html": [
       "<div>\n",
       "<style scoped>\n",
       "    .dataframe tbody tr th:only-of-type {\n",
       "        vertical-align: middle;\n",
       "    }\n",
       "\n",
       "    .dataframe tbody tr th {\n",
       "        vertical-align: top;\n",
       "    }\n",
       "\n",
       "    .dataframe thead th {\n",
       "        text-align: right;\n",
       "    }\n",
       "</style>\n",
       "<table border=\"1\" class=\"dataframe\">\n",
       "  <thead>\n",
       "    <tr style=\"text-align: right;\">\n",
       "      <th></th>\n",
       "      <th>name</th>\n",
       "      <th>age</th>\n",
       "      <th>score</th>\n",
       "    </tr>\n",
       "  </thead>\n",
       "  <tbody>\n",
       "    <tr>\n",
       "      <th>5</th>\n",
       "      <td>allen</td>\n",
       "      <td>59</td>\n",
       "      <td>46</td>\n",
       "    </tr>\n",
       "    <tr>\n",
       "      <th>1</th>\n",
       "      <td>tom</td>\n",
       "      <td>15</td>\n",
       "      <td>60</td>\n",
       "    </tr>\n",
       "  </tbody>\n",
       "</table>\n",
       "</div>"
      ],
      "text/plain": [
       "    name  age  score\n",
       "5  allen   59     46\n",
       "1    tom   15     60"
      ]
     },
     "execution_count": 26,
     "metadata": {},
     "output_type": "execute_result"
    }
   ],
   "source": [
    "df.nlargest(2,columns=['score','age']) #按score、age列返回最大两行\n",
    "df.nsmallest(2,columns=['score','age'])"
   ]
  },
  {
   "cell_type": "code",
   "execution_count": null,
   "id": "b08ffe22-1cb5-43f2-b84f-f58e0c2f9318",
   "metadata": {},
   "outputs": [],
   "source": []
  }
 ],
 "metadata": {
  "kernelspec": {
   "display_name": "Python [conda env:base] *",
   "language": "python",
   "name": "conda-base-py"
  },
  "language_info": {
   "codemirror_mode": {
    "name": "ipython",
    "version": 3
   },
   "file_extension": ".py",
   "mimetype": "text/x-python",
   "name": "python",
   "nbconvert_exporter": "python",
   "pygments_lexer": "ipython3",
   "version": "3.12.7"
  }
 },
 "nbformat": 4,
 "nbformat_minor": 5
}
