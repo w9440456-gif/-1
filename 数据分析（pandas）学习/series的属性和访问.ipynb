{
 "cells": [
  {
   "cell_type": "code",
   "execution_count": 4,
   "id": "f6269031-3d39-4afa-9526-c7b5ea0c0e83",
   "metadata": {},
   "outputs": [
    {
     "name": "stdout",
     "output_type": "stream",
     "text": [
      "A    10\n",
      "B     2\n",
      "C     3\n",
      "D     4\n",
      "E     5\n",
      "Name: 月份, dtype: int64\n",
      "Index(['A', 'B', 'C', 'D', 'E'], dtype='object')\n",
      "[10  2  3  4  5]\n",
      "(5,) 1 5\n",
      "int64 月份\n"
     ]
    }
   ],
   "source": [
    "#series的属性\n",
    "import pandas as pd\n",
    "s=pd.Series([10,2,3,4,5],index=['A','B','C','D','E'],name='月份')\n",
    "print(s)\n",
    "print(s.index)\n",
    "print(s.values)\n",
    "print(s.shape,s.ndim,s.size)\n",
    "print(s.dtype,s.name)"
   ]
  },
  {
   "cell_type": "code",
   "execution_count": 5,
   "id": "5ce4e262-8989-4c6d-9491-f0d5f17a4a75",
   "metadata": {},
   "outputs": [
    {
     "name": "stdout",
     "output_type": "stream",
     "text": [
      "10\n",
      "2\n",
      "A    10\n",
      "B     2\n",
      "C     3\n",
      "Name: 月份, dtype: int64\n",
      "2\n"
     ]
    }
   ],
   "source": [
    "print(s.loc['A'])  #显示索引,支持切片\n",
    "print(s.iloc[1])   #隐式索引，支持切片\n",
    "print(s.loc['A':'C'])    \n",
    "print(s.at['A'])  #跟显示索引效果一样，只是不支持切片"
   ]
  },
  {
   "cell_type": "code",
   "execution_count": 14,
   "id": "a5e11698-8412-445d-9bcd-3d399037751e",
   "metadata": {},
   "outputs": [
    {
     "name": "stdout",
     "output_type": "stream",
     "text": [
      "1\n",
      "B    2\n",
      "C    1\n",
      "dtype: int64\n",
      "A    10\n",
      "B     2\n",
      "C     1\n",
      "D     4\n",
      "E     5\n",
      "dtype: int64\n",
      "B    2\n",
      "C    1\n",
      "D    4\n",
      "E    5\n",
      "f    6\n",
      "dtype: int64\n",
      "A    10\n",
      "B     2\n",
      "dtype: int64\n",
      "f    6\n",
      "dtype: int64\n"
     ]
    }
   ],
   "source": [
    "#访问数据\n",
    "s=pd.Series([10,2,1,4,5],index=['A','B','C','D','E'])\n",
    "print(s['C'])\n",
    "print(s[s<3])\n",
    "s['f']=6    #添加一行\n",
    "print(s.head()) #取前5行默认\n",
    "print(s.tail()) #取最后5行默认\n",
    "print(s.head(2))  #取前两行\n",
    "print(s.tail(1))  #取最后一行"
   ]
  },
  {
   "cell_type": "code",
   "execution_count": null,
   "id": "02a74764-5dd7-4489-8327-dc84a7f16cf7",
   "metadata": {},
   "outputs": [],
   "source": []
  }
 ],
 "metadata": {
  "kernelspec": {
   "display_name": "Python [conda env:base] *",
   "language": "python",
   "name": "conda-base-py"
  },
  "language_info": {
   "codemirror_mode": {
    "name": "ipython",
    "version": 3
   },
   "file_extension": ".py",
   "mimetype": "text/x-python",
   "name": "python",
   "nbconvert_exporter": "python",
   "pygments_lexer": "ipython3",
   "version": "3.12.7"
  }
 },
 "nbformat": 4,
 "nbformat_minor": 5
}
