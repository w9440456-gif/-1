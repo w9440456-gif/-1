{
 "cells": [
  {
   "cell_type": "code",
   "execution_count": 20,
   "id": "bd0c71cd-9f48-4785-9efd-5f4d7ee96447",
   "metadata": {},
   "outputs": [
    {
     "name": "stdout",
     "output_type": "stream",
     "text": [
      "a    10.0\n",
      "b     2.0\n",
      "c     NaN\n",
      "d     NaN\n",
      "e     3.0\n",
      "f     4.0\n",
      "g     5.0\n",
      "Name: data, dtype: float64\n"
     ]
    }
   ],
   "source": [
    "#常见函数\n",
    "import numpy as np\n",
    "import pandas as pd\n",
    "s=pd.Series([10,2,np.nan,None,3,4,5],index=['a','b','c','d','e','f','g'],name='data')\n",
    "print(s)"
   ]
  },
  {
   "cell_type": "code",
   "execution_count": 24,
   "id": "3bcf8440-1f63-481d-8c84-50d185caf3d0",
   "metadata": {},
   "outputs": [
    {
     "name": "stdout",
     "output_type": "stream",
     "text": [
      "a    10.0\n",
      "b     2.0\n",
      "c     NaN\n",
      "Name: data, dtype: float64\n"
     ]
    },
    {
     "data": {
      "text/plain": [
       "f    4.0\n",
       "g    5.0\n",
       "Name: data, dtype: float64"
      ]
     },
     "execution_count": 24,
     "metadata": {},
     "output_type": "execute_result"
    }
   ],
   "source": [
    "print(s.head(3)) #默认前5行\n",
    "s.tail(2)"
   ]
  },
  {
   "cell_type": "code",
   "execution_count": 25,
   "id": "11332944-7965-4be2-916c-5e920b928c50",
   "metadata": {},
   "outputs": [
    {
     "data": {
      "text/plain": [
       "count     5.000000\n",
       "mean      4.800000\n",
       "std       3.114482\n",
       "min       2.000000\n",
       "25%       3.000000\n",
       "50%       4.000000\n",
       "75%       5.000000\n",
       "max      10.000000\n",
       "Name: data, dtype: float64"
      ]
     },
     "execution_count": 25,
     "metadata": {},
     "output_type": "execute_result"
    }
   ],
   "source": [
    "#查看所有描述信息\n",
    "s.describe()"
   ]
  },
  {
   "cell_type": "code",
   "execution_count": 31,
   "id": "0fb10591-5aab-440c-85cb-66301b7a7596",
   "metadata": {},
   "outputs": [
    {
     "name": "stdout",
     "output_type": "stream",
     "text": [
      "5\n",
      "Index(['a', 'b', 'c', 'd', 'e', 'f', 'g'], dtype='object')\n",
      "Index(['a', 'b', 'c', 'd', 'e', 'f', 'g'], dtype='object')\n",
      "a    False\n",
      "b    False\n",
      "c     True\n",
      "d     True\n",
      "e    False\n",
      "f    False\n",
      "g    False\n",
      "Name: data, dtype: bool\n"
     ]
    }
   ],
   "source": [
    "#获取元素的个数（忽略缺失值）\n",
    "print(s.count())\n",
    "\n",
    "#获取索引\n",
    "print(s.keys()) #通过方法\n",
    "print(s.index)  #通过属性\n"
   ]
  },
  {
   "cell_type": "code",
   "execution_count": 35,
   "id": "090835bc-d73c-4799-86e7-34d72cc4ddff",
   "metadata": {},
   "outputs": [
    {
     "name": "stdout",
     "output_type": "stream",
     "text": [
      "a    False\n",
      "b    False\n",
      "c     True\n",
      "d     True\n",
      "e    False\n",
      "f    False\n",
      "g    False\n",
      "Name: data, dtype: bool\n",
      "a    False\n",
      "b    False\n",
      "c    False\n",
      "d    False\n",
      "e    False\n",
      "f     True\n",
      "g     True\n",
      "Name: data, dtype: bool\n"
     ]
    }
   ],
   "source": [
    "#检查series每一个元素是否为nan\n",
    "print(s.isna())\n",
    "\n",
    "#检查series是否有该元素\n",
    "print(s.isin([4,5]))"
   ]
  },
  {
   "cell_type": "code",
   "execution_count": 45,
   "id": "0d610581-f865-447a-a81c-8be83d9a98ac",
   "metadata": {},
   "outputs": [
    {
     "name": "stdout",
     "output_type": "stream",
     "text": [
      "4.8\n",
      "24.0\n",
      "3.1144823004794877\n",
      "9.700000000000001\n",
      "2.0\n",
      "10.0\n",
      "4.0\n",
      "<bound method Series.mode of a    10.0\n",
      "b     2.0\n",
      "c     NaN\n",
      "d     NaN\n",
      "e     3.0\n",
      "f     4.0\n",
      "g     5.0\n",
      "Name: data, dtype: float64>\n"
     ]
    }
   ],
   "source": [
    "print(s.mean()) #平均数\n",
    "print(s.sum())  #求和\n",
    "print(s.std())  #标准差\n",
    "print(s.var())  #方差\n",
    "print(s.min())  \n",
    "print(s.max())\n",
    "print(s.median()) #中位数\n",
    "#print(s.mode) #众数，每个都是1次，所以输出全部"
   ]
  },
  {
   "cell_type": "code",
   "execution_count": 52,
   "id": "85cccc2f-7e5e-4e13-a860-e0ad4d423f89",
   "metadata": {},
   "outputs": [
    {
     "name": "stdout",
     "output_type": "stream",
     "text": [
      "b     2.0\n",
      "e     3.0\n",
      "f     4.0\n",
      "g     5.0\n",
      "a    10.0\n",
      "c     NaN\n",
      "d     NaN\n",
      "Name: data, dtype: float64\n",
      "\n",
      "\n",
      "6.000000000000001\n",
      "\n",
      "\n",
      "data\n",
      "10.0    1\n",
      "2.0     1\n",
      "3.0     1\n",
      "4.0     1\n",
      "5.0     1\n",
      "Name: count, dtype: int64\n"
     ]
    }
   ],
   "source": [
    "#分位数\n",
    "print(s.quantile(0.8))  #0.8*4=3.2  5+(10-5)*0.2=6  \n",
    "print('\\n')\n",
    "#每个元素的计数（忽略）\n",
    "print(s.value_counts())"
   ]
  },
  {
   "cell_type": "code",
   "execution_count": 56,
   "id": "72a2f022-f6e7-4549-9564-ebd221d319c9",
   "metadata": {},
   "outputs": [
    {
     "name": "stdout",
     "output_type": "stream",
     "text": [
      "a    10.0\n",
      "b     2.0\n",
      "c     NaN\n",
      "e     3.0\n",
      "f     4.0\n",
      "g     5.0\n",
      "Name: data, dtype: float64\n",
      "[10.  2. nan  3.  4.  5.]\n",
      "5\n"
     ]
    }
   ],
   "source": [
    "#去重\n",
    "print(s.drop_duplicates()) #缺失值也去了,返回的series\n",
    "print(s.unique()) #也是去重，返回的是list，数组\n",
    "print(s.nunique()) #去重后元素的个数"
   ]
  },
  {
   "cell_type": "code",
   "execution_count": 60,
   "id": "a2b154bb-7f0c-49ef-b435-66a06c236137",
   "metadata": {},
   "outputs": [
    {
     "name": "stdout",
     "output_type": "stream",
     "text": [
      "a    10.0\n",
      "b     2.0\n",
      "c     NaN\n",
      "d     NaN\n",
      "e     3.0\n",
      "f     4.0\n",
      "g     5.0\n",
      "Name: data, dtype: float64\n",
      "b     2.0\n",
      "e     3.0\n",
      "f     4.0\n",
      "g     5.0\n",
      "a    10.0\n",
      "c     NaN\n",
      "d     NaN\n",
      "Name: data, dtype: float64\n"
     ]
    }
   ],
   "source": [
    "#排序（值，索引）\n",
    "print(s.sort_index()) #按索引排序\n",
    "print(s.sort_values()) #按值排序"
   ]
  },
  {
   "cell_type": "code",
   "execution_count": null,
   "id": "e08584be-b6c9-4305-bdde-ed0b39522226",
   "metadata": {},
   "outputs": [],
   "source": []
  }
 ],
 "metadata": {
  "kernelspec": {
   "display_name": "Python [conda env:base] *",
   "language": "python",
   "name": "conda-base-py"
  },
  "language_info": {
   "codemirror_mode": {
    "name": "ipython",
    "version": 3
   },
   "file_extension": ".py",
   "mimetype": "text/x-python",
   "name": "python",
   "nbconvert_exporter": "python",
   "pygments_lexer": "ipython3",
   "version": "3.12.7"
  }
 },
 "nbformat": 4,
 "nbformat_minor": 5
}
