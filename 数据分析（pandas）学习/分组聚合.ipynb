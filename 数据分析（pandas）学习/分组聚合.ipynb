{
 "cells": [
  {
   "cell_type": "code",
   "execution_count": null,
   "id": "56f9658a-7ece-4b6a-875c-e84b2243087e",
   "metadata": {},
   "outputs": [],
   "source": [
    "#分组聚合：df.groupby('分组的字段')[‘聚合的字段’].聚合函数\n",
    "import pandas as pd\n",
    "df=pd.read_csv('data/employees.csv')\n",
    "df['department_id']=df['department_id'].astype('int64') #将部门ID的浮点数转为整数\n",
    "#计算不同部门的平均薪资\n",
    "df1=df.groupby('department_id')[['salary']].mean() #根据部门ID算出平均工资\n",
    "df.groupby('department_id').groups  #看每组的分组情况（每个部门有哪些员工的ID）\n",
    "df.groupby('department_id').get_group(20) #查看某一组（某个部门）的员工ID\n",
    "df1=df1['salary'].round(2) #保留2位小数\n",
    "df1.reset_index() #恢复索引，原本是以salary为索引的\n",
    "df1.sort_values('salary',ascending=False) #根据工资降序排序"
   ]
  },
  {
   "cell_type": "code",
   "execution_count": null,
   "id": "a2389d5c-8cf9-4fde-82b7-89e111f05eeb",
   "metadata": {},
   "outputs": [],
   "source": [
    "#计算不同部门不同岗位的平均薪资\n",
    "df2=df.groupby(['department_id','job'])['salary'].mean()\n",
    "df2=df2.reset_index()\n",
    "df2['salary']=df2['salary'].round(2)\n",
    "df2.sort_values('salary',sacending=Flase)"
   ]
  },
  {
   "cell_type": "code",
   "execution_count": null,
   "id": "ff4443f6-0ecf-4e8c-86df-38d79b795955",
   "metadata": {},
   "outputs": [],
   "source": [
    "#agg.多个统计值\n",
    "df1=df.groupby('department_id').agg({\n",
    "    'salary':'mean',\n",
    "    'salary':'max'\n",
    "})"
   ]
  }
 ],
 "metadata": {
  "kernelspec": {
   "display_name": "Python [conda env:base] *",
   "language": "python",
   "name": "conda-base-py"
  },
  "language_info": {
   "codemirror_mode": {
    "name": "ipython",
    "version": 3
   },
   "file_extension": ".py",
   "mimetype": "text/x-python",
   "name": "python",
   "nbconvert_exporter": "python",
   "pygments_lexer": "ipython3",
   "version": "3.12.7"
  }
 },
 "nbformat": 4,
 "nbformat_minor": 5
}
