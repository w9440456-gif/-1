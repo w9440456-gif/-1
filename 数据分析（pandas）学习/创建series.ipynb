{
 "cells": [
  {
   "cell_type": "code",
   "execution_count": 10,
   "id": "6c3c134a-12a9-4b31-a9e2-3a8f008f6e0f",
   "metadata": {},
   "outputs": [
    {
     "name": "stdout",
     "output_type": "stream",
     "text": [
      "0    10\n",
      "1     2\n",
      "2     3\n",
      "3     4\n",
      "4     5\n",
      "dtype: int64\n",
      "1    10\n",
      "2     2\n",
      "3     3\n",
      "4     4\n",
      "5     5\n",
      "dtype: int64\n",
      "A    10\n",
      "B     2\n",
      "C     3\n",
      "D     4\n",
      "E     5\n",
      "Name: 月份, dtype: int64\n"
     ]
    }
   ],
   "source": [
    "import pandas as pd\n",
    "s=pd.Series([10,2,3,4,5])\n",
    "print(s)\n",
    "s=pd.Series([10,2,3,4,5],index=[1,2,3,4,5])\n",
    "print(s)\n",
    "s=pd.Series([10,2,3,4,5],index=['A','B','C','D','E'],name='月份')\n",
    "print(s)"
   ]
  },
  {
   "cell_type": "code",
   "execution_count": 12,
   "id": "b35f99d3-c189-4ef8-846b-0ebdfed2f07c",
   "metadata": {},
   "outputs": [
    {
     "name": "stdout",
     "output_type": "stream",
     "text": [
      "a    1\n",
      "b    2\n",
      "c    3\n",
      "d    4\n",
      "e    5\n",
      "dtype: int64\n",
      "A    10\n",
      "B     2\n",
      "C     3\n",
      "D     4\n",
      "E     5\n",
      "Name: 月份, dtype: int64\n",
      "A    10\n",
      "C     3\n",
      "Name: 月份, dtype: int64\n"
     ]
    }
   ],
   "source": [
    "#通过字典创建\n",
    "s=pd.Series({'a':1 ,'b':2,'c':3,'d':4,'e':5})\n",
    "print(s)\n",
    "s1=pd.Series([10,2,3,4,5],index=['A','B','C','D','E'],name='月份')\n",
    "print(s1)\n",
    "s2=pd.Series(s1,index=['A','C'])\n",
    "print(s2)"
   ]
  },
  {
   "cell_type": "code",
   "execution_count": null,
   "id": "c8d83cea-f014-4b57-8f84-7acd7a34b939",
   "metadata": {},
   "outputs": [],
   "source": []
  }
 ],
 "metadata": {
  "kernelspec": {
   "display_name": "Python [conda env:base] *",
   "language": "python",
   "name": "conda-base-py"
  },
  "language_info": {
   "codemirror_mode": {
    "name": "ipython",
    "version": 3
   },
   "file_extension": ".py",
   "mimetype": "text/x-python",
   "name": "python",
   "nbconvert_exporter": "python",
   "pygments_lexer": "ipython3",
   "version": "3.12.7"
  }
 },
 "nbformat": 4,
 "nbformat_minor": 5
}
