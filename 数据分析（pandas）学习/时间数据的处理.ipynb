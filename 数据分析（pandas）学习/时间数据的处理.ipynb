{
 "cells": [
  {
   "cell_type": "code",
   "execution_count": 5,
   "id": "7418c026-5e92-42e1-a87b-e3daafa54bcb",
   "metadata": {},
   "outputs": [
    {
     "name": "stdout",
     "output_type": "stream",
     "text": [
      "2015-02-28 10:22:00\n",
      "年: 2015\n",
      "月: 2\n",
      "日: 28\n",
      "10 22 0\n",
      "季度： 1\n",
      "是否为月底： True\n",
      "星期几： Saturday\n",
      "转化为天： 2015-02-28\n",
      "转化为季度： 2015Q1\n",
      "转化为年度： 2015\n",
      "转化为月度： 2015-02\n",
      "转化为周维度： 2015-02-23/2015-03-01\n"
     ]
    }
   ],
   "source": [
    "import pandas as pd\n",
    "d=pd.Timestamp('2015-02-28 10:22')\n",
    "print(d)\n",
    "print('年:',d.year)\n",
    "print('月:',d.month)\n",
    "print('日:',d.day)\n",
    "print(d.hour,d.minute,d.second)\n",
    "print('季度：',d.quarter)\n",
    "print('是否为月底：',d.is_month_end)\n",
    "#方法\n",
    "print('星期几：',d.day_name())\n",
    "print('转化为天：',d.to_period('D'))\n",
    "print('转化为季度：',d.to_period('Q'))\n",
    "print('转化为年度：',d.to_period('Y'))\n",
    "print('转化为月度：',d.to_period('M'))\n",
    "print('转化为周维度：',d.to_period('W'))"
   ]
  },
  {
   "cell_type": "code",
   "execution_count": 20,
   "id": "2c87adad-4010-41a2-be2d-186aa9f7eb02",
   "metadata": {},
   "outputs": [
    {
     "name": "stdout",
     "output_type": "stream",
     "text": [
      "2015-02-28 00:00:00\n",
      "<class 'pandas._libs.tslibs.timestamps.Timestamp'>\n",
      "Saturday\n"
     ]
    },
    {
     "data": {
      "text/html": [
       "<div>\n",
       "<style scoped>\n",
       "    .dataframe tbody tr th:only-of-type {\n",
       "        vertical-align: middle;\n",
       "    }\n",
       "\n",
       "    .dataframe tbody tr th {\n",
       "        vertical-align: top;\n",
       "    }\n",
       "\n",
       "    .dataframe thead th {\n",
       "        text-align: right;\n",
       "    }\n",
       "</style>\n",
       "<table border=\"1\" class=\"dataframe\">\n",
       "  <thead>\n",
       "    <tr style=\"text-align: right;\">\n",
       "      <th></th>\n",
       "      <th>sales</th>\n",
       "      <th>date</th>\n",
       "      <th>datetime</th>\n",
       "      <th>week</th>\n",
       "    </tr>\n",
       "  </thead>\n",
       "  <tbody>\n",
       "    <tr>\n",
       "      <th>0</th>\n",
       "      <td>100</td>\n",
       "      <td>20250601</td>\n",
       "      <td>2025-06-01</td>\n",
       "      <td>Sunday</td>\n",
       "    </tr>\n",
       "    <tr>\n",
       "      <th>1</th>\n",
       "      <td>200</td>\n",
       "      <td>20250602</td>\n",
       "      <td>2025-06-02</td>\n",
       "      <td>Monday</td>\n",
       "    </tr>\n",
       "    <tr>\n",
       "      <th>2</th>\n",
       "      <td>300</td>\n",
       "      <td>20250603</td>\n",
       "      <td>2025-06-03</td>\n",
       "      <td>Tuesday</td>\n",
       "    </tr>\n",
       "  </tbody>\n",
       "</table>\n",
       "</div>"
      ],
      "text/plain": [
       "   sales      date   datetime     week\n",
       "0    100  20250601 2025-06-01   Sunday\n",
       "1    200  20250602 2025-06-02   Monday\n",
       "2    300  20250603 2025-06-03  Tuesday"
      ]
     },
     "execution_count": 20,
     "metadata": {},
     "output_type": "execute_result"
    }
   ],
   "source": [
    "#字符串转换为日期类型\n",
    "a=pd.to_datetime('20150228')\n",
    "print(a)\n",
    "print(type(a))\n",
    "print(a.day_name())\n",
    "\n",
    "#dataframe 转换日期\n",
    "df=pd.DataFrame({\n",
    "    'sales':[100,200,300],\n",
    "    'date':['20250601','20250602','20250603']\n",
    "})\n",
    "df['datetime']=pd.to_datetime(df['date'])\n",
    "df['week']=pd.to_datetime(df['datetime']).dt.day_name()\n",
    "df"
   ]
  },
  {
   "cell_type": "code",
   "execution_count": 14,
   "id": "372e8829-abd6-44c8-88fd-4a02cbbe451d",
   "metadata": {},
   "outputs": [],
   "source": [
    "#csv 转换日期\n",
    "df=pd.read_csv('data/weather.csv',parse_dates=['date']) #将name列转换为日期读取文件的时候\n",
    "df['date'].dt.day_name() "
   ]
  },
  {
   "cell_type": "code",
   "execution_count": 22,
   "id": "f03d54b4-54b5-44cd-aeb3-4c393d87611b",
   "metadata": {},
   "outputs": [
    {
     "name": "stdout",
     "output_type": "stream",
     "text": [
      "   sales      date   datetime     week\n",
      "0    100  20250601 2025-06-01   Sunday\n",
      "1    200  20250602 2025-06-02   Monday\n",
      "2    300  20250603 2025-06-03  Tuesday\n",
      "          sales   datetime     week\n",
      "date                               \n",
      "20250601    100 2025-06-01   Sunday\n",
      "20250602    200 2025-06-02   Monday\n",
      "20250603    300 2025-06-03  Tuesday\n"
     ]
    }
   ],
   "source": [
    "#日期数据作为索引\n",
    "df.set_index('date')  #如果没有inplace，要重新命名才能打印出新的，不然是原来的\n",
    "print(df)\n",
    "df.set_index('date',inplace=True) #日期作为索引后，可以用于下列切片\n",
    "print(df)\n",
    "#print(df.loc['2013-01':'2013-02']) #切片"
   ]
  },
  {
   "cell_type": "code",
   "execution_count": 23,
   "id": "12e53e92-e2fa-43c5-9963-a7227ed9d7ef",
   "metadata": {},
   "outputs": [
    {
     "name": "stdout",
     "output_type": "stream",
     "text": [
      "3681 days 00:00:00 <class 'pandas._libs.tslibs.timedeltas.Timedelta'>\n"
     ]
    }
   ],
   "source": [
    "#时间间隔\n",
    "d1=pd.Timestamp('2013-01-15')\n",
    "d2=pd.Timestamp('2023-02-13')\n",
    "d3=d2-d1\n",
    "print(d3,type(d3))\n",
    "\n",
    "df=pd.read_csv('data/weather.csv',parse_dates=['date'])\n",
    "df['delta']=df['date']-df['date'][0] #添加一列=日期减去索引后日期下标为0（即第一个日期）\n",
    "df.set_index('delta',inplace=True)  #时间间隔为索引，立即生效\n",
    "print(df.loc['10 days':'20 days'])  #时间间隔索引后切片用时间间隔"
   ]
  },
  {
   "cell_type": "code",
   "execution_count": 29,
   "id": "8d2b8280-886d-4388-b7fe-b87809edda52",
   "metadata": {},
   "outputs": [
    {
     "name": "stdout",
     "output_type": "stream",
     "text": [
      "DatetimeIndex(['2026-01-01', '2027-01-01', '2028-01-01', '2029-01-01',\n",
      "               '2030-01-01', '2031-01-01', '2032-01-01', '2033-01-01',\n",
      "               '2034-01-01', '2035-01-01'],\n",
      "              dtype='datetime64[ns]', freq='YS-JAN')\n"
     ]
    }
   ],
   "source": [
    "days=pd.date_range('2025-07-03','2026-02-09',freq='W') #开始到结束时间，每周为单位\n",
    "days=pd.date_range('2025-07-03',periods=10,freq='YS') #开始-10个年度周期：ys年初，ye年底\n",
    "print(days)"
   ]
  },
  {
   "cell_type": "code",
   "execution_count": null,
   "id": "ac2d5ef8-d435-41f4-a467-0865f9eaffeb",
   "metadata": {},
   "outputs": [],
   "source": [
    "df=pd.read_csv('data/weather.csv',parse_dates=['date'])\n",
    "#重新采样\n",
    "df.set_index('date',inplace=True)\n",
    "df[['temp_max','temp_min']].resample('MS').mean() #重新以每月初的平均值采样\n"
   ]
  }
 ],
 "metadata": {
  "kernelspec": {
   "display_name": "Python [conda env:base] *",
   "language": "python",
   "name": "conda-base-py"
  },
  "language_info": {
   "codemirror_mode": {
    "name": "ipython",
    "version": 3
   },
   "file_extension": ".py",
   "mimetype": "text/x-python",
   "name": "python",
   "nbconvert_exporter": "python",
   "pygments_lexer": "ipython3",
   "version": "3.12.7"
  }
 },
 "nbformat": 4,
 "nbformat_minor": 5
}
