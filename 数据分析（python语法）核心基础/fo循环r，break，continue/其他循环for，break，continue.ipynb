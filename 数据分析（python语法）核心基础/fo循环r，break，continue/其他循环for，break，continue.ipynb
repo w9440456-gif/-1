{
 "cells": [
  {
   "cell_type": "code",
   "execution_count": 1,
   "id": "79a5f8a2-a3ab-456a-bf60-d595962514ec",
   "metadata": {},
   "outputs": [
    {
     "name": "stdout",
     "output_type": "stream",
     "text": [
      "1-100的累积和是5050\n"
     ]
    }
   ],
   "source": [
    "#range()函数:rnage(1,5,2) 左闭右开，从1开始，取到5，间距为2.range(5):默认0开始，间距为1\n",
    "#1-100累积和\n",
    "sum=0 #最后的结果贮存\n",
    "for i in range(101):\n",
    "    sum=sum+i\n",
    "print(f'1-100的累积和是{sum}')"
   ]
  },
  {
   "cell_type": "code",
   "execution_count": 4,
   "id": "6d7fe0e7-2d5f-44b0-8738-84fc9f3d114d",
   "metadata": {},
   "outputs": [
    {
     "name": "stdout",
     "output_type": "stream",
     "text": [
      "1*1=1\t\n",
      "1*2=2\t2*2=4\t\n",
      "1*3=3\t2*3=6\t3*3=9\t\n",
      "1*4=4\t2*4=8\t3*4=12\t4*4=16\t\n",
      "1*5=5\t2*5=10\t3*5=15\t4*5=20\t5*5=25\t\n",
      "1*6=6\t2*6=12\t3*6=18\t4*6=24\t5*6=30\t6*6=36\t\n",
      "1*7=7\t2*7=14\t3*7=21\t4*7=28\t5*7=35\t6*7=42\t7*7=49\t\n",
      "1*8=8\t2*8=16\t3*8=24\t4*8=32\t5*8=40\t6*8=48\t7*8=56\t8*8=64\t\n",
      "1*9=9\t2*9=18\t3*9=27\t4*9=36\t5*9=45\t6*9=54\t7*9=63\t8*9=72\t9*9=81\t\n"
     ]
    }
   ],
   "source": [
    "#九九乘法表\n",
    "for row in range(1,10):\n",
    "    for col in range(1,row+1):\n",
    "        print(f'{col}*{row}={col*row}',end='\\t')\n",
    "    print()"
   ]
  },
  {
   "cell_type": "code",
   "execution_count": 6,
   "id": "91237e12-2202-4873-8956-a7157be9dbba",
   "metadata": {},
   "outputs": [
    {
     "name": "stdout",
     "output_type": "stream",
     "text": [
      "1\n",
      "2\n"
     ]
    }
   ],
   "source": [
    "#break和continue只能在循环体内使用\n",
    "i=0\n",
    "while i <=5:\n",
    "    i+=1\n",
    "    if i==3:\n",
    "        break\n",
    "    print(i)\n",
    "else:\n",
    "    print('已经打印完成了')\n",
    "#else和while可以配对使用，配对使用时，有break不输出，正常循环结束会输出"
   ]
  },
  {
   "cell_type": "code",
   "execution_count": 7,
   "id": "1a2a2342-1b84-4970-999c-676a5b8e6fb4",
   "metadata": {},
   "outputs": [
    {
     "name": "stdout",
     "output_type": "stream",
     "text": [
      "0\n",
      "1\n",
      "2\n"
     ]
    }
   ],
   "source": [
    "for i in range(5):\n",
    "    if i==3:\n",
    "        break\n",
    "    print(i)"
   ]
  },
  {
   "cell_type": "code",
   "execution_count": 8,
   "id": "f1719638-a066-4fd9-ab4f-2f44ef2e4268",
   "metadata": {},
   "outputs": [
    {
     "name": "stdout",
     "output_type": "stream",
     "text": [
      "haha\n",
      "0\n",
      "1\n",
      "haha\n",
      "0\n",
      "1\n",
      "haha\n",
      "0\n",
      "1\n",
      "haha\n",
      "0\n",
      "1\n",
      "haha\n",
      "0\n",
      "1\n"
     ]
    }
   ],
   "source": [
    "#break结束当层循环 \n",
    "for i in range(5):\n",
    "    print('haha')  #外层循环打印 5次哈哈\n",
    "    for i in range(3):\n",
    "        if i==2:\n",
    "            break\n",
    "        else:\n",
    "            print(i)"
   ]
  },
  {
   "cell_type": "code",
   "execution_count": 10,
   "id": "5d382149-c734-44f1-b5c4-fce220835a8a",
   "metadata": {},
   "outputs": [
    {
     "name": "stdout",
     "output_type": "stream",
     "text": [
      "1\n",
      "2\n",
      "4\n",
      "5\n"
     ]
    }
   ],
   "source": [
    "#continue结束当轮循环，继续执行下一轮\n",
    "a=0\n",
    "while a<5:\n",
    "    a+=1\n",
    "    if a==3:\n",
    "        continue  #跳过3的那一轮，那一轮后面的代码都不执行\n",
    "    print(a)"
   ]
  },
  {
   "cell_type": "code",
   "execution_count": null,
   "id": "b14c21c8-de9e-466f-b041-57225c1a6031",
   "metadata": {},
   "outputs": [],
   "source": []
  }
 ],
 "metadata": {
  "kernelspec": {
   "display_name": "Python [conda env:base] *",
   "language": "python",
   "name": "conda-base-py"
  },
  "language_info": {
   "codemirror_mode": {
    "name": "ipython",
    "version": 3
   },
   "file_extension": ".py",
   "mimetype": "text/x-python",
   "name": "python",
   "nbconvert_exporter": "python",
   "pygments_lexer": "ipython3",
   "version": "3.12.7"
  }
 },
 "nbformat": 4,
 "nbformat_minor": 5
}
