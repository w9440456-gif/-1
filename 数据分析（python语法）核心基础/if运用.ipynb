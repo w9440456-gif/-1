{
 "cells": [
  {
   "cell_type": "code",
   "execution_count": 2,
   "id": "636b6e1c-4dbb-4f35-be28-1a6cc053b854",
   "metadata": {},
   "outputs": [
    {
     "name": "stdin",
     "output_type": "stream",
     "text": [
      "请输入你的成绩： 85\n"
     ]
    },
    {
     "name": "stdout",
     "output_type": "stream",
     "text": [
      "优秀\n"
     ]
    }
   ],
   "source": [
    "score=int(input('请输入你的成绩：'))\n",
    "if score>=90 and score<=100:\n",
    "    print('特优')\n",
    "elif score>=80 and score<=90:\n",
    "    print('优秀')\n",
    "elif score>=70 and score<=80:\n",
    "    print('良好')\n",
    "elif score>=60 and score<=70:\n",
    "    print('及格')\n",
    "else:\n",
    "    print('输入的数字无效，请重新输入')"
   ]
  },
  {
   "cell_type": "code",
   "execution_count": 3,
   "id": "84a0bc58-d483-4a48-b7b1-66dbc5cc5287",
   "metadata": {},
   "outputs": [
    {
     "name": "stdout",
     "output_type": "stream",
     "text": [
      "有车票，可以开始安检\n",
      "不允许带上车，刀的长度是30\n"
     ]
    }
   ],
   "source": [
    "#安检实例\n",
    "has_ticket=True  #有票\n",
    "knife_length=30\n",
    "if has_ticket:\n",
    "    print('有车票，可以开始安检')\n",
    "    if knife_length<=20:\n",
    "        print('安检通过，祝您旅途愉快！')\n",
    "    else:\n",
    "        print(f'不允许带上车，刀的长度是{knife_length}')\n",
    "else:\n",
    "    print('没有车票，不允许上车')"
   ]
  },
  {
   "cell_type": "code",
   "execution_count": 6,
   "id": "bcb7f607-edb1-484d-a690-112de767a45e",
   "metadata": {},
   "outputs": [
    {
     "name": "stdout",
     "output_type": "stream",
     "text": [
      "请上车\n",
      "你可以坐在座位上\n"
     ]
    }
   ],
   "source": [
    "#坐公交实例\n",
    "money=True #有钱\n",
    "sit=True   #有座位\n",
    "if money:\n",
    "    print('请上车')\n",
    "    if sit:\n",
    "        print('你可以坐在座位上')\n",
    "    else:\n",
    "        print('请站着')\n",
    "else:\n",
    "    pring('很抱歉，没有钱不能上车')"
   ]
  },
  {
   "cell_type": "code",
   "execution_count": 9,
   "id": "67ab91f8-e40f-4a18-9ef9-e9327fe7fbe2",
   "metadata": {},
   "outputs": [
    {
     "name": "stdout",
     "output_type": "stream",
     "text": [
      "2\n",
      "b最大\n"
     ]
    }
   ],
   "source": [
    "#三元表达式\n",
    "a=1\n",
    "b=2\n",
    "print(a if a>b else b) #如果a>b输出a，否则输出b\n",
    "print('a最大') if a>b else print('b最大') #同上逻辑"
   ]
  },
  {
   "cell_type": "code",
   "execution_count": 14,
   "id": "10ef5ec7-7d1e-4320-8c30-a9681f033f90",
   "metadata": {},
   "outputs": [
    {
     "name": "stdin",
     "output_type": "stream",
     "text": [
      "请出拳：剪刀（0），石头（1），布（2） 2\n"
     ]
    },
    {
     "name": "stdout",
     "output_type": "stream",
     "text": [
      "电脑出拳是0\n",
      "很遗憾你输了，洗洗手再来\n"
     ]
    }
   ],
   "source": [
    "#剪刀石头布游戏（比较运算符用==）\n",
    "import random\n",
    "ni=int(input('请出拳：剪刀（0），石头（1），布（2）')) #键盘输入的是字符串要转化为整数\n",
    "com=random.randint(0,2) #0，1，2随机取数  在【0-2】随机取整数\n",
    "print(f'电脑出拳是{com}')\n",
    "#赢的情况\n",
    "if ((ni==0) and (com==2)) or ((ni==1) and (com==0)) or((ni==2) and (com==1)):\n",
    "    print('恭喜你，手气不错，赢了')\n",
    "#平局的情况\n",
    "elif ni==com:\n",
    "    print('平局，要不再来一局')\n",
    "#输的情况\n",
    "else:\n",
    "    print('很遗憾你输了，洗洗手再来')  #拓展：随机数 random.choice('剪刀','石头','步')"
   ]
  }
 ],
 "metadata": {
  "kernelspec": {
   "display_name": "Python [conda env:base] *",
   "language": "python",
   "name": "conda-base-py"
  },
  "language_info": {
   "codemirror_mode": {
    "name": "ipython",
    "version": 3
   },
   "file_extension": ".py",
   "mimetype": "text/x-python",
   "name": "python",
   "nbconvert_exporter": "python",
   "pygments_lexer": "ipython3",
   "version": "3.12.7"
  }
 },
 "nbformat": 4,
 "nbformat_minor": 5
}
