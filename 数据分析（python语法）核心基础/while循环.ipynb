{
 "cells": [
  {
   "cell_type": "code",
   "execution_count": 1,
   "id": "f5d5a3c3-69cc-4f86-9197-f988f903d2bd",
   "metadata": {},
   "outputs": [
    {
     "name": "stdout",
     "output_type": "stream",
     "text": [
      "1-100的累积和是5050\n"
     ]
    }
   ],
   "source": [
    "#计算1-100的累积值\n",
    "i=1 \n",
    "sum=0 #定义最后结果的变量\n",
    "while i<=100:\n",
    "    sum=sum+i\n",
    "    i+=1 #计数器\n",
    "print(f'1-100的累积和是{sum}')"
   ]
  },
  {
   "cell_type": "code",
   "execution_count": 2,
   "id": "f8ba6a7a-dbe4-4a3b-ac03-1d40963afb63",
   "metadata": {},
   "outputs": [
    {
     "name": "stdout",
     "output_type": "stream",
     "text": [
      "1-100的偶数累积和是2550\n"
     ]
    }
   ],
   "source": [
    "#计算1-100的偶数和（法一）\n",
    "i=1\n",
    "sum=0\n",
    "while i<=100:\n",
    "    if i%2==0:\n",
    "        sum=sum+i\n",
    "    i+=1\n",
    "print(f'1-100的偶数累积和是{sum}')"
   ]
  },
  {
   "cell_type": "code",
   "execution_count": 3,
   "id": "05da80d7-fe90-4027-ba8c-71cf71b2b7a3",
   "metadata": {},
   "outputs": [
    {
     "name": "stdout",
     "output_type": "stream",
     "text": [
      "1-100的累积和是2550\n"
     ]
    }
   ],
   "source": [
    "#计算1-100的偶数和（法二）\n",
    "i=0 \n",
    "sum=0 #定义最后结果的变量\n",
    "while i<=100:\n",
    "    sum=sum+i\n",
    "    i+=2 #计数器\n",
    "print(f'1-100的偶数累积和是{sum}')"
   ]
  },
  {
   "cell_type": "code",
   "execution_count": 5,
   "id": "d55f5d0c-8fad-462f-a855-d11d3722b9f1",
   "metadata": {},
   "outputs": [
    {
     "name": "stdout",
     "output_type": "stream",
     "text": [
      "0-102的偶数累积和是2652\n"
     ]
    }
   ],
   "source": [
    "#计数器的位置\n",
    "i=0 \n",
    "sum=0 #定义最后结果的变量\n",
    "while i<=100:\n",
    "    i+=2 #计数器\n",
    "    sum=sum+i\n",
    "print(f'0-102的偶数累积和是{sum}')"
   ]
  },
  {
   "cell_type": "code",
   "execution_count": 6,
   "id": "765bf2b9-7091-483d-8a00-fea70d549267",
   "metadata": {},
   "outputs": [
    {
     "name": "stdout",
     "output_type": "stream",
     "text": [
      "媳妇，我错了\n",
      "媳妇，我错了\n",
      "媳妇，我错了\n",
      "罚跪榴莲\n",
      "一套惩罚结束·····\n",
      "媳妇，我错了\n",
      "媳妇，我错了\n",
      "媳妇，我错了\n",
      "罚跪榴莲\n",
      "一套惩罚结束·····\n",
      "媳妇，我错了\n",
      "媳妇，我错了\n",
      "媳妇，我错了\n",
      "罚跪榴莲\n",
      "一套惩罚结束·····\n"
     ]
    }
   ],
   "source": [
    "#while嵌套\n",
    "j=0\n",
    "while j<3:  #连续3天执行的动作\n",
    "    i=0\n",
    "    while i<3:  #每天说3遍我错了\n",
    "        print('媳妇，我错了')\n",
    "        i+=1\n",
    "    print('罚跪榴莲')\n",
    "    print('一套惩罚结束·····')\n",
    "    j+=1"
   ]
  },
  {
   "cell_type": "code",
   "execution_count": 8,
   "id": "08b30465-31be-4a70-9958-8da2c495cf41",
   "metadata": {},
   "outputs": [
    {
     "name": "stdout",
     "output_type": "stream",
     "text": [
      "* \n",
      "* * \n",
      "* * * \n",
      "* * * * \n",
      "* * * * * \n"
     ]
    }
   ],
   "source": [
    "#打印小星星\n",
    "i=1\n",
    "while i<=5:\n",
    "    print('* '*i)  #字符串的复制 \n",
    "    i+=1"
   ]
  },
  {
   "cell_type": "code",
   "execution_count": 11,
   "id": "4d4779d4-2d88-41ec-835b-510cf032ba76",
   "metadata": {},
   "outputs": [
    {
     "name": "stdout",
     "output_type": "stream",
     "text": [
      "* \n",
      "* * \n",
      "* * * \n",
      "* * * * \n",
      "* * * * * \n"
     ]
    }
   ],
   "source": [
    "#打印小星星（2）\n",
    "row=1 #定义行数\n",
    "while row<=5:\n",
    "    col=1  #定义列数\n",
    "    while col<=row:\n",
    "        print('* ',end='')  #取消换行(横着输出)，在一行输出*，* *\n",
    "        col+=1  #自加，计数器，循环row次\n",
    "    print() #print自带换行：手动换行\n",
    "    row+=1  #自加，循环5次\n",
    "    "
   ]
  },
  {
   "cell_type": "code",
   "execution_count": 14,
   "id": "c2fff079-98ac-4ddf-8e5e-25b31db59fd9",
   "metadata": {},
   "outputs": [
    {
     "name": "stdout",
     "output_type": "stream",
     "text": [
      "1*1=1\t\n",
      "1*2=2\t2*2=4\t\n",
      "1*3=3\t2*3=6\t3*3=9\t\n",
      "1*4=4\t2*4=8\t3*4=12\t4*4=16\t\n",
      "1*5=5\t2*5=10\t3*5=15\t4*5=20\t5*5=25\t\n",
      "1*6=6\t2*6=12\t3*6=18\t4*6=24\t5*6=30\t6*6=36\t\n",
      "1*7=7\t2*7=14\t3*7=21\t4*7=28\t5*7=35\t6*7=42\t7*7=49\t\n",
      "1*8=8\t2*8=16\t3*8=24\t4*8=32\t5*8=40\t6*8=48\t7*8=56\t8*8=64\t\n",
      "1*9=9\t2*9=18\t3*9=27\t4*9=36\t5*9=45\t6*9=54\t7*9=63\t8*9=72\t9*9=81\t\n"
     ]
    }
   ],
   "source": [
    "#打印九九乘法表\n",
    "row=1 #定义行数\n",
    "while row<=9:\n",
    "    col=1  #定义列数\n",
    "    while col<=row:\n",
    "        print(f'{col}*{row}={row*col}',end='\\t') #横着输出\n",
    "        col+=1  #自加，计数器，循环row次\n",
    "    print() #print自带换行：手动换行\n",
    "    row+=1 #循环9次"
   ]
  }
 ],
 "metadata": {
  "kernelspec": {
   "display_name": "Python [conda env:base] *",
   "language": "python",
   "name": "conda-base-py"
  },
  "language_info": {
   "codemirror_mode": {
    "name": "ipython",
    "version": 3
   },
   "file_extension": ".py",
   "mimetype": "text/x-python",
   "name": "python",
   "nbconvert_exporter": "python",
   "pygments_lexer": "ipython3",
   "version": "3.12.7"
  }
 },
 "nbformat": 4,
 "nbformat_minor": 5
}
