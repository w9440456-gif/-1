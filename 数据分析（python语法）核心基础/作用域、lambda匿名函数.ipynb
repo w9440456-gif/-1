{
 "cells": [
  {
   "cell_type": "code",
   "execution_count": 1,
   "id": "69bc85a4-94d5-439d-9e4c-73f0f11de919",
   "metadata": {},
   "outputs": [
    {
     "name": "stdout",
     "output_type": "stream",
     "text": [
      "funa第一次的值：1\n",
      "funa第二次的值：2\n",
      "funb第一次的值：3\n"
     ]
    }
   ],
   "source": [
    "#作用域：作用的范围\n",
    "#局部变量\n",
    "#不同的函数可以定义相同的局部变量\n",
    "def funa():\n",
    "    a=1\n",
    "    print('funa第一次的值：%s' % a)\n",
    "    a=2\n",
    "    print('funa第二次的值：%s' % a)\n",
    "def funb():\n",
    "    a=3\n",
    "    print('funb第一次的值：%s' % a)\n",
    "funa()\n",
    "funb()\n",
    "\n",
    "#全局变量\n",
    "#作用范围：当前文件里\n",
    "a=100         #全局变量\n",
    "def func():\n",
    "    a=200     #局部变量\n",
    "    print(a)  #查找顺序局部变量>全局变量>内置\n",
    "def fund():\n",
    "    print(a)"
   ]
  },
  {
   "cell_type": "code",
   "execution_count": 10,
   "id": "428b1361-2345-444c-b887-1b1fa32c457e",
   "metadata": {},
   "outputs": [
    {
     "name": "stdout",
     "output_type": "stream",
     "text": [
      "200\n",
      "200\n",
      "1\n",
      "2\n",
      "[1, 100, 3, 4]\n",
      "funb中的a 1\n",
      "funa中的a 2\n",
      "10\n"
     ]
    }
   ],
   "source": [
    "#global（针对是不可变对象）\n",
    "a=100         #全局变量\n",
    "def funa():\n",
    "    global a  #函数内部a声明为全局变量\n",
    "    a=200     #a重新赋值\n",
    "    print(a)  \n",
    "def funb():\n",
    "    print(a)\n",
    "funa()\n",
    "funb()\n",
    "#修改\n",
    "#a=1\n",
    "#def func():\n",
    "#    print(a)\n",
    "#    a=2\n",
    "#func() 会报错，因为执行顺序从上到下，a应是1，但函数体内的a为局部变量，又要优先查找\n",
    "a=1\n",
    "def func():\n",
    "    global a  #声明函数体内的a为全局变量，不声明的话是局部变量\n",
    "    print(a)  #1\n",
    "    a=2       #修改全局变量为a=2\n",
    "func()        #输出的是1\n",
    "print(a)      #修改后的全局变量\n",
    "\n",
    "#可变对象\n",
    "list1=[1,2,3,4] #list是可变对象，指向的地址没有变化\n",
    "def fun():\n",
    "    list1[1]=100 #list指向的地址没有变化，不用声明\n",
    "    print(list1)\n",
    "fun()\n",
    "\n",
    "#nonlocal(针对的也是不可变对象，内容变了地址也会变，必须声明，可变对象不用声明)\n",
    "a=10。               #全局变量\n",
    "def funa():\n",
    "    a=1              #funa的局部变量\n",
    "    def funb():\n",
    "        nonlocal a   #声明函数体的a为外层的局部变量：funa的局部变量\n",
    "        print('funb中的a',a)  #1\n",
    "        a=2                  #修改funa的局部变量为a=2\n",
    "    funb()\n",
    "    print('funa中的a',a)\n",
    "funa()                       #调用funa\n",
    "print(a)                     #输出的仍为全局变量"
   ]
  },
  {
   "cell_type": "code",
   "execution_count": 20,
   "id": "47c7fd2a-24ab-4cce-8ff7-24f054324a76",
   "metadata": {},
   "outputs": [
    {
     "name": "stdout",
     "output_type": "stream",
     "text": [
      "3\n",
      "3\n",
      "['a', 'c']\n",
      "['a', 'c']\n",
      "4\n",
      "4\n",
      "100\n"
     ]
    }
   ],
   "source": [
    "#匿名函数lambda:对简单函数的定义\n",
    "#函数名=lambda 形参：返回值\n",
    "#求和\n",
    "def funa(a,b):\n",
    "    return a+b\n",
    "print(funa(1,2))\n",
    "\n",
    "fun=lambda a,b:a+b\n",
    "print(fun(1,2))\n",
    "\n",
    "#返回下标0和2的元素\n",
    "#1、\n",
    "str='abcde'\n",
    "a=[]\n",
    "a.append(str[0])\n",
    "a.append(str[2])\n",
    "print(a)\n",
    "#2、\n",
    "funb=lambda x:[x[0],x[2]]\n",
    "print(funb('abcde'))\n",
    "\n",
    "#比大小\n",
    "a=4\n",
    "b=3\n",
    "print(a) if a>b else print(b) #三目运算语法 if满足条件返回print（a）\n",
    "\n",
    "func=lambda x,y:x if x>y else y\n",
    "print(func(4,3))\n",
    "\n",
    "#求平方\n",
    "a=lambda x:x**2\n",
    "print(a(10))"
   ]
  },
  {
   "cell_type": "code",
   "execution_count": null,
   "id": "a8231e02-91b1-4ca4-a73a-b3f7d4689939",
   "metadata": {},
   "outputs": [],
   "source": []
  }
 ],
 "metadata": {
  "kernelspec": {
   "display_name": "Python [conda env:base] *",
   "language": "python",
   "name": "conda-base-py"
  },
  "language_info": {
   "codemirror_mode": {
    "name": "ipython",
    "version": 3
   },
   "file_extension": ".py",
   "mimetype": "text/x-python",
   "name": "python",
   "nbconvert_exporter": "python",
   "pygments_lexer": "ipython3",
   "version": "3.12.7"
  }
 },
 "nbformat": 4,
 "nbformat_minor": 5
}
