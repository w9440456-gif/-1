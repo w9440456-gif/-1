{
 "cells": [
  {
   "cell_type": "code",
   "execution_count": 6,
   "id": "e856e922-2aae-4c67-8235-dfdf67459c93",
   "metadata": {},
   "outputs": [
    {
     "name": "stdout",
     "output_type": "stream",
     "text": [
      "1\n",
      "<class 'int'>\n",
      "(1,)\n",
      "<class 'tuple'>\n",
      "hello\n",
      "<class 'str'>\n",
      "('hello',)\n",
      "<class 'tuple'>\n"
     ]
    }
   ],
   "source": [
    "#元组的定义：（1，2，3） 元组不可修改和删除(不能删除其中的数据，但是可以整体删)！！\n",
    "#单个数据的原组，必须结尾加逗号\n",
    "t2=(1) #这里没加逗号，本质还是字符串类型\n",
    "print(t2)\n",
    "print(type(t2))\n",
    "t2=(1,)\n",
    "print(t2)\n",
    "print(type(t2))\n",
    "t2=('hello')\n",
    "print(t2)\n",
    "print(type(t2))\n",
    "t2=('hello',)\n",
    "print(t2)\n",
    "print(type(t2))"
   ]
  },
  {
   "cell_type": "code",
   "execution_count": 14,
   "id": "d52e045c-cc9a-4782-879b-0ba6c8fc836e",
   "metadata": {},
   "outputs": [
    {
     "name": "stdout",
     "output_type": "stream",
     "text": [
      "hello\n",
      "0\n",
      "0\n",
      "2\n",
      "2\n",
      "['hello', 'world']\n",
      "hello\n",
      "('2', '3', ['world', 'world'], '4')\n"
     ]
    }
   ],
   "source": [
    "#查 \n",
    "#1、通过下标查数据\n",
    "t1=('hello','world')\n",
    "print(t1[0])\n",
    "#2、通过index查数据下标位置\n",
    "t1=('hello','world')\n",
    "print(t1.index(\"hello\"))\n",
    "#3、count统计某数据次数\n",
    "t1=('hello','world','hello')\n",
    "print(t1.index(\"hello\"))\n",
    "print(t1.count('hello'))\n",
    "#4、len()统计总数据的个数\n",
    "t1=('hello','world')\n",
    "print(len(t1))\n",
    "\n",
    "#5、拓展：元组’可变‘的情况（本质还是在修改列表）\n",
    "t2=('2','3',['hello','world'],'4')\n",
    "print(t2[2])\n",
    "print(t2[2][0])\n",
    "t2[2][0]='world'\n",
    "print(t2)"
   ]
  },
  {
   "cell_type": "code",
   "execution_count": 22,
   "id": "79da270c-fc15-4e6f-80ec-a02827c6a2ef",
   "metadata": {},
   "outputs": [
    {
     "name": "stdout",
     "output_type": "stream",
     "text": [
      "{'name': 'tom', 'gender': '男', 'age': 18}\n",
      "{'name': 'amy', 'gender': '男', 'age': 18}\n"
     ]
    }
   ],
   "source": [
    "#字典的定义：用大括号，以键值对成对形式，key是唯一的，不通过下标查找\n",
    "dict1={'name':'tom','gender':'男','age':18}\n",
    "dict2={'name':'tom','gender':'男','age':18,'name':'amy'}#第二个name覆盖第一个了\n",
    "print(dict1)\n",
    "print(dict2)\n",
    "\n",
    "#定义空字典\n",
    "dict3={}\n",
    "dict3=dict()"
   ]
  },
  {
   "cell_type": "code",
   "execution_count": 31,
   "id": "a270dabc-609d-435e-98a6-0e88da27976a",
   "metadata": {},
   "outputs": [
    {
     "name": "stdout",
     "output_type": "stream",
     "text": [
      "{'name': 'jack', 'gender': '男', 'age': 18}\n",
      "{'name': 'tom', 'gender': '男', 'age': 18, 'ID': 110}\n",
      "{'gender': '男', 'age': 18}\n",
      "{}\n"
     ]
    }
   ],
   "source": [
    "#1、修改(有则覆盖)\n",
    "dict1={'name':'tom','gender':'男','age':18}\n",
    "dict1['name']='jack'\n",
    "print(dict1)\n",
    "#2、增（无则覆盖）\n",
    "dict1={'name':'tom','gender':'男','age':18}\n",
    "dict1['ID']=110\n",
    "print(dict1)\n",
    "#3、删除\n",
    "dict1={'name':'tom','gender':'男','age':18}\n",
    "del dict1['name']\n",
    "print(dict1)\n",
    "dict1.clear()\n",
    "print(dict1)"
   ]
  },
  {
   "cell_type": "code",
   "execution_count": 38,
   "id": "0167574e-042e-455b-9c93-14c81a3b9e3e",
   "metadata": {},
   "outputs": [
    {
     "name": "stdout",
     "output_type": "stream",
     "text": [
      "tom\n",
      "3\n",
      "dict_keys(['name', 'gender', 'age'])\n",
      "dict_values(['tom', '男', 18])\n",
      "dict_items([('name', 'tom'), ('gender', '男'), ('age', 18)])\n"
     ]
    }
   ],
   "source": [
    "#4、查\n",
    "#通过key查\n",
    "dict1={'name':'tom','gender':'男','age':18}\n",
    "print(dict1['name'])\n",
    "#通过len()查键值对的个数\n",
    "print(len(dict1))\n",
    "#通过keys查看所有键，返回列表\n",
    "print(dict1.keys())\n",
    "#values()查看所有值，返回列表\n",
    "print(dict1.values())\n",
    "#items() 查看所有键值，返回列表\n",
    "print(dict1.items())"
   ]
  },
  {
   "cell_type": "code",
   "execution_count": 44,
   "id": "de5b5c04-c03b-4c7f-969a-ed8dcef214dc",
   "metadata": {},
   "outputs": [
    {
     "name": "stdout",
     "output_type": "stream",
     "text": [
      "tom\n",
      "男\n",
      "18\n",
      "name\n",
      "gender\n",
      "age\n",
      "('name', 'tom')\n",
      "('gender', '男')\n",
      "('age', 18)\n",
      "name:tom\n",
      "gender:男\n",
      "age:18\n"
     ]
    }
   ],
   "source": [
    "#字典的循环遍历\n",
    "dict1={'name':'tom','gender':'男','age':18}\n",
    "#循环遍历values\n",
    "for value in dict1.values(): #这里第一个value，只是定义一个变量接受\n",
    "    print(value)\n",
    "#循环遍历keys\n",
    "for key in dict1.keys(): \n",
    "    print(key)\n",
    "#循环遍历items\n",
    "for item in dict1.items():\n",
    "    print(item)\n",
    "#格式化输出 key=value\n",
    "for key,value in dict1.items():\n",
    "    print(f'{key}:{value}')"
   ]
  },
  {
   "cell_type": "code",
   "execution_count": null,
   "id": "cfbfc7fd-dfc8-410f-83a8-c1df968b7e0f",
   "metadata": {},
   "outputs": [],
   "source": []
  }
 ],
 "metadata": {
  "kernelspec": {
   "display_name": "Python [conda env:base] *",
   "language": "python",
   "name": "conda-base-py"
  },
  "language_info": {
   "codemirror_mode": {
    "name": "ipython",
    "version": 3
   },
   "file_extension": ".py",
   "mimetype": "text/x-python",
   "name": "python",
   "nbconvert_exporter": "python",
   "pygments_lexer": "ipython3",
   "version": "3.12.7"
  }
 },
 "nbformat": 4,
 "nbformat_minor": 5
}
