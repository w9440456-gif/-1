{
 "cells": [
  {
   "cell_type": "code",
   "execution_count": 7,
   "id": "51b535c4-b4b0-4564-a1cd-b1d5ba785779",
   "metadata": {},
   "outputs": [
    {
     "name": "stdout",
     "output_type": "stream",
     "text": [
      "[(1, 'a'), (2, 'b'), (3, 'c')]\n",
      "[1, 4, 9, 16]\n",
      "[1, 4, 9, 16]\n",
      "10\n",
      "10\n"
     ]
    }
   ],
   "source": [
    "# 内置函数 （print、list、dic、set、tuple、max等）\n",
    "#zip()打包函数 将对象中对应的元素打包成一个个元组返回,变量元素不一样时，按最短的打包\n",
    "a=[1,2,3]\n",
    "b=['a','b','c','d']\n",
    "print(list(zip(a,b)))\n",
    "\n",
    "#map()函数：map(函数名，可迭代对象) 映射函数\n",
    "#作用：对可迭代对象中的每个元素进行映射，分别执行function\n",
    "#计算每个元素的平方\n",
    "li=[1,2,3,4]\n",
    "def funa(x):\n",
    "    return x*x\n",
    "mp=map(funa,li)\n",
    "print(list(mp))\n",
    "#使用lambda\n",
    "print(list(map(lambda x:x*x,li)))\n",
    "\n",
    "#reduce（）减少  可迭代中通过计算使元素不断减少，最终得到一个计算值\n",
    "#reduce（函数名，可迭代对象）\n",
    "from functools import reduce\n",
    "def func(x,y):\n",
    "    return x+y\n",
    "res=reduce(func,[1,2,3,4])\n",
    "print(res)\n",
    "#用lambda\n",
    "l=reduce(lambda x,y:x+y,[1,2,3,4])\n",
    "print(l)"
   ]
  },
  {
   "cell_type": "code",
   "execution_count": 12,
   "id": "0c3ea2fc-1ec7-419b-965b-fdee59bfa2c3",
   "metadata": {},
   "outputs": [
    {
     "name": "stdout",
     "output_type": "stream",
     "text": [
      "0 a\n",
      "1 b\n",
      "2 c\n",
      "3 d\n",
      "[(0, 'a'), (1, 'b'), (2, 'c'), (3, 'd')]\n",
      "{0: 'a', 1: 'b', 2: 'c', 3: 'd'}\n",
      "(10, 20, 30)\n",
      "10\n",
      "20\n",
      "30\n"
     ]
    }
   ],
   "source": [
    "#enumerate()枚举 用于将一个可遍历的数据对象作为索引序列，引出下标和对应的数据，常用于for循环\n",
    "li=['a','b','c','d']\n",
    "for i,j in enumerate(li):\n",
    "    print(i,j)\n",
    "print(list(enumerate(li))) #以列表形式\n",
    "print(dict(enumerate(li))) #以字典形式\n",
    "\n",
    "#拆包\n",
    "def test():\n",
    "    a=10\n",
    "    b=20\n",
    "    c=30\n",
    "    return a,b,c\n",
    "print(test())  #return返回多个值时，以元组的形式返回到调用处\n",
    "a1,b1,c1=test()\n",
    "print(a1)\n",
    "print(b1)\n",
    "print(c1)"
   ]
  },
  {
   "cell_type": "code",
   "execution_count": 17,
   "id": "fe29b452-c023-4b42-92d2-9e2b2459f1d5",
   "metadata": {},
   "outputs": [
    {
     "name": "stdout",
     "output_type": "stream",
     "text": [
      "1\n",
      "4\n",
      "[2, 3]\n",
      "1\n",
      "[2, 3]\n",
      "name age gender\n"
     ]
    }
   ],
   "source": [
    "#元组拆包升级版\n",
    "tu=(1,2,3,4)\n",
    "a,*c,b=tu    #拆包 类似于函数的参数，但不完全相同，a分配得1，b是得最后一个（在函数参数的话，b是得不到的，因为是命名关键字参数）\n",
    "print(a)\n",
    "print(b)\n",
    "print(c)\n",
    "\n",
    "#列表拆包\n",
    "a,*b=1,2,3  #这里不打【】，默认是列表\n",
    "print(a)\n",
    "print(b)\n",
    "\n",
    "#字典拆包\n",
    "dict={'name':'jack','age':18,'gender':'male'}\n",
    "a,b,c=dict\n",
    "print(a,b,c) #字典拆包返回的是键"
   ]
  },
  {
   "cell_type": "code",
   "execution_count": null,
   "id": "2f65bdef-1668-4f17-9f29-cba7a923d7ca",
   "metadata": {},
   "outputs": [],
   "source": []
  }
 ],
 "metadata": {
  "kernelspec": {
   "display_name": "Python [conda env:base] *",
   "language": "python",
   "name": "conda-base-py"
  },
  "language_info": {
   "codemirror_mode": {
    "name": "ipython",
    "version": 3
   },
   "file_extension": ".py",
   "mimetype": "text/x-python",
   "name": "python",
   "nbconvert_exporter": "python",
   "pygments_lexer": "ipython3",
   "version": "3.12.7"
  }
 },
 "nbformat": 4,
 "nbformat_minor": 5
}
