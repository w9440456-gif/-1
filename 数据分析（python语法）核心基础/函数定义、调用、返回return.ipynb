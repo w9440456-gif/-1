{
 "cells": [
  {
   "cell_type": "code",
   "execution_count": 3,
   "id": "b13986e5-01ba-4551-9d2b-4c2da2b2d832",
   "metadata": {},
   "outputs": [],
   "source": [
    "#函数定义格式（函数名要符合标识符的命名规范：字母 下划线 数字组成，不能数字开头，不能与关键字重合，函数名一律小写）\n",
    "#def 函数名（）：\n",
    "#   函数体\n",
    "\n",
    "#函数的说明文档\n",
    "#help()\n",
    "#import random\n",
    "#help(random)"
   ]
  },
  {
   "cell_type": "code",
   "execution_count": 10,
   "id": "4ebf9f6e-f00c-41b4-987a-507220de9005",
   "metadata": {},
   "outputs": [
    {
     "name": "stdout",
     "output_type": "stream",
     "text": [
      "唱歌\n",
      "10\n",
      "(1, 2, 3)\n",
      "(5, [1, 2], {'school': 'xi', 'age': 18})\n",
      "2\n",
      "6\n",
      "None\n"
     ]
    }
   ],
   "source": [
    "#函数的调用\n",
    "def sing():\n",
    "    print('唱歌') #此时不执行\n",
    "sing() #调用才执行\n",
    "\n",
    "#return 函数的返回值，是返回给函数的调用处！！\n",
    "def funa():\n",
    "    a=10\n",
    "    return a\n",
    "funa() #函数调用，把a返回给funa（） 完成了返回，但没有输出\n",
    "print(funa()) #用print返回\n",
    "\n",
    "#返回多个值\n",
    "def funa1():\n",
    "    return 1,2,3\n",
    "num1=funa1()\n",
    "print(num1) #返回多个值时是元组的形式\n",
    "\n",
    "def funa2():\n",
    "    a=5\n",
    "    b=[1,2]\n",
    "    c={'school':'xi','age':18}\n",
    "    return a,b,c\n",
    "num2=funa2()\n",
    "print(funa2()) #元组形式\n",
    "\n",
    "#一个函数有多个return情形：只有第一个return执行，函数体内后面的都不执行\n",
    "def funa3():\n",
    "    return 2 #只会返回这个 \n",
    "    return 3\n",
    "    print(123)\n",
    "print(funa3())\n",
    "\n",
    "#函数没有return的情况\n",
    "def showplus(x):\n",
    "    print(x)  #6是这里输出的\n",
    "num=showplus(6)   #传参 \n",
    "print(num)   #没有return，返回的是none\n"
   ]
  },
  {
   "cell_type": "code",
   "execution_count": null,
   "id": "5a9a47fe-c9d1-4431-86a2-7abb0623e50e",
   "metadata": {},
   "outputs": [],
   "source": []
  }
 ],
 "metadata": {
  "kernelspec": {
   "display_name": "Python [conda env:base] *",
   "language": "python",
   "name": "conda-base-py"
  },
  "language_info": {
   "codemirror_mode": {
    "name": "ipython",
    "version": 3
   },
   "file_extension": ".py",
   "mimetype": "text/x-python",
   "name": "python",
   "nbconvert_exporter": "python",
   "pygments_lexer": "ipython3",
   "version": "3.12.7"
  }
 },
 "nbformat": 4,
 "nbformat_minor": 5
}
