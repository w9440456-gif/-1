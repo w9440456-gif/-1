{
 "cells": [
  {
   "cell_type": "code",
   "execution_count": 1,
   "id": "6c4924bd-24dc-455a-bd05-6007fa104cb5",
   "metadata": {},
   "outputs": [
    {
     "name": "stdout",
     "output_type": "stream",
     "text": [
      "3\n"
     ]
    }
   ],
   "source": [
    "#函数的参数：本质是将函数的实际参数传给形式参数\n",
    "def add(a,b):\n",
    "    print(a+b)\n",
    "add(1,2) "
   ]
  },
  {
   "cell_type": "code",
   "execution_count": 2,
   "id": "05d45ec5-f67c-42be-8654-d465a981bf0a",
   "metadata": {},
   "outputs": [
    {
     "name": "stdout",
     "output_type": "stream",
     "text": [
      "2\n",
      "a=12\n",
      "a=5\n",
      "(1, 2, 3)\n",
      "<class 'tuple'>\n",
      "{'name': 'wilia', 'age': 19}\n",
      "wllia 19 guanggdong code\n",
      "a=1\n",
      "b=2\n",
      "c=(3, 4)\n",
      "a=1\n",
      "b=2\n",
      "c=(3, 4, 5, 6)\n",
      "d=25\n"
     ]
    }
   ],
   "source": [
    "#1、必选参数:几个参数就传几个\n",
    "def funa(a,b):\n",
    "    result=a-b\n",
    "    print(result)\n",
    "funa(3,1)\n",
    "\n",
    "#2、默认参数 格式：形参=默认值\n",
    "#不传参，使用默认，传参时，更新数据(无则默认，有则更新)\n",
    "def funb(a=12):\n",
    "    print(f'a={a}')\n",
    "funb()\n",
    "funb(5)\n",
    "\n",
    "#3、可变参数 *args :真正有作用的是*， args相当于一个变量名，可以取其他的\n",
    "def func(*args):\n",
    "    print(args) \n",
    "    print(type(args))\n",
    "func(1,2,3)  #可以传0-任意多的数，传多个值时，print输出的是元组格式\n",
    "\n",
    "#4、关键字参数 **kwargs 格式：实参处key=value\n",
    "def fund(**kwargs):\n",
    "    print(kwargs)  #{'name': 'wilia', 'age': 19}\n",
    "fund(name='wilia',age=19)  #字典格式传参\n",
    "\n",
    "#5、拓展：命名关键字参数\n",
    "def person(name,age,*,city='hongkong',job='code'):  #*后面key=value，和默认参数有点像（无则默认）\n",
    "    print(name,age,city,job)\n",
    "person('wllia',19,city='guanggdong')\n",
    "\n",
    "##混合参数 \n",
    "#参数定义顺序：必选、默认、可变、关键字（命名关键字）！！\n",
    "def dune(a,b=10,*c):\n",
    "    print(f'a={a}')  #a是必选 1先传给a\n",
    "    print(f'b={b}')  #b=10是默认 有2则传b\n",
    "    print(f'c={c}')  #c是可变 \n",
    "dune(1,2,3,4)\n",
    "\n",
    "def funf(a,b=20,*c,d=25): #d=25是命名关键字参数\n",
    "     print(f'a={a}')\n",
    "     print(f'b={b}')\n",
    "     print(f'c={c}') \n",
    "     print(f'd={d}') #命名关键字传参，要在实参处key=value的形式更新，无则默认 \n",
    "funf(1,2,3,4,5,6)"
   ]
  },
  {
   "cell_type": "code",
   "execution_count": 3,
   "id": "5c320588-d138-4e2f-859d-f67d296fe136",
   "metadata": {},
   "outputs": [
    {
     "name": "stdout",
     "output_type": "stream",
     "text": [
      "这是funb\n",
      "这是funa\n",
      "这是func\n",
      "这是fund\n",
      "sum=2\n",
      "sum=3\n",
      "3\n"
     ]
    }
   ],
   "source": [
    "#函数的嵌套\n",
    "#1、在一个函数内部调用另一个函数\n",
    "def funa():\n",
    "    print('这是funa')\n",
    "def funb():\n",
    "    print('这是funb')\n",
    "    funa()\n",
    "funb()\n",
    "\n",
    "#2、嵌套：在一个函数中定义另一个函数\n",
    "def func():\n",
    "    def fund():\n",
    "        print('这是fund')\n",
    "    print('这是func')\n",
    "    fund()\n",
    "func()\n",
    "\n",
    "#打印n行--:(这个执行会导致这整个文件丧失运行功能，不知道为啥)\n",
    "#def fune():\n",
    "#    print('—'*3)\n",
    "#def funf(n):\n",
    "#    i=0\n",
    "#    while 1<n:\n",
    "#        fune()\n",
    "#        i+=1\n",
    "#funf(3)\n",
    "\n",
    "#随机摇n次的骰子之和：\n",
    "import random\n",
    "def play(n): \n",
    "    sum=0\n",
    "    for i in range(n):  #随机摇n次：输入的参数为几就循环几次\n",
    "        sum+=random.randint(1,6)\n",
    "        print(f'sum={sum}')\n",
    "    return sum\n",
    "result=play(2)\n",
    "print(result)"
   ]
  },
  {
   "cell_type": "code",
   "execution_count": null,
   "id": "bc5907b1-a703-46f6-9930-980688bda0d9",
   "metadata": {},
   "outputs": [],
   "source": []
  }
 ],
 "metadata": {
  "kernelspec": {
   "display_name": "Python [conda env:base] *",
   "language": "python",
   "name": "conda-base-py"
  },
  "language_info": {
   "codemirror_mode": {
    "name": "ipython",
    "version": 3
   },
   "file_extension": ".py",
   "mimetype": "text/x-python",
   "name": "python",
   "nbconvert_exporter": "python",
   "pygments_lexer": "ipython3",
   "version": "3.12.7"
  }
 },
 "nbformat": 4,
 "nbformat_minor": 5
}
