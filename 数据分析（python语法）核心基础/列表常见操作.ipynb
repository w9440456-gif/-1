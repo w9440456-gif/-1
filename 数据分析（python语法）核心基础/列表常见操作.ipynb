{
 "cells": [
  {
   "cell_type": "code",
   "execution_count": 14,
   "id": "82c54626-240f-4d2f-8592-a009eae53b98",
   "metadata": {},
   "outputs": [
    {
     "name": "stdout",
     "output_type": "stream",
     "text": [
      "a\n",
      "b\n",
      "c\n",
      "a\n",
      "b\n",
      "c\n",
      "a\n",
      "b\n",
      "c\n"
     ]
    }
   ],
   "source": [
    "li=['a','b','c'] #列表的定义：中括号包含所有元素，每个元素用逗号\n",
    "print(li[0]) #通过下标索引\n",
    "print(li[1])\n",
    "print(li[-1])\n",
    "#循环读取\n",
    "for i in li:\n",
    "    print(i)\n",
    "li_len=len(li)\n",
    "i=0\n",
    "while i<li_len:\n",
    "    print(li[i]) #通过下标索引\n",
    "    i+=1"
   ]
  },
  {
   "cell_type": "code",
   "execution_count": 18,
   "id": "4fbdc37d-0207-4359-9fc3-0c9047853749",
   "metadata": {},
   "outputs": [
    {
     "name": "stdout",
     "output_type": "stream",
     "text": [
      "['python', 'c+', ('c#', 'go'), 'java']\n"
     ]
    }
   ],
   "source": [
    "#一、增  +、insert插入函数：list_name.insert(index,obj)\n",
    "l=['python','c+','java']\n",
    "#l.insert(1,'c') #在下标1前加c\n",
    "#print(l)  \n",
    "#['python', 'c', 'c+', 'java']\n",
    "\n",
    "t=('c#','go') #也可插入元组\n",
    "l.insert(2,t)\n",
    "print(l)"
   ]
  },
  {
   "cell_type": "code",
   "execution_count": 27,
   "id": "e0872ada-9499-416d-b828-2efb6be2c6f8",
   "metadata": {},
   "outputs": [
    {
     "name": "stdout",
     "output_type": "stream",
     "text": [
      "['python', 'c+', 'java', 'a']\n",
      "['python', 'c+', 'java', 'a', ('a', 'b')]\n"
     ]
    }
   ],
   "source": [
    "#append(obj) 添加函数：末尾添加,也可添加元组\n",
    "l=['python','c+','java']\n",
    "t=('a','b')\n",
    "l.append('a')\n",
    "print(l)\n",
    "\n",
    "l.append(t)\n",
    "print(l)"
   ]
  },
  {
   "cell_type": "code",
   "execution_count": 28,
   "id": "ee51900a-28f6-4bab-b5a4-5fd7e277044e",
   "metadata": {},
   "outputs": [
    {
     "name": "stdout",
     "output_type": "stream",
     "text": [
      "['python', 'c+', 'java', 'a', 'b']\n"
     ]
    }
   ],
   "source": [
    "#extend 也是在末尾添加，但是把obj的每个元素单独拆开\n",
    "l=['python','c+','java']\n",
    "t=('a','b')\n",
    "l.extend(t)\n",
    "print(l)"
   ]
  },
  {
   "cell_type": "code",
   "execution_count": 34,
   "id": "c9d4c492-f022-4c15-b589-c4a61fcdc16b",
   "metadata": {},
   "outputs": [
    {
     "name": "stdout",
     "output_type": "stream",
     "text": [
      "[1, 3, 10, 4, 7, 6, 5, 8]\n",
      "[1, 3, 1, 2, 3, 6, 5, 8]\n",
      "[1, 3, 2, 4, 1, 2, 3, 7, 6, 5, 8]\n",
      "[1, 2, 2, 2, 1, 2, 3, 7, 6, 5, 8]\n"
     ]
    }
   ],
   "source": [
    "#二、改 （本质是赋值操作）\n",
    "#1、修改单个元素\n",
    "nums=[1,3,2,4,7,6,5,8,]\n",
    "nums[2]=10\n",
    "print(nums)\n",
    "#2、修改一组元素\n",
    "nums=[1,3,2,4,7,6,5,8,]\n",
    "nums[2:5]=[1,2,3]\n",
    "print(nums)\n",
    "\n",
    "#特殊情况：对空切片，对下标前!插入元素,不改变下标原来的元素\n",
    "nums=[1,3,2,4,7,6,5,8,]\n",
    "nums[4:4]=[1,2,3]  #插入的必须是可迭代对象：列表【】是可迭代对象，单独的数不是，会报错\n",
    "print(nums)\n",
    "nums[1:6:2]=[2,2,2] \n",
    "print(nums)"
   ]
  },
  {
   "cell_type": "code",
   "execution_count": 39,
   "id": "cd5bb6bb-4357-49bf-9ec3-af69b27a17c1",
   "metadata": {},
   "outputs": [
    {
     "name": "stdout",
     "output_type": "stream",
     "text": [
      "['h', 'e', 'l', 'l', 'o']\n"
     ]
    },
    {
     "ename": "NameError",
     "evalue": "name 's' is not defined",
     "output_type": "error",
     "traceback": [
      "\u001b[0;31m---------------------------------------------------------------------------\u001b[0m",
      "\u001b[0;31mNameError\u001b[0m                                 Traceback (most recent call last)",
      "Cell \u001b[0;32mIn[39], line 7\u001b[0m\n\u001b[1;32m      5\u001b[0m \u001b[38;5;28mprint\u001b[39m(s)\n\u001b[1;32m      6\u001b[0m \u001b[38;5;28;01mdel\u001b[39;00m s\n\u001b[0;32m----> 7\u001b[0m \u001b[38;5;28mprint\u001b[39m(s)\n",
      "\u001b[0;31mNameError\u001b[0m: name 's' is not defined"
     ]
    }
   ],
   "source": [
    "#三、删 \n",
    "#通过位置索引删除用del和pop,通过值删除用remove，删除列表所有元素用clear\n",
    "#del listname 删除整个列表\n",
    "s=list('hello')  #将字符串转为列表【'h','e'····】\n",
    "print(s)\n",
    "del s\n",
    "print(s)\n",
    "#会报错，因为将整个列表删了"
   ]
  },
  {
   "cell_type": "code",
   "execution_count": 41,
   "id": "05412992-61c2-4393-9de2-9be9c5813d2f",
   "metadata": {},
   "outputs": [
    {
     "name": "stdout",
     "output_type": "stream",
     "text": [
      "[1, 2, 4, 5, 6]\n",
      "[1, 2, 6]\n"
     ]
    }
   ],
   "source": [
    "#del listname[index]通过索引下标删除\n",
    "s=[1,2,3,4,5,6]\n",
    "del s[2]\n",
    "print(s)\n",
    "\n",
    "s=[1,2,3,4,5,6]\n",
    "del s[2:5]\n",
    "print(s)"
   ]
  },
  {
   "cell_type": "code",
   "execution_count": 43,
   "id": "deea20ef-6c12-43d1-a716-023f488cdc19",
   "metadata": {},
   "outputs": [
    {
     "name": "stdout",
     "output_type": "stream",
     "text": [
      "[1, 2, 3, 5, 6, 7, 8]\n"
     ]
    }
   ],
   "source": [
    "#listname.pop(index) index为空，默认删除最后一个元素\n",
    "nums=[1,2,3,4,5,6,7,8]\n",
    "nums.pop(3)\n",
    "print(nums)"
   ]
  },
  {
   "cell_type": "code",
   "execution_count": 45,
   "id": "d2dc0a66-74e2-44a3-8753-082da5549ba9",
   "metadata": {},
   "outputs": [
    {
     "name": "stdout",
     "output_type": "stream",
     "text": [
      "[1, 2, 4, 4, 4, 7, 8]\n",
      "[1, 2, 4, 4, 7, 8]\n"
     ]
    }
   ],
   "source": [
    "#remove() 值删除，无则报错\n",
    "nums=[1,2,3,4,4,4,7,8]\n",
    "nums.remove(3)\n",
    "print(nums)\n",
    "nums.remove(4) #只删除第一个为4的值\n",
    "print(nums)"
   ]
  },
  {
   "cell_type": "code",
   "execution_count": 46,
   "id": "f396661e-95d0-407d-b158-78ee7e9fd118",
   "metadata": {},
   "outputs": [
    {
     "name": "stdout",
     "output_type": "stream",
     "text": [
      "[]\n"
     ]
    }
   ],
   "source": [
    "#clear 删除列表所有元素\n",
    "nums=[1,2,3,4,4,4,7,8]\n",
    "nums.clear()\n",
    "print(nums)"
   ]
  },
  {
   "cell_type": "code",
   "execution_count": 50,
   "id": "d4788207-6c9b-476d-a83e-035dd4d3e7e9",
   "metadata": {},
   "outputs": [
    {
     "name": "stdin",
     "output_type": "stream",
     "text": [
      "需要查找的名字是： a\n"
     ]
    },
    {
     "name": "stdout",
     "output_type": "stream",
     "text": [
      "找到了\n"
     ]
    }
   ],
   "source": [
    "#四、 查\n",
    "list1=['a','b','c']\n",
    "name=input('需要查找的名字是：')\n",
    "if name in list1:\n",
    "    print('找到了')\n",
    "else:\n",
    "     print('找不到') "
   ]
  },
  {
   "cell_type": "code",
   "execution_count": 53,
   "id": "89a7d1bb-04cd-4165-8102-d4214d169540",
   "metadata": {},
   "outputs": [
    {
     "name": "stdout",
     "output_type": "stream",
     "text": [
      "3\n",
      "100不在列表里\n"
     ]
    }
   ],
   "source": [
    "#listname.count(obj):统计元素出现的次数\n",
    "nums=[1,2,3,4,2,2,6,7]\n",
    "print(nums.count(2))\n",
    "if nums.count(100): #100出现的次数为0，则是false，执行else语句\n",
    "    print('100在列表里')\n",
    "else:\n",
    "    print('100不在列表里')"
   ]
  },
  {
   "cell_type": "code",
   "execution_count": 55,
   "id": "60beef77-5a48-4a6e-b402-81fa26626b7c",
   "metadata": {},
   "outputs": [
    {
     "name": "stdout",
     "output_type": "stream",
     "text": [
      "1\n"
     ]
    }
   ],
   "source": [
    "#index 查找元素的位置下标\n",
    "nums=[1,2,3,4,2,2,6,7]\n",
    "print(nums.index (2))"
   ]
  },
  {
   "cell_type": "code",
   "execution_count": 60,
   "id": "4376935c-fd3e-4ceb-8ccb-100fa5005e27",
   "metadata": {},
   "outputs": [
    {
     "name": "stdout",
     "output_type": "stream",
     "text": [
      "原列表： [1, 4, 3, 2]\n",
      "原列表:[1, 4, 3, 2]\n",
      "[2, 3, 4, 1]\n"
     ]
    }
   ],
   "source": [
    "#五、排序 \n",
    "#reverse 倒序排\n",
    "li1=[1,4,3,2]\n",
    "print('原列表：',li1)\n",
    "print(f'原列表:{li1}')\n",
    "li1.reverse()\n",
    "print(li1)"
   ]
  },
  {
   "cell_type": "code",
   "execution_count": 63,
   "id": "b82d504c-9a71-428a-bf67-c7527d00f6e3",
   "metadata": {},
   "outputs": [
    {
     "name": "stdout",
     "output_type": "stream",
     "text": [
      "[1, 2, 3, 4]\n",
      "[4, 3, 2, 1]\n"
     ]
    }
   ],
   "source": [
    "#sort（）排序，默认升序。  sort和reverse只对列表进行排序，并且对原列表进行了修改！！\n",
    "li1=[1,4,3,2]\n",
    "li1.sort()\n",
    "print(li1)\n",
    "li1.sort(reverse=True)  #降序在括号里面加\n",
    "print(li1)"
   ]
  },
  {
   "cell_type": "code",
   "execution_count": 67,
   "id": "7f4f9890-287a-424c-a3f4-3f61f999db11",
   "metadata": {},
   "outputs": [
    {
     "name": "stdout",
     "output_type": "stream",
     "text": [
      "[1, 2, 3, 4]\n",
      "[1, 4, 3, 2]\n"
     ]
    }
   ],
   "source": [
    "#sorted 对任何都可排序，且不对原列表修改，而是另建了一个列表！！\n",
    "li1=[1,4,3,2]\n",
    "b=sorted(li1) #没有改原列表，所以要有新变量！\n",
    "print(b)\n",
    "print(li1)"
   ]
  },
  {
   "cell_type": "code",
   "execution_count": 71,
   "id": "5a187dba-5dd8-4b88-8a33-892072f47735",
   "metadata": {},
   "outputs": [
    {
     "name": "stdout",
     "output_type": "stream",
     "text": [
      "None\n",
      "[1, 2, 3, 4]\n"
     ]
    }
   ],
   "source": [
    "li1=[1,4,3,2]\n",
    "print(li1.sort()) #sort不能和打印、赋值在一起使用，会返回none。因为是对原列表就地排序\n",
    "print(sorted(li1)) #sorted()可以，因为是新生成一个表 \n",
    "#两个语法：listname.sort()括号里不加东西 、sorted（obj）括号里加排序的东西"
   ]
  },
  {
   "cell_type": "code",
   "execution_count": 76,
   "id": "e97b65cb-4bcb-404a-9056-74eb35302f25",
   "metadata": {},
   "outputs": [
    {
     "name": "stdout",
     "output_type": "stream",
     "text": [
      "[2, 4, 6, 8, 10, 12, 14, 16, 18]\n",
      "[2, 4, 6, 8, 10, 12, 14, 16, 18]\n",
      "[2, 4, 6, 8, 10, 12, 14, 16, 18]\n"
     ]
    }
   ],
   "source": [
    "#列表推导式\n",
    "li1=[1,2,3,4,5,6,7,8,9]\n",
    "print([i*2 for i in li1]) #从li1列表循环取值\n",
    "#for循环\n",
    "li1=[1,2,3,4,5,6,7,8,9]\n",
    "li2=[] \n",
    "for i in li1:\n",
    "    li2.append(i*2)\n",
    "print(li2)\n",
    "\n",
    "#while循环\n",
    "li1=[1,2,3,4,5,6,7,8,9]\n",
    "li2=[] \n",
    "i=0\n",
    "while i <=len(li1):\n",
    "    if i in li1: #这里的i表示下标的位置？（下标在列表里时）\n",
    "        li2.append(i*2) #i位置的值*2\n",
    "    i+=1\n",
    "print(li2)"
   ]
  },
  {
   "cell_type": "code",
   "execution_count": null,
   "id": "10667416-c137-44b7-b195-396cb94205e8",
   "metadata": {},
   "outputs": [],
   "source": []
  }
 ],
 "metadata": {
  "kernelspec": {
   "display_name": "Python [conda env:base] *",
   "language": "python",
   "name": "conda-base-py"
  },
  "language_info": {
   "codemirror_mode": {
    "name": "ipython",
    "version": 3
   },
   "file_extension": ".py",
   "mimetype": "text/x-python",
   "name": "python",
   "nbconvert_exporter": "python",
   "pygments_lexer": "ipython3",
   "version": "3.12.7"
  }
 },
 "nbformat": 4,
 "nbformat_minor": 5
}
