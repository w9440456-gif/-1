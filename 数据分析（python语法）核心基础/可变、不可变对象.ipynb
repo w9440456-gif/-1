{
 "cells": [
  {
   "cell_type": "code",
   "execution_count": 6,
   "id": "2d749df5-5e2d-4cf1-98ea-6f5235fac9c8",
   "metadata": {},
   "outputs": [
    {
     "name": "stdout",
     "output_type": "stream",
     "text": [
      "[5, 9] 4825674496\n",
      "[5, 9, 6] 4825674496\n",
      "{1, 2, '123'} <class 'set'> 4824700448\n",
      "{1, 2, 100, '123'} <class 'set'> 4824700448\n"
     ]
    }
   ],
   "source": [
    "#可变对象(列表，集合，字典)：存储的数据内容可以变化，内存地址不会变\n",
    "m=[5,9]\n",
    "print(m,id(m))\n",
    "m+=[6]  #m=m+[6]\n",
    "print(m,id(m))\n",
    "\n",
    "set1={1,2,'123'}\n",
    "print(set1,type(set1),id(set1))\n",
    "set1.add(100)\n",
    "print(set1,type(set1),id(set1))"
   ]
  },
  {
   "cell_type": "code",
   "execution_count": 11,
   "id": "12f77b49-8d8a-4930-9620-d05b040d6a18",
   "metadata": {},
   "outputs": [
    {
     "name": "stdout",
     "output_type": "stream",
     "text": [
      "73 <class 'int'> 4341688336\n",
      "75 <class 'int'> 4341688400\n"
     ]
    }
   ],
   "source": [
    "#不可变对象(数值，子符串，元组)：针对的是值（数据内容），如果要更新数据，会重新分配一个新的内存地址\n",
    "i=73\n",
    "print(i,type(i),id(i))\n",
    "i+=2\n",
    "print(i,type(i),id(i))\n",
    "##不可变对象的数据安全性更高"
   ]
  },
  {
   "cell_type": "code",
   "execution_count": null,
   "id": "715240c5-81ef-4f2e-92cf-5fbc2d324c67",
   "metadata": {},
   "outputs": [],
   "source": []
  }
 ],
 "metadata": {
  "kernelspec": {
   "display_name": "Python [conda env:base] *",
   "language": "python",
   "name": "conda-base-py"
  },
  "language_info": {
   "codemirror_mode": {
    "name": "ipython",
    "version": 3
   },
   "file_extension": ".py",
   "mimetype": "text/x-python",
   "name": "python",
   "nbconvert_exporter": "python",
   "pygments_lexer": "ipython3",
   "version": "3.12.7"
  }
 },
 "nbformat": 4,
 "nbformat_minor": 5
}
