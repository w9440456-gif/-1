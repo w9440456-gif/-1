{
 "cells": [
  {
   "cell_type": "code",
   "execution_count": 5,
   "id": "07b105f3-0605-4b88-aedc-56c4acda96cf",
   "metadata": {},
   "outputs": [
    {
     "name": "stdout",
     "output_type": "stream",
     "text": [
      "100\n",
      "父类的公有方法200\n",
      "私有方法100,200\n",
      "123\n",
      "父类的公有方法200\n",
      "私有方法100,200\n"
     ]
    }
   ],
   "source": [
    "#父类的私有属性和私有方法不会被子类继承\n",
    "#1、子类对象不能在自己的方法内部，直接访问父类的私有属性和方法\n",
    "#2、子类的对象方法中不能调用父类私有方法\n",
    "\n",
    "#如何访问父类的私有属性和方法\n",
    "class A:\n",
    "    def __init__(self):\n",
    "        self.num1=100\n",
    "        self.__num2=200 #父类私有属性\n",
    "    def __test(self):   #父类私有方法\n",
    "        print(f'私有方法{self.num1},{self.__num2}')\n",
    "    def test(self):\n",
    "        print(f'父类的公有方法%d'%self.__num2)\n",
    "        self.__test()  #父类中公有方法调用私有方法！！！！！\n",
    "class B(A):\n",
    "    def demo(self):\n",
    "        print(123)\n",
    "        self.test()    #子类中调用父类公有方法（公有中又调用了父类私有方法）！！\n",
    "b=B()\n",
    "#在外边访问父类的公有属性、公有方法\n",
    "print(b.num1)\n",
    "b.test()\n",
    "#访问父类私有属性和方法\n",
    "b.demo()"
   ]
  },
  {
   "cell_type": "code",
   "execution_count": 10,
   "id": "12988556-e8c0-4b70-b1ae-e1513811a893",
   "metadata": {},
   "outputs": [
    {
     "name": "stdout",
     "output_type": "stream",
     "text": [
      "这是儿子\n",
      "这是女儿\n",
      "就是这样\n"
     ]
    }
   ],
   "source": [
    "#多继承格式：\n",
    "#class 子类名（父类名1，父类名2···）\n",
    "#多继承顺序\n",
    "class A:\n",
    "    def play(self):\n",
    "        print('这是儿子')\n",
    "class B:\n",
    "    def play(self):\n",
    "        print('这是女儿')\n",
    "class C(A,B):\n",
    "    pass\n",
    "c=C()\n",
    "c.play() #顺序为CAB，C为pass，才用了A\n",
    "#print(C.__mro__)查看C类调用方法的顺序\n",
    "\n",
    "#如果多个父类中有同名的属性和方法时。默认使用第一个继承的（父类）属性和方法\n",
    "class A:\n",
    "    def play(self):\n",
    "        print('这是儿子')\n",
    "class B:\n",
    "    def play(self):\n",
    "        print('这是女儿')\n",
    "class C(B,A): \n",
    "    def play(self):    #子类对象调用方法时顺序：CBA\n",
    "        #A.play(self)   #对父类的拓展一：调用父类A的方法\n",
    "        super().play() #对父类二的拓展：此处有两个父类，默认继承B\n",
    "        print('就是这样')\n",
    "#为C类创建对象c\n",
    "c=C()\n",
    "c.play()"
   ]
  },
  {
   "cell_type": "code",
   "execution_count": 8,
   "id": "a614310e-2434-4673-8ee4-1f8c766f2346",
   "metadata": {},
   "outputs": [
    {
     "name": "stdout",
     "output_type": "stream",
     "text": [
      "罗马三代只能平地行走，遇到障碍物会摔倒\n",
      "2004年生产的机器人，名字是罗马三代\n",
      "罗马三代可以跑步了\n"
     ]
    }
   ],
   "source": [
    "#机器人更新\n",
    "#机器人一代：\n",
    "class Robot:\n",
    "    def __init__(self,year,name):\n",
    "        self.year=year\n",
    "        self.name=name\n",
    "    def walk(self):\n",
    "        print('%s只能平地行走，遇到障碍物会摔倒'%self.name)\n",
    "    def produce(self):\n",
    "        print('{}年生产的机器人，名字是{}'.format(self.year,self.name))\n",
    "class Robot2:\n",
    "    def walk(self):\n",
    "        print('%s可以避开障碍物了'%self.name)\n",
    "class Robot3(Robot,Robot2):    #多继承\n",
    "    def run(self):\n",
    "        print('%s可以跑步了'%self.name)\n",
    "rot3=Robot3(2004,'罗马三代')\n",
    "rot3.walk()\n",
    "rot3.produce()\n",
    "rot3.run()"
   ]
  },
  {
   "cell_type": "code",
   "execution_count": 10,
   "id": "63edc1db-142b-4b4a-a946-37fbd9cc63b9",
   "metadata": {},
   "outputs": [
    {
     "name": "stdout",
     "output_type": "stream",
     "text": [
      "S2.show\n"
     ]
    }
   ],
   "source": [
    "#多态：同一种事物的多种形态\n",
    "#多态性：一种调用方式，不同的执行效果\n",
    "#实现多态的两个前提：\n",
    "#1、继承：多态必须发生在父类与子类之间\n",
    "#2、重写：子类重写父类方法\n",
    "class A:\n",
    "    def show(self):\n",
    "        print('A.show')\n",
    "class S1(A):\n",
    "    def show(self):\n",
    "        print('S1.show')\n",
    "class S2(A):\n",
    "    def show(self):\n",
    "        print('S2.show')\n",
    "#定义一个统一的接口：\n",
    "def funa(obj):\n",
    "    obj.show()   #调用show()方法\n",
    "s2=S2()\n",
    "funa(s2)   #对象作为参数传入"
   ]
  },
  {
   "cell_type": "code",
   "execution_count": 17,
   "id": "cbc5bb59-d8d8-4867-b31c-d58ac9bd7b2e",
   "metadata": {},
   "outputs": [
    {
     "name": "stdout",
     "output_type": "stream",
     "text": [
      "123\n",
      "20\n",
      "20\n"
     ]
    }
   ],
   "source": [
    "class Tool(object):\n",
    "    def __init__(self):\n",
    "        self.age=18     #实例属性\n",
    "    def funa(self):     #实例方法\n",
    "        print(123)\n",
    "t=Tool()   #实例方法要通过是对象来调用\n",
    "t.funa()\n",
    "\n",
    "#类方法————针对类对象定义的方法（本质是将类本身作为对象）\n",
    "#类方法定义\n",
    "#class 类名：\n",
    "#    @classmethod   --类方法的标志\n",
    "#    def 方法名（cls）： ---第一个参数必须是cls(类似于self)\n",
    "#       方法体\n",
    "\n",
    "#类方法内部使用类属性：cls.属性\n",
    "#类方法内部使用类方法：cls.类方法\n",
    "class Person:\n",
    "    age=20         #类属性\n",
    "    @classmethod\n",
    "    def human(cls):\n",
    "        return cls.age \n",
    "p=Person()\n",
    "print(p.human())       #实例对象可以访问类方法\n",
    "print(Person.human())  #类对象（类本身）可以访问类方法,类对象（类本身）不能访问实例方法\n"
   ]
  },
  {
   "cell_type": "code",
   "execution_count": 22,
   "id": "58bc39da-5e20-4c61-9ec6-fbdfde712fb5",
   "metadata": {},
   "outputs": [
    {
     "name": "stdout",
     "output_type": "stream",
     "text": [
      "20\n",
      "20\n",
      "18\n"
     ]
    }
   ],
   "source": [
    "#类属性修改\n",
    "class Person:\n",
    "    age=20\n",
    "    @classmethod\n",
    "    def get_age(cls):   \n",
    "        print(cls.age)    #获取类属性\n",
    "    @classmethod\n",
    "    def set_age(cls,age): #设置属性，赋值更新\n",
    "        cls.age=age\n",
    "p=Person()\n",
    "p.get_age()\n",
    "Person.get_age()\n",
    "p.set_age(18)\n",
    "p.get_age()"
   ]
  },
  {
   "cell_type": "code",
   "execution_count": 27,
   "id": "d3c58b65-0629-48a6-a4f6-99c523ce6ec6",
   "metadata": {},
   "outputs": [
    {
     "name": "stdout",
     "output_type": "stream",
     "text": [
      "汪汪叫\n",
      "汪汪叫\n"
     ]
    }
   ],
   "source": [
    "#静态方法是类中函数，不需要实例。相当于一个独立 单纯的函数。\n",
    "#静态方法定义：（跟普通函数一样，只是在类中使用）\n",
    "#class 类名：\n",
    "#    @staticmethod   --静态方法的标志\n",
    "#    def 方法名（）： \n",
    "#       方法体\n",
    "class Dog():\n",
    "    @staticmethod\n",
    "    def bark():\n",
    "        print('汪汪叫')\n",
    "dog=Dog()\n",
    "dog.bark()  #实例对象可以访问静态方法\n",
    "Dog.bark()  #类对象也可以访问静态方法"
   ]
  },
  {
   "cell_type": "code",
   "execution_count": 37,
   "id": "6807dd13-ff83-4981-99bf-84e5a0654115",
   "metadata": {},
   "outputs": [
    {
     "name": "stdout",
     "output_type": "stream",
     "text": [
      "这是instancefun\n",
      "这是instancefun\n",
      "这是instancefun\n",
      "这是classfun\n",
      "<class '__main__.Test'>\n",
      "这是classfun\n",
      "<class '__main__.Test'>\n",
      "这是staticfun\n",
      "这是staticfun\n",
      "这是func\n"
     ]
    }
   ],
   "source": [
    "#实例方法 类方法 静态方法访问的综合应用\n",
    "class Test():\n",
    "    def instancefun(self):   #实例方法\n",
    "        print('这是instancefun')\n",
    "    @classmethod\n",
    "    def classfun(cls):\n",
    "        print('这是classfun')\n",
    "        print(cls)\n",
    "    @staticmethod\n",
    "    def staticfun():\n",
    "        print('这是staticfun')\n",
    "    def function():\n",
    "        print('这是func')\n",
    "t=Test() #实例化对象\n",
    "#调用实例方法\n",
    "t.instancefun()            #实例对象可以访问实例方法\n",
    "Test.instancefun(t)        #类对象可以访问，但要传参，否则不能访问\n",
    "Test.instancefun(Test)\n",
    "#调用类方法\n",
    "t.classfun()               #实例对象可以访问类方法\n",
    "Test.classfun()            #类对象可以访问类方法\n",
    "#调用静态方法\n",
    "t.staticfun()              #实例对象可以访问静态方法\n",
    "Test.staticfun()           #类对象可以访问静态方法\n",
    "#普通函数\n",
    "#t.function()              #报错，实例对象不能调用普通函数\n",
    "Test.function()            #类可以调用普通函数"
   ]
  }
 ],
 "metadata": {
  "kernelspec": {
   "display_name": "Python [conda env:base] *",
   "language": "python",
   "name": "conda-base-py"
  },
  "language_info": {
   "codemirror_mode": {
    "name": "ipython",
    "version": 3
   },
   "file_extension": ".py",
   "mimetype": "text/x-python",
   "name": "python",
   "nbconvert_exporter": "python",
   "pygments_lexer": "ipython3",
   "version": "3.12.7"
  }
 },
 "nbformat": 4,
 "nbformat_minor": 5
}
