{
 "cells": [
  {
   "cell_type": "code",
   "execution_count": 1,
   "id": "c05d2d03-5e1d-461e-a4db-964057b10a7a",
   "metadata": {},
   "outputs": [
    {
     "name": "stdout",
     "output_type": "stream",
     "text": [
      "<class 'str'>\n",
      "<class 'bytes'>\n"
     ]
    }
   ],
   "source": [
    "a='hello'\n",
    "print(type(a)) #字符串类型\n",
    "b=b'hello'\n",
    "print(type(b)) #字节流（电脑能读懂的语言）：二进制数据流"
   ]
  },
  {
   "cell_type": "code",
   "execution_count": 2,
   "id": "b1557d2a-dc77-4155-921c-d598ba1ebac6",
   "metadata": {},
   "outputs": [
    {
     "name": "stdout",
     "output_type": "stream",
     "text": [
      "brother\n",
      "b'brother'\n"
     ]
    }
   ],
   "source": [
    "#编码\n",
    "a='brother'\n",
    "print(a)\n",
    "a1=a.encode()\n",
    "print(a1)"
   ]
  },
  {
   "cell_type": "code",
   "execution_count": 3,
   "id": "a2f4f720-6568-4c36-bf8c-9560efa4fab7",
   "metadata": {},
   "outputs": [
    {
     "name": "stdout",
     "output_type": "stream",
     "text": [
      "brother\n",
      "<class 'str'>\n"
     ]
    }
   ],
   "source": [
    "#解码\n",
    "a2=a1.decode()\n",
    "print(a2)\n",
    "print(type(a2))"
   ]
  },
  {
   "cell_type": "code",
   "execution_count": 5,
   "id": "492fa73f-31ac-4f72-bc34-43f7178cce46",
   "metadata": {},
   "outputs": [
    {
     "name": "stdout",
     "output_type": "stream",
     "text": [
      "a\n",
      "b\n",
      "f\n"
     ]
    }
   ],
   "source": [
    "#索引（下标）：从0开始，左闭右开!!\n",
    "name='abcdef'\n",
    "print(name[0]) \n",
    "print(name[1])\n",
    "print(name[-1]) #从右往左\n",
    "#print(name[20]),索引超出范围会报错"
   ]
  },
  {
   "cell_type": "code",
   "execution_count": 7,
   "id": "22bc22e0-065d-4de8-a2a1-92449ae50ec4",
   "metadata": {},
   "outputs": [
    {
     "name": "stdout",
     "output_type": "stream",
     "text": [
      "name\n"
     ]
    }
   ],
   "source": [
    "#切片\n",
    "name='class_name_string'\n",
    "a=name[6]  #n\n",
    "b=name[7]\n",
    "c=name[8]\n",
    "d=name[9]\n",
    "print(a+b+c+d)"
   ]
  },
  {
   "cell_type": "code",
   "execution_count": 14,
   "id": "0ce8afae-dd31-44ba-8a2a-e5c95639c4c5",
   "metadata": {},
   "outputs": [
    {
     "name": "stdout",
     "output_type": "stream",
     "text": [
      "name\n",
      "nm\n",
      "class_name_string\n",
      "gnirts_eman_s\n",
      "asnm_tig\n",
      "\n"
     ]
    }
   ],
   "source": [
    "#切片语法\n",
    "name='class_name_string'\n",
    "print(name[6:10:1])  #6,7,8,9 取不到10：name\n",
    "print(name[6:10:2])  #6,8 :nm\n",
    "print(name[:]) #取所有\n",
    "print(name[-1:3:-1]) #从右1开始到左3，从右往左为-1间隔 \n",
    "print(name[2:30:2])  #切片超出范围不报错\n",
    "print(name[2:5:-1])  #输出为空，从左2到左5，但是间隔是往左取"
   ]
  },
  {
   "cell_type": "code",
   "execution_count": 17,
   "id": "61044adb-08fb-4b9c-a87f-a7bba4d832e0",
   "metadata": {},
   "outputs": [
    {
     "name": "stdout",
     "output_type": "stream",
     "text": [
      "0\n",
      "0\n",
      "2\n"
     ]
    }
   ],
   "source": [
    "#一、字符串的查找 \n",
    "# 1、字符串序列.find(str，开始下标，结束下标)\n",
    "a='hello world'\n",
    "print(a.find('h')) \n",
    "print(a.find('hello'))\n",
    "print(a.find('l',1,5)) #返回第一次找到的索引值"
   ]
  },
  {
   "cell_type": "code",
   "execution_count": 20,
   "id": "a20d47e9-821a-43fb-be13-88b43db63b63",
   "metadata": {},
   "outputs": [
    {
     "name": "stdout",
     "output_type": "stream",
     "text": [
      "0\n"
     ]
    }
   ],
   "source": [
    "# 2、字符串序列.index(str，开始下标，结束下标)\n",
    "a='hello world'\n",
    "print(a.index('h')) \n",
    "#print(a.index('h',1)) 与find一样，就是多一个找不到会报错"
   ]
  },
  {
   "cell_type": "code",
   "execution_count": 22,
   "id": "25485e9d-ea4e-49c2-8a31-c565cff42063",
   "metadata": {},
   "outputs": [
    {
     "name": "stdout",
     "output_type": "stream",
     "text": [
      "3\n",
      "2\n"
     ]
    }
   ],
   "source": [
    "# 字符串序列.count(str，开始下标，结束下标)\n",
    "a='hello world'\n",
    "print(a.count('l')) #查找出现的次数\n",
    "print(a.count('l',3)) #查找出现的次数，从下标3开始"
   ]
  },
  {
   "cell_type": "code",
   "execution_count": 25,
   "id": "10f59afe-516c-4dec-bfbf-88947898a572",
   "metadata": {},
   "outputs": [
    {
     "name": "stdout",
     "output_type": "stream",
     "text": [
      "bello world\n",
      "hebbo world\n"
     ]
    }
   ],
   "source": [
    "#二、字符串的修改\n",
    "# 1、字符串序列.replace(旧子串，新子串，替换次数)\n",
    "a='hello world' \n",
    "print(a.replace('h','b'))\n",
    "print(a.replace('l','b',2))"
   ]
  },
  {
   "cell_type": "code",
   "execution_count": 28,
   "id": "18e37d79-8de3-4de8-be1c-29f6c19d6721",
   "metadata": {},
   "outputs": [
    {
     "name": "stdout",
     "output_type": "stream",
     "text": [
      "['he，llo wo，rld']\n",
      "['he，llo', 'wo，rld']\n"
     ]
    }
   ],
   "source": [
    "# 2、字符串序列.split(str,切的次数)\n",
    "a='he，llo wo，rld' \n",
    "print(a.split(',',2))\n",
    "print(a.split(' '))"
   ]
  },
  {
   "cell_type": "code",
   "execution_count": 33,
   "id": "47dfbe98-fa74-49e4-8f6b-a665fa2114fe",
   "metadata": {},
   "outputs": [
    {
     "name": "stdout",
     "output_type": "stream",
     "text": [
      "Hello world\n",
      "hello world\n",
      "HELLO WORLD\n",
      "Hello World\n"
     ]
    }
   ],
   "source": [
    "#3 capitalize 把第一个字母大写\n",
    "a='hello world'\n",
    "print(a.capitalize())\n",
    "#4 lower 所有字母小写\n",
    "a='HELLO world'\n",
    "print(a.lower())\n",
    "#5 upper 所有字母大写\n",
    "a='hello world'\n",
    "print(a.upper())\n",
    "# 6 title 单词的第一个字母大写\n",
    "a='hello world'\n",
    "print(a.title())"
   ]
  },
  {
   "cell_type": "code",
   "execution_count": 37,
   "id": "4bc8c15e-3d18-4e5b-b57a-eb6138ee60a8",
   "metadata": {},
   "outputs": [
    {
     "name": "stdout",
     "output_type": "stream",
     "text": [
      "True\n",
      "False\n",
      "True\n"
     ]
    }
   ],
   "source": [
    "#判断 \n",
    "#islower，isupper isdigit(是否都是小写，大写,数字)\n",
    "a='hello'\n",
    "print(a.islower())\n",
    "a='hello'\n",
    "print(a.isdigit())\n",
    "#startswith,endswith(是否以··开始、结束)\n",
    "a='hello'\n",
    "print(a.startswith('h'))"
   ]
  },
  {
   "cell_type": "code",
   "execution_count": 42,
   "id": "ddbe5233-8e66-47c6-9a3e-9e486c21708f",
   "metadata": {},
   "outputs": [
    {
     "name": "stdout",
     "output_type": "stream",
     "text": [
      "h*e*l*l*o\n"
     ]
    }
   ],
   "source": [
    "#三、增  +和join\n",
    "a='hello'\n",
    "print('*'.join(a))"
   ]
  },
  {
   "cell_type": "code",
   "execution_count": 45,
   "id": "016692be-3a72-4590-817b-f374e6cbcd15",
   "metadata": {},
   "outputs": [
    {
     "name": "stdout",
     "output_type": "stream",
     "text": [
      "  hello\n",
      "hello\n",
      "\n",
      "\t itcast \n",
      "\t\n",
      "\n",
      "\t itcast\n"
     ]
    }
   ],
   "source": [
    "#四、删 lstrip和rstrip\n",
    "a='  hello'\n",
    "b='\\n\\t itcast \\n\\t'\n",
    "print(a)\n",
    "print(a.lstrip())\n",
    "print(b)\n",
    "print(b.rstrip())"
   ]
  }
 ],
 "metadata": {
  "kernelspec": {
   "display_name": "Python [conda env:base] *",
   "language": "python",
   "name": "conda-base-py"
  },
  "language_info": {
   "codemirror_mode": {
    "name": "ipython",
    "version": 3
   },
   "file_extension": ".py",
   "mimetype": "text/x-python",
   "name": "python",
   "nbconvert_exporter": "python",
   "pygments_lexer": "ipython3",
   "version": "3.12.7"
  }
 },
 "nbformat": 4,
 "nbformat_minor": 5
}
