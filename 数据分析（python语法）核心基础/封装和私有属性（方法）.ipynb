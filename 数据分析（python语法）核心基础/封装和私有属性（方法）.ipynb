{
 "cells": [
  {
   "cell_type": "code",
   "execution_count": 2,
   "id": "7f5f935a-d02d-418e-8734-2697cab5cabc",
   "metadata": {},
   "outputs": [
    {
     "name": "stdout",
     "output_type": "stream",
     "text": [
      "姓名是:jack,年龄是:20\n",
      "姓名是:wila,年龄是:23\n",
      "jack\n",
      "20\n"
     ]
    }
   ],
   "source": [
    "#类中封装数据如何调用\n",
    "#1、\n",
    "class Student:\n",
    "    def __init__(self,name,age):\n",
    "        self.name=name\n",
    "        self.age=age\n",
    "    def add(self):\n",
    "        print('姓名是:%s,年龄是:%d'%(self.name,self.age))\n",
    "#创建对象s1\n",
    "s1=Student('jack',20)\n",
    "#创建对象s2\n",
    "s2=Student('wila',23)\n",
    "#调用数据法一：通过self间接调用\n",
    "s1.add()\n",
    "s2.add()\n",
    "#调用数据法二：通过对象属性直接调用\n",
    "print(s1.name)\n",
    "print(s1.age)"
   ]
  },
  {
   "cell_type": "code",
   "execution_count": 5,
   "id": "b843a048-4f2c-4169-b396-48753fe1858a",
   "metadata": {},
   "outputs": [
    {
     "name": "stdout",
     "output_type": "stream",
     "text": [
      "何晨光使用ak47发射了，还剩1子弹\n",
      "何晨光使用ak47发射了，还剩0子弹\n",
      "没有子弹了\n"
     ]
    }
   ],
   "source": [
    "#士兵射击\n",
    "class Soldier: \n",
    "    def __init__(self,name,model,count):\n",
    "        self.name=name     #初始化\n",
    "        self.model=model\n",
    "        self.count=count\n",
    "    def shoot(self):\n",
    "        if self.count<=0:\n",
    "            print('没有子弹了')\n",
    "        else:\n",
    "            self.count-=1\n",
    "            print(f'{self.name}使用{self.model}发射了，还剩{self.count}子弹')\n",
    "#创建对象\n",
    "s=Soldier('何晨光','ak47',2)\n",
    "s.shoot()  #通过self调用实例方法\n",
    "s.shoot()\n",
    "s.shoot()"
   ]
  },
  {
   "cell_type": "code",
   "execution_count": 6,
   "id": "6cd7a47d-5a6a-4a13-bc09-73bb8136fb40",
   "metadata": {},
   "outputs": [],
   "source": [
    "#类的私有属性和私有方法（不能外部访问）\n",
    "#1、类的私有属性和私有方法，都不能通过对象之间访问，但是可以在本类内部使用\n",
    "#2、类的私有属性和私有方法，不能被子类继承，子类也无法访问\n",
    "#3、类的私有属性和私有方法，往往用于处理内部的事情，不通过对象处理，起到安全的作用"
   ]
  },
  {
   "cell_type": "code",
   "execution_count": 30,
   "id": "0aa5f562-4114-49d6-8d19-0467ee3a5614",
   "metadata": {},
   "outputs": [
    {
     "name": "stdout",
     "output_type": "stream",
     "text": [
      "lucy\n",
      "20\n",
      "F\n",
      "lucy\n",
      "20\n"
     ]
    }
   ],
   "source": [
    "#定义私有属性和方法(各种格式)\n",
    "#_x也代表私有属性和方法，但实际上类和对象都可以访问（纸老虎）\n",
    "#__x私有属性（真正的）\n",
    "#xx_用于避免与python关键字的冲突\n",
    "class Classmate:\n",
    "    name='lucy'\n",
    "    _age=20    #纸老虎\n",
    "    __sex='F'\n",
    "pr=Classmate()\n",
    "print(Classmate.name)\n",
    "print(Classmate._age)  \n",
    "#print(Classmate.__sex)  报错，私有属性,外部不能访问私有属性\n",
    "#强行获取私有属性：对象.类名__属性\n",
    "print(pr._Classmate__sex)\n",
    "\n",
    "#通过对象访问\n",
    "print(pr.name)\n",
    "print(pr._age)\n",
    "#print(pr.__sex) 不能访问"
   ]
  },
  {
   "cell_type": "code",
   "execution_count": 33,
   "id": "4c2419c5-e463-4a12-b305-11b670a0cb77",
   "metadata": {},
   "outputs": [
    {
     "name": "stdout",
     "output_type": "stream",
     "text": [
      "haha\n",
      "跳舞\n",
      "唱歌\n"
     ]
    }
   ],
   "source": [
    "#通过正规手段获取私有属性：(只能在内部使用私有属性，通过调用公有实例方法)\n",
    "class Classmate:\n",
    "    def __init__(self):\n",
    "        self.__name='haha'\n",
    "    def funa(self):\n",
    "        print(self.__name)\n",
    "pr=Classmate()\n",
    "#print(pr.__name)  报错\n",
    "pr.funa() #对象调用方法获取私有属性\n",
    "\n",
    "#私有方法（在公有方法调用私有方法，在通过调用公有方法，才能访问到私有方法）\n",
    "class Classmate:\n",
    "    def __sing(self):\n",
    "        print('唱歌')\n",
    "    def dance(self):\n",
    "        print('跳舞')\n",
    "        self.__sing()\n",
    "pr=Classmate()\n",
    "#print(pr.__sing) 报错，外部不能使用私有方法\n",
    "pr.dance()"
   ]
  },
  {
   "cell_type": "code",
   "execution_count": 38,
   "id": "f932cc49-8154-4897-ac63-55fed153e00b",
   "metadata": {},
   "outputs": [
    {
     "name": "stdout",
     "output_type": "stream",
     "text": [
      "20\n",
      "20\n",
      "35\n"
     ]
    }
   ],
   "source": [
    "#修改私有属性的值\n",
    "class Classmate:\n",
    "    def __init__(self):\n",
    "        self.name='haha'\n",
    "        self.__age=20\n",
    "    #获取私有属性值\n",
    "    def get_age(self):\n",
    "        return self.__age\n",
    "    def set_age(self,new_age):\n",
    "        self.__age=new_age\n",
    "#实例化对象\n",
    "p=Classmate()\n",
    "#强行获取私有属性\n",
    "print(p._Classmate__age)\n",
    "#通过调用公有方法获取私有属性的值\n",
    "res=p.get_age()\n",
    "print(res)\n",
    "#想在类的外面修改私有属性的值\n",
    "ret=p.set_age(35)\n",
    "print(p.get_age())"
   ]
  },
  {
   "cell_type": "code",
   "execution_count": null,
   "id": "d1d8057d-4f8f-402a-9bcf-f1aa62f4ab77",
   "metadata": {},
   "outputs": [],
   "source": []
  }
 ],
 "metadata": {
  "kernelspec": {
   "display_name": "Python [conda env:base] *",
   "language": "python",
   "name": "conda-base-py"
  },
  "language_info": {
   "codemirror_mode": {
    "name": "ipython",
    "version": 3
   },
   "file_extension": ".py",
   "mimetype": "text/x-python",
   "name": "python",
   "nbconvert_exporter": "python",
   "pygments_lexer": "ipython3",
   "version": "3.12.7"
  }
 },
 "nbformat": 4,
 "nbformat_minor": 5
}
