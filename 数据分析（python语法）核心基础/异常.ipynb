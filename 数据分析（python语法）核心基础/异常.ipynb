{
 "cells": [
  {
   "cell_type": "code",
   "execution_count": 10,
   "id": "6a2d77fb-e724-435d-aff7-20011e470680",
   "metadata": {},
   "outputs": [
    {
     "name": "stdout",
     "output_type": "stream",
     "text": [
      "出现错误\n",
      "10\n",
      "name 'a' is not defined\n",
      "10\n",
      "name 'a' is not defined\n",
      "有命名错误\n"
     ]
    }
   ],
   "source": [
    "#异常处理格式一：try···except\n",
    "#法一：\n",
    "try:\n",
    "    print(a)\n",
    "except:\n",
    "    print('出现错误')\n",
    "b=10\n",
    "print(b)\n",
    "\n",
    "#法二\n",
    "try:\n",
    " print(a)\n",
    "except NameError as e:\n",
    "    print(e)\n",
    "b=10\n",
    "print(b)\n",
    "\n",
    "#法三：\n",
    "try:\n",
    "    print(a)\n",
    "except Exception as e:  #万能异常Exception：可以捕获任何异常\n",
    "    print(e)\n",
    "\n",
    "#法四：多分支异常\n",
    "try:\n",
    "    print(a)\n",
    "except IndexError as e:\n",
    "    print(e)\n",
    "except KeyError as e:\n",
    "    print(e)\n",
    "except NameError as e:\n",
    "    print('有命名错误')"
   ]
  },
  {
   "cell_type": "code",
   "execution_count": 12,
   "id": "007f0a8a-8ee6-47d2-8284-84163225a377",
   "metadata": {},
   "outputs": [
    {
     "name": "stdout",
     "output_type": "stream",
     "text": [
      "出现错误\n"
     ]
    }
   ],
   "source": [
    "##异常处理格式二：try···except···else\n",
    "#else只有在没有捕获到异常时才会执行\n",
    "dic={'name':'zs'}\n",
    "try:\n",
    "    print(dic['age'])\n",
    "except Exception:\n",
    "    print('出现错误')\n",
    "else:\n",
    "    print('没有捕获到异常')"
   ]
  },
  {
   "cell_type": "code",
   "execution_count": 13,
   "id": "4e017557-9967-42ae-8810-e60a6605df15",
   "metadata": {},
   "outputs": [
    {
     "name": "stdout",
     "output_type": "stream",
     "text": [
      "出现错误\n",
      "哈哈哈哈\n"
     ]
    }
   ],
   "source": [
    "#异常处理格式三：try···except(可以没有)···finally\n",
    "#无论有没有异常finally都执行\n",
    "try:\n",
    "    print(a)\n",
    "except:\n",
    "    print('出现错误')\n",
    "finally:\n",
    "    print('哈哈哈哈')"
   ]
  },
  {
   "cell_type": "code",
   "execution_count": 15,
   "id": "c5c85ab0-ba35-480f-9695-9fc043b5f426",
   "metadata": {},
   "outputs": [
    {
     "name": "stdin",
     "output_type": "stream",
     "text": [
      "请输入一个整数 0\n"
     ]
    },
    {
     "name": "stdout",
     "output_type": "stream",
     "text": [
      "未知错误 division by zero\n",
      "无论有无异常，都会执行\n"
     ]
    }
   ],
   "source": [
    "#异常处理格式三：完整捕获异常\n",
    "try:\n",
    "    n=int(input('请输入一个整数'))\n",
    "    print(10/n)\n",
    "except ValueError:\n",
    "    print('请输入正确的数据')\n",
    "except Exception as e:\n",
    "    print('未知错误 %s' %e)\n",
    "else:\n",
    "    print('没有异常时才会执行的代码')\n",
    "finally:\n",
    "    print('无论有无异常，都会执行')"
   ]
  },
  {
   "cell_type": "code",
   "execution_count": 27,
   "id": "15f4b706-be82-4b69-b65c-a3b323b18aeb",
   "metadata": {},
   "outputs": [
    {
     "name": "stdin",
     "output_type": "stream",
     "text": [
      "请输入整数： 2\n"
     ]
    },
    {
     "name": "stdout",
     "output_type": "stream",
     "text": [
      "2\n"
     ]
    },
    {
     "name": "stdin",
     "output_type": "stream",
     "text": [
      "请输入： 3\n"
     ]
    },
    {
     "name": "stdout",
     "output_type": "stream",
     "text": [
      "3.3333333333333335\n",
      "运行成功\n",
      "最后执行\n"
     ]
    }
   ],
   "source": [
    "#异常的传递：在主函数中设置‘异常捕获’机制\n",
    "#1、\n",
    "def funa():\n",
    "    return int(input('请输入整数：'))\n",
    "def funb():\n",
    "    return funa()\n",
    "try:\n",
    "    print(funb())\n",
    "except Exception as e:\n",
    "    print('错误：%s' %e)\n",
    "\n",
    "#2、\n",
    "def test():\n",
    "    num=int(input('请输入：'))\n",
    "    return 10/num\n",
    "def test2():\n",
    "    print(test())\n",
    "try:\n",
    "    test2()\n",
    "except ValueError:\n",
    "    print('错误，输入不正确')\n",
    "except ZeroDivisionError:\n",
    "    print('非零')\n",
    "else:\n",
    "    print('运行成功')\n",
    "finally:\n",
    "    print('最后执行')"
   ]
  },
  {
   "cell_type": "code",
   "execution_count": 28,
   "id": "89c9f2d9-0e8e-4e44-91de-ef05d3570134",
   "metadata": {},
   "outputs": [
    {
     "ename": "Exception",
     "evalue": "有错误",
     "output_type": "error",
     "traceback": [
      "\u001b[0;31m---------------------------------------------------------------------------\u001b[0m",
      "\u001b[0;31mException\u001b[0m                                 Traceback (most recent call last)",
      "Cell \u001b[0;32mIn[28], line 8\u001b[0m\n\u001b[1;32m      6\u001b[0m     \u001b[38;5;28;01mraise\u001b[39;00m \u001b[38;5;167;01mException\u001b[39;00m(\u001b[38;5;124m'\u001b[39m\u001b[38;5;124m有错误\u001b[39m\u001b[38;5;124m'\u001b[39m)\n\u001b[1;32m      7\u001b[0m     \u001b[38;5;28mprint\u001b[39m(\u001b[38;5;124m'\u001b[39m\u001b[38;5;124mhahh\u001b[39m\u001b[38;5;124m'\u001b[39m)\n\u001b[0;32m----> 8\u001b[0m funa()\n",
      "Cell \u001b[0;32mIn[28], line 6\u001b[0m, in \u001b[0;36mfuna\u001b[0;34m()\u001b[0m\n\u001b[1;32m      5\u001b[0m \u001b[38;5;28;01mdef\u001b[39;00m \u001b[38;5;21mfuna\u001b[39m():\n\u001b[0;32m----> 6\u001b[0m     \u001b[38;5;28;01mraise\u001b[39;00m \u001b[38;5;167;01mException\u001b[39;00m(\u001b[38;5;124m'\u001b[39m\u001b[38;5;124m有错误\u001b[39m\u001b[38;5;124m'\u001b[39m)\n\u001b[1;32m      7\u001b[0m     \u001b[38;5;28mprint\u001b[39m(\u001b[38;5;124m'\u001b[39m\u001b[38;5;124mhahh\u001b[39m\u001b[38;5;124m'\u001b[39m)\n",
      "\u001b[0;31mException\u001b[0m: 有错误"
     ]
    }
   ],
   "source": [
    "#主动抛出异常的步骤：\n",
    "#1、创建一个Exception('···')  ，···是输出异常的提示信息\n",
    "#2、raise 抛出这个对象\n",
    "#例1\n",
    "def funa():\n",
    "    raise Exception('有错误')\n",
    "    print('hahh')\n",
    "funa()"
   ]
  },
  {
   "cell_type": "code",
   "execution_count": 36,
   "id": "8eb82899-ba02-498f-b0b0-a6ee4bc4de4d",
   "metadata": {},
   "outputs": [
    {
     "name": "stdin",
     "output_type": "stream",
     "text": [
      "请输入密码： 123\n"
     ]
    },
    {
     "name": "stdout",
     "output_type": "stream",
     "text": [
      "错误:长度不够\n"
     ]
    }
   ],
   "source": [
    "#例2\n",
    "def user():\n",
    "    pwd=input('请输入密码：')\n",
    "    if len(pwd)>=6:\n",
    "        return pwd\n",
    "    ex=Exception('长度不够')  #创建异常\n",
    "    raise ex                 #抛出异常\n",
    "try:\n",
    "    upwd=user()\n",
    "    print(upwd)\n",
    "except Exception as e:\n",
    "    print('错误:%s' %e)\n"
   ]
  },
  {
   "cell_type": "code",
   "execution_count": null,
   "id": "32c9ba10-953e-46cf-a1d6-a55794529bf5",
   "metadata": {},
   "outputs": [],
   "source": []
  }
 ],
 "metadata": {
  "kernelspec": {
   "display_name": "Python [conda env:base] *",
   "language": "python",
   "name": "conda-base-py"
  },
  "language_info": {
   "codemirror_mode": {
    "name": "ipython",
    "version": 3
   },
   "file_extension": ".py",
   "mimetype": "text/x-python",
   "name": "python",
   "nbconvert_exporter": "python",
   "pygments_lexer": "ipython3",
   "version": "3.12.7"
  }
 },
 "nbformat": 4,
 "nbformat_minor": 5
}
