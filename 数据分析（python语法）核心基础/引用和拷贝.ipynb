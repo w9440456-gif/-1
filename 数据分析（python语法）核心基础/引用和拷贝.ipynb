{
 "cells": [
  {
   "cell_type": "code",
   "execution_count": 1,
   "id": "9672ac7f-a599-4fad-b655-155f5189566b",
   "metadata": {},
   "outputs": [
    {
     "name": "stdout",
     "output_type": "stream",
     "text": [
      "[1, 2, 3, 4] 4568810624\n",
      "[1, 2, 3, 4] 4568810624\n"
     ]
    }
   ],
   "source": [
    "#当两个变量的数值相同时，共用一个内存地址，节省了空间\n",
    "a=[1,2,3,4]\n",
    "print(a,id(a))\n",
    "b=a\n",
    "print(b,id(b)) #实际上是b引用（指针）了a的"
   ]
  },
  {
   "cell_type": "code",
   "execution_count": 3,
   "id": "033e5c58-8d31-4210-83eb-fd0f519d9888",
   "metadata": {},
   "outputs": [
    {
     "name": "stdout",
     "output_type": "stream",
     "text": [
      "[1, 2, 3, 4, 5]\n",
      "4568852096\n",
      "4568855488\n"
     ]
    }
   ],
   "source": [
    "#拷贝\n",
    "import copy #导入拷贝模块\n",
    "a=[1,2,3,4,5]\n",
    "a_copy=copy.copy(a)\n",
    "print(a_copy)\n",
    "print(id(a))\n",
    "print(id(a_copy)) #拷贝后内存地址不同"
   ]
  },
  {
   "cell_type": "code",
   "execution_count": 15,
   "id": "055c4752-553f-4433-817a-ebbeb02a5113",
   "metadata": {},
   "outputs": [
    {
     "name": "stdout",
     "output_type": "stream",
     "text": [
      "[1, 2, 3, [4, 5, 6]] 5176615360\n",
      "[1, 2, 3, [4, 5, 6]] 5176609984\n",
      "[1, 2, 100, [4, 5, 6]]\n",
      "[1, 2, 3, [4, 5, 6]]\n",
      "[1, 2, 3, [4, 100, 6]]\n",
      "[1, 2, 3, [4, 5, 6]]\n"
     ]
    }
   ],
   "source": [
    "#深拷贝\n",
    "import copy\n",
    "a=[1,2,3,[4,5,6]] #两层数据\n",
    "a_deepcopy=copy.deepcopy(a)\n",
    "print(a,id(a))\n",
    "print(a_deepcopy,id(a_deepcopy)) \n",
    "\n",
    "#修改原数据a第一层元素，深拷贝（a_deepcopy）的值不会变\n",
    "a[2]=100\n",
    "print(a)\n",
    "print(a_deepcopy)\n",
    "\n",
    "#修改原数据a第二层元素，深拷贝（a_deepcopy）的值也不会变\n",
    "a=[1,2,3,[4,5,6]]\n",
    "a[3][1]=100\n",
    "print(a)\n",
    "print(a_deepcopy)"
   ]
  },
  {
   "cell_type": "code",
   "execution_count": 19,
   "id": "022669df-adba-4187-be02-bd41016dfeaf",
   "metadata": {},
   "outputs": [
    {
     "name": "stdout",
     "output_type": "stream",
     "text": [
      "[1, 2, 3, [4, 5, 6]] 5176618112\n",
      "[1, 2, 3, [4, 5, 6]] 5176615360\n",
      "[5, 2, 3, [4, 5, 6]] 5176618112\n",
      "[1, 2, 3, [4, 5, 6]] 5176615360\n",
      "[5, 2, 3, [100, 5, 6]] 5176618112\n",
      "[1, 2, 3, [100, 5, 6]] 5176615360\n"
     ]
    }
   ],
   "source": [
    "#浅拷贝\n",
    "import copy\n",
    "a=[1,2,3,[4,5,6]]\n",
    "a_copy=copy.copy(a)\n",
    "print(a,id(a))\n",
    "print(a_copy,id(a_copy))\n",
    "\n",
    "#修改原数据a的第一层元素，拷贝后的数据不变化\n",
    "a[0]=5\n",
    "print(a,id(a))\n",
    "print(a_copy,id(a_copy))\n",
    "\n",
    "#修改原数据a的第二层元素，拷贝后的数据会随原数据变化！！\n",
    "a[3][0]=100\n",
    "print(a,id(a))\n",
    "print(a_copy,id(a_copy))\n",
    "\n",
    "###深拷贝：完全复制，原数据发生变化，备份数据不变---日常备份\n",
    "###浅拷贝：半复制，备份数据第二层随原数据变化而变化---实时更新"
   ]
  },
  {
   "cell_type": "code",
   "execution_count": null,
   "id": "af569e5c-127e-4ee9-b854-8a458db343b7",
   "metadata": {},
   "outputs": [],
   "source": []
  }
 ],
 "metadata": {
  "kernelspec": {
   "display_name": "Python [conda env:base] *",
   "language": "python",
   "name": "conda-base-py"
  },
  "language_info": {
   "codemirror_mode": {
    "name": "ipython",
    "version": 3
   },
   "file_extension": ".py",
   "mimetype": "text/x-python",
   "name": "python",
   "nbconvert_exporter": "python",
   "pygments_lexer": "ipython3",
   "version": "3.12.7"
  }
 },
 "nbformat": 4,
 "nbformat_minor": 5
}
