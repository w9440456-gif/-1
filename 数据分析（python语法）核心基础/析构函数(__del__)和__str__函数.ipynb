{
 "cells": [
  {
   "cell_type": "code",
   "execution_count": 1,
   "id": "871eb374-1626-476e-b696-6bb7af7e0da0",
   "metadata": {},
   "outputs": [],
   "source": [
    "#__init__（）函数  通常用来做属性初始化--创建对象，python解释会默认调用\n",
    "#__del__()析构函数--删除对象，python解释器默认调用的方法\n",
    "#析构函数用于在对象被清除后清除它所占用的内存空间\n",
    "\n",
    "#作用：主要用于对那些长期占用内存的临时变量进行销毁\n",
    "\n",
    "#注意事项：\n",
    "#1.构造函数和析构函数不一样，不能有返回值：\n",
    "#2.析构函数不能有参数\n",
    "#3.一个类只有一个析构函数\n",
    "#4.析构函数在对象销毁时被调用。"
   ]
  },
  {
   "cell_type": "code",
   "execution_count": 26,
   "id": "55fc7cc7-8f71-48da-b90f-35ba9543df94",
   "metadata": {},
   "outputs": [
    {
     "name": "stdout",
     "output_type": "stream",
     "text": [
      "我是init方法\n",
      "被销毁了\n",
      "最后一局\n",
      "最后一局\n",
      "最后一局\n",
      "123\n"
     ]
    }
   ],
   "source": [
    "class Person:\n",
    "    def __init__(self):\n",
    "        print('我是init方法')\n",
    "    def __del__(self):     #析构函数，这里输出的顺序应该是在最后一条，对象在某个作用域调用完后，析构函数会被调用一次，用来释放内存\n",
    "        print('被销毁了')\n",
    "#创建对象\n",
    "xm=Person()\n",
    "print('最后一局')\n",
    "print('最后一局')\n",
    "print('最后一局')\n",
    "\n",
    "def funa():\n",
    "    print(123)\n",
    "funa()"
   ]
  },
  {
   "cell_type": "code",
   "execution_count": 29,
   "id": "a0919834-1b16-4cbc-9b0b-d301defa5069",
   "metadata": {},
   "outputs": [
    {
     "name": "stdout",
     "output_type": "stream",
     "text": [
      "我是init方法\n",
      "被销毁了\n",
      "最后一局\n"
     ]
    }
   ],
   "source": [
    "#手动构造析构函数\n",
    "class Person:\n",
    "     def __init__(self):\n",
    "         print('我是init方法')\n",
    "     def __del__(self):    \n",
    "         print('被销毁了')\n",
    "xm=Person()\n",
    "del xm   #手动删除对象\n",
    "print('最后一局')\n",
    "         "
   ]
  },
  {
   "cell_type": "code",
   "execution_count": 33,
   "id": "0686dad9-2df2-4617-b63e-a3082be518c1",
   "metadata": {},
   "outputs": [
    {
     "name": "stdout",
     "output_type": "stream",
     "text": [
      "hello\n",
      "你的名字是jack,年龄是20\n"
     ]
    }
   ],
   "source": [
    "#拓展__str__()函数---能够输出对象变量时，自动打印内容\n",
    "#注意：\n",
    "#__str__（）必须返回一个字符串：\n",
    "class A:\n",
    "    def __str__(self):\n",
    "        return 'hello'\n",
    "obj=A()\n",
    "print(obj) #这里是返回内容，不用str函数，是返回地址\n",
    "\n",
    "class Human:\n",
    "    mind='haha'\n",
    "    def __init__(self,name,age):\n",
    "        self.name=name\n",
    "        self.age=age\n",
    "    def work(self):\n",
    "        print(f'你的名字是{name}')\n",
    "    def __str__(self):\n",
    "         return '你的名字是%s,年龄是%d'%(self.name,self.age)\n",
    "obj=Human('jack',20)\n",
    "#print(obj)  不用str返回的是对象地址\n",
    "print(obj)"
   ]
  },
  {
   "cell_type": "code",
   "execution_count": null,
   "id": "2ea60be0-abf1-4ba3-b000-1faa9c28abf6",
   "metadata": {},
   "outputs": [],
   "source": []
  }
 ],
 "metadata": {
  "kernelspec": {
   "display_name": "Python [conda env:base] *",
   "language": "python",
   "name": "conda-base-py"
  },
  "language_info": {
   "codemirror_mode": {
    "name": "ipython",
    "version": 3
   },
   "file_extension": ".py",
   "mimetype": "text/x-python",
   "name": "python",
   "nbconvert_exporter": "python",
   "pygments_lexer": "ipython3",
   "version": "3.12.7"
  }
 },
 "nbformat": 4,
 "nbformat_minor": 5
}
