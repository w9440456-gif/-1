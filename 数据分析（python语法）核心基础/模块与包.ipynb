{
 "cells": [
  {
   "cell_type": "code",
   "execution_count": 2,
   "id": "122f4e0e-a8b7-4f82-8057-1ca97f16f0c6",
   "metadata": {},
   "outputs": [],
   "source": [
    "#模块分类\n",
    "#1、内置模块：标准库 python解释器提供的\n",
    "#查看内置函数\n",
    "#import builtins\n",
    "#print(dir(builtins))\n",
    "#2、库 第三方模块\n",
    "#安装 pip install(或者file- setting- project interpreter- +)\n",
    "#3、自定义模块"
   ]
  },
  {
   "cell_type": "code",
   "execution_count": 3,
   "id": "5146543c-5efb-472b-b1aa-bc9c1653483d",
   "metadata": {},
   "outputs": [
    {
     "name": "stdout",
     "output_type": "stream",
     "text": [
      "3\n",
      "5\n"
     ]
    }
   ],
   "source": [
    "#模块的使用\n",
    "#import 模块名\n",
    "#步骤：1）创建模块（文件）--自定义模块时\n",
    "#2）导入模块import 模块\n",
    "#）使用模块里的内容时---模块名.\n",
    "#模块取别名 as\n",
    "#多模块导入\n",
    "#import a\n",
    "#import b\n",
    "\n",
    "#from 模块名 import 某个内容\n",
    "#from import与import的区别：\n",
    "import random\n",
    "print(random.randint(1,5))\n",
    "\n",
    "from random import randint\n",
    "print(randint(1,5))\n",
    "\n",
    "#更推荐使用第一种"
   ]
  },
  {
   "cell_type": "code",
   "execution_count": 5,
   "id": "e405132d-8205-4751-aed2-b8ac743e7439",
   "metadata": {},
   "outputs": [
    {
     "data": {
      "text/plain": [
       "True"
      ]
     },
     "execution_count": 5,
     "metadata": {},
     "output_type": "execute_result"
    }
   ],
   "source": [
    "#py文件的两种功能\n",
    "#1、脚本：一个文件就是整个程序，直接运行\n",
    "#__name__=='__main__'  #表示代码是直接在当前文件里运行的\n",
    "#2、模块：作为模块导入其他文件执行\n",
    "#作为模块导入时，__name__==模块名（没有后缀）"
   ]
  },
  {
   "cell_type": "code",
   "execution_count": null,
   "id": "2627afc6-4817-4df4-9887-a6892798b8a4",
   "metadata": {},
   "outputs": [],
   "source": [
    "#包：文件夹（目录），用于对不同模块进行分类管理，方便维护\n",
    "#但与普通文件夹的区别：多一个__init__.py\n",
    "#当包被作为模块导入时，包目录下会生成一个__pycache__文件夹\n",
    "\n",
    "#__init__.py文件并不是用了定义程序单元的，而是用于导入包内模块的成员，这样可把模块中的成员导入变成包内的成员\n",
    "#步骤：在_init__.py文件中先执行from test（包的名字）import t1,t2(t1,t2 是一个文件（模块）)：当包被当成模块导入时，自动执行__init__.py文件的代码\n"
   ]
  }
 ],
 "metadata": {
  "kernelspec": {
   "display_name": "Python [conda env:base] *",
   "language": "python",
   "name": "conda-base-py"
  },
  "language_info": {
   "codemirror_mode": {
    "name": "ipython",
    "version": 3
   },
   "file_extension": ".py",
   "mimetype": "text/x-python",
   "name": "python",
   "nbconvert_exporter": "python",
   "pygments_lexer": "ipython3",
   "version": "3.12.7"
  }
 },
 "nbformat": 4,
 "nbformat_minor": 5
}
