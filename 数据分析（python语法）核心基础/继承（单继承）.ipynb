{
 "cells": [
  {
   "cell_type": "code",
   "execution_count": 2,
   "id": "ed2b60d9-6e62-4e7c-ae56-5955d2a8b3d1",
   "metadata": {},
   "outputs": [
    {
     "name": "stdout",
     "output_type": "stream",
     "text": [
      "唱歌\n",
      "跳舞\n"
     ]
    }
   ],
   "source": [
    "#继承（父类的属性和方法都可以传递给子类）‘\n",
    "#格式 子类名（父类名）\n",
    "class God:\n",
    "    def sing(self):\n",
    "        print('唱歌')\n",
    "    def dance(self):\n",
    "        print('跳舞')\n",
    "class Person(God):\n",
    "    pass\n",
    "p=Person()  #Person类中实例化对象\n",
    "p.sing()\n",
    "p.dance()"
   ]
  },
  {
   "cell_type": "code",
   "execution_count": 3,
   "id": "c0080bc7-504d-4177-8dc4-d1b0d4e0a53e",
   "metadata": {},
   "outputs": [],
   "source": [
    "#新式类和旧式类（jing dian）\n",
    "#python3中新式类的定义：\n",
    "#法一：\n",
    "class 类名(object):\n",
    "    pass\n",
    "#法二：\n",
    "class 类名():\n",
    "    pass\n",
    "#法三：\n",
    "class 类名:\n",
    "    pass\n",
    "#python2中，默认都是经典类，只有显示继承了object才是新式类"
   ]
  },
  {
   "cell_type": "code",
   "execution_count": 10,
   "id": "c55a8255-86fb-4209-9f33-f1ab37e7c462",
   "metadata": {},
   "outputs": [
    {
     "name": "stdout",
     "output_type": "stream",
     "text": [
      "lucy正在吃东西,性别是:男,年龄是:20\n"
     ]
    }
   ],
   "source": [
    "#单继承\n",
    "class Person:\n",
    "    Sname='动物类'\n",
    "    def __init__(self,name,sex,age):\n",
    "        self.name=name\n",
    "        self.sex=sex\n",
    "        self.age=age\n",
    "    def eat(self):\n",
    "        print(f'{self.name}正在吃东西,性别是:{self.sex},年龄是:{self.age}')\n",
    "class Lucy(Person):\n",
    "    pass\n",
    "pr=Lucy('lucy','男',20)\n",
    "pr.eat()"
   ]
  },
  {
   "cell_type": "code",
   "execution_count": 1,
   "id": "5e1f0890-9a06-4d37-8044-2dd60fa04e2f",
   "metadata": {},
   "outputs": [
    {
     "name": "stdout",
     "output_type": "stream",
     "text": [
      "小黑说:我会飞\n",
      "小黑在汪汪叫\n",
      "--吃--\n"
     ]
    }
   ],
   "source": [
    "#继承的传递性\n",
    "#爷爷类：\n",
    "class Animal:\n",
    "    def __init__(self,name):\n",
    "        self.name=name\n",
    "    def eat(self):\n",
    "        print('--吃--')\n",
    "    def shui(self):\n",
    "        print('--睡--')\n",
    "#爸爸类\n",
    "class Dog(Animal):\n",
    "    def bark(self):\n",
    "        print(f'{self.name}在汪汪叫')\n",
    "#儿子类\n",
    "class Black(Dog):\n",
    "    def fly(self):\n",
    "        print(f'{self.name}说:我会飞')\n",
    "#创建对象\n",
    "black=Black('小黑')\n",
    "black.fly()\n",
    "black.bark()\n",
    "black.eat()"
   ]
  },
  {
   "cell_type": "code",
   "execution_count": 2,
   "id": "c1011ac3-bb6a-4f16-9b81-36c3508cf88a",
   "metadata": {},
   "outputs": [],
   "source": [
    "#重写父类\n",
    "class Human(object):\n",
    "class Animal:\n",
    "    def eat(self):\n",
    "        print('%s在吃饭' % self.name)\n",
    "class Zs(Human):   #继承\n",
    "    def eat(self):  #重写，相当于覆盖原来的方法\n",
    "        print('%s在慢慢地吃饭' % self.name)"
   ]
  },
  {
   "cell_type": "code",
   "execution_count": 4,
   "id": "1128c97e-b787-41e7-8f41-03f8ad4e5176",
   "metadata": {},
   "outputs": [
    {
     "name": "stdout",
     "output_type": "stream",
     "text": [
      "小白在叫\n",
      "haha\n",
      "小白在汪汪叫\n"
     ]
    }
   ],
   "source": [
    "#拓展父类方法\n",
    "#1、父类名.函数名（self）\n",
    "class Animal:\n",
    "    def eat(self):\n",
    "        print('吃东西')\n",
    "class Dog(Animal):\n",
    "    def eat(self):        #重写\n",
    "        Animal.eat(self)  #与重写的区别：用父类名调用父类方法\n",
    "        print('肯骨头')\n",
    "\n",
    "#2、super（）.父类方法\n",
    "class Animal(object):\n",
    "    def __init__(self,name):\n",
    "        self.name=name\n",
    "    def bark(self):\n",
    "        print('%s在叫'%self.name)\n",
    "        print('haha')\n",
    "class Dog(Animal):\n",
    "    def bark(self):      #重写\n",
    "        super().bark()   #用super()调用父类方法\n",
    "        print('%s在汪汪叫'%self.name)\n",
    "#创建对象\n",
    "zs=Dog('小白')\n",
    "zs.bark()"
   ]
  },
  {
   "cell_type": "code",
   "execution_count": 8,
   "id": "75f5e385-2dce-4202-9c57-bcf9a9339a11",
   "metadata": {},
   "outputs": [
    {
     "name": "stdout",
     "output_type": "stream",
     "text": [
      "父类中的名字是:lucy\n",
      "子类中的名字是:lucy\n",
      "父类中的lucy在xixi笑\n"
     ]
    }
   ],
   "source": [
    "#重写和拓展父类综合应用\n",
    "class A:\n",
    "    def __init__(self,name):\n",
    "        self.name=name\n",
    "        print(f'父类中的名字是:{self.name}')\n",
    "    def test(self):\n",
    "        print('父类中的%s在哈哈笑'% self.name)\n",
    "class A2(A):\n",
    "    def __init__(self,name):\n",
    "        super().__init__(name) #拓展\n",
    "        #A.__init(self.name):  #拓展\n",
    "        print(f'子类中的名字是:{self.name}')\n",
    "    def test(self):     #重写\n",
    "        print('父类中的%s在xixi笑'% self.name)\n",
    "#创建子类对象，自动调用初始化函数\n",
    "a2=A2('lucy')\n",
    "a2.test()"
   ]
  }
 ],
 "metadata": {
  "kernelspec": {
   "display_name": "Python [conda env:base] *",
   "language": "python",
   "name": "conda-base-py"
  },
  "language_info": {
   "codemirror_mode": {
    "name": "ipython",
    "version": 3
   },
   "file_extension": ".py",
   "mimetype": "text/x-python",
   "name": "python",
   "nbconvert_exporter": "python",
   "pygments_lexer": "ipython3",
   "version": "3.12.7"
  }
 },
 "nbformat": 4,
 "nbformat_minor": 5
}
