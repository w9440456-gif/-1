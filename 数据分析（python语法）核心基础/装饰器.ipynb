{
 "cells": [
  {
   "cell_type": "code",
   "execution_count": 6,
   "id": "51592704-4f0d-4874-80bf-595818228041",
   "metadata": {},
   "outputs": [
    {
     "name": "stdout",
     "output_type": "stream",
     "text": [
      "我准备开始计算：add函数了\n",
      "200+50=250\n",
      "啊哈，我计算完了，奖励一个鸡腿\n"
     ]
    }
   ],
   "source": [
    "#装饰器本质是一个闭包函数\n",
    "#标准装饰器的模版\n",
    "def wrapper(func):\n",
    "    def inner(*args,**kwargs):\n",
    "        res=func(*args,**kwargs)\n",
    "        return res  #这个可以没有\n",
    "    return inner    #这个必须要有，才符合闭包\n",
    "\n",
    "#例子\n",
    "#创建装饰器模版\n",
    "def logger(func):\n",
    "    def wrapper(*args):\n",
    "        print('我准备开始计算：{}函数了'.format(func.__name__))\n",
    "        #真正执行的业务函数\n",
    "        func(*args)\n",
    "        print('啊哈，我计算完了，奖励一个鸡腿')\n",
    "    return wrapper\n",
    "\n",
    "#第一种方法\n",
    "def add(x,y):\n",
    "    print('{}+{}={}'.format(x,y,x+y))\n",
    "#使用装饰器来装饰函数，把函数名add作为参数传入装饰器\n",
    "te=logger(add)\n",
    "te(200,50)"
   ]
  },
  {
   "cell_type": "code",
   "execution_count": 1,
   "id": "8da91d62-0f4b-4fac-9555-901a5757de74",
   "metadata": {},
   "outputs": [
    {
     "name": "stdout",
     "output_type": "stream",
     "text": [
      "我准备开始计算：add函数了\n",
      "200+50=250\n",
      "啊哈，我计算完了，奖励一个鸡腿\n"
     ]
    }
   ],
   "source": [
    "#第二种方法（语法糖）@\n",
    "#创建装饰器模版（模版是一样的）\n",
    "def logger(func):\n",
    "    def wrapper(*args):\n",
    "        print('我准备开始计算：{}函数了'.format(func.__name__))\n",
    "        #真正执行的业务函数\n",
    "        func(*args)\n",
    "        print('啊哈，我计算完了，奖励一个鸡腿')\n",
    "    return wrapper\n",
    "#定义真正的业务函数\n",
    "@logger\n",
    "def add(x,y):\n",
    "    print('{}+{}={}'.format(x,y,x+y))\n",
    "add(200,50)\n",
    "\n",
    "#装饰器可以实现代码的复用——一个模版，可以多个函数使用"
   ]
  },
  {
   "cell_type": "code",
   "execution_count": 7,
   "id": "44679842-32cb-4283-83ae-9ef2dc73486b",
   "metadata": {},
   "outputs": [
    {
     "name": "stdout",
     "output_type": "stream",
     "text": [
      "这是inner\n",
      "hahah\n",
      "这是inner\n",
      "hahah\n"
     ]
    }
   ],
   "source": [
    "#一、无参数的函数（被装饰的函数（业务函数）无参数）\n",
    "#装饰器的本质（闭包函数）：通过业务函数作为参数传入到装饰器函数\n",
    "def test(fn): #这个fn必须有，是用来传入参数的\n",
    "    def inner():\n",
    "        print('这是inner')\n",
    "        fn()\n",
    "    return inner\n",
    "#法一\n",
    "def t1():   #有无参数看这里\n",
    "    print('hahah')\n",
    "t=test(t1)\n",
    "t()\n",
    "#法二：\n",
    "@test\n",
    "def t1():\n",
    "    print('hahah')\n",
    "t1()"
   ]
  },
  {
   "cell_type": "code",
   "execution_count": 14,
   "id": "ed5eb82b-4ce1-46f2-8858-26780b4cd861",
   "metadata": {},
   "outputs": [
    {
     "name": "stdout",
     "output_type": "stream",
     "text": [
      "inner函数中值：1,2\n",
      "结果是: 3\n"
     ]
    }
   ],
   "source": [
    "#二、被装饰函数有参数\n",
    "def exam(fn):\n",
    "    def inner(a,b):\n",
    "         print('inner函数中值：%s,%s' %(a,b))\n",
    "         fn(a,b)\n",
    "    return inner\n",
    "@exam\n",
    "def test(a,b):\n",
    "         print('结果是:',(a+b))\n",
    "test(1,2)"
   ]
  },
  {
   "cell_type": "code",
   "execution_count": 28,
   "id": "f835a2c1-326e-4d55-8b28-ce5292a86cae",
   "metadata": {},
   "outputs": [
    {
     "name": "stdout",
     "output_type": "stream",
     "text": [
      "hello 1 2\n",
      "inner函数中值：3,4\n",
      "结果是: 7\n"
     ]
    }
   ],
   "source": [
    "#多层嵌套\n",
    "def exam(fn):\n",
    "    def funa(x,y):\n",
    "        print('hello',x,y)\n",
    "        def inner(a,b):\n",
    "            print('inner函数中值：%s,%s' %(a,b))\n",
    "            fn(a,b)\n",
    "        return inner\n",
    "    return funa\n",
    "@exam\n",
    "def test(a,b):\n",
    "    print('结果是:', (a+b))\n",
    "test(1,2)(3,4)"
   ]
  },
  {
   "cell_type": "code",
   "execution_count": 29,
   "id": "b2e14bf4-e962-4795-ada3-f781f6e4f934",
   "metadata": {},
   "outputs": [
    {
     "name": "stdout",
     "output_type": "stream",
     "text": [
      "我开始计算：add函数了\n",
      "((1, 2, 3, 4), {'a': 1, 'b': 3})\n",
      "{}\n",
      "执行完成\n"
     ]
    }
   ],
   "source": [
    "#不定长参数（可变参数）和关键字的函数：\n",
    "def funa(fn):\n",
    "    def inner(*a,**b):\n",
    "        print(f'我开始计算：{fn.__name__}函数了')\n",
    "        fn(a,b)\n",
    "        print('执行完成')\n",
    "    return inner\n",
    "@funa\n",
    "def add(*a,**b):\n",
    "    print(a)\n",
    "    print(b)\n",
    "add(1,2,3,4,a=1,b=3)  #这里的a,b和上面不一样，都属于关键字的传参"
   ]
  },
  {
   "cell_type": "code",
   "execution_count": 31,
   "id": "61605a57-e467-4baf-95c7-955c1ee448e9",
   "metadata": {},
   "outputs": [
    {
     "name": "stdout",
     "output_type": "stream",
     "text": [
      "这是test2函数\n",
      "这是test函数\n",
      "函数一\n"
     ]
    }
   ],
   "source": [
    "#回调函数：在一个函数中调用另一个函数\n",
    "def test(te):\n",
    "    te()\n",
    "    print('这是test函数')\n",
    "def test2():\n",
    "    print('这是test2函数')\n",
    "test(test2)    #在test（）调用test2，将test2作为参数传入，即上面的te=test2\n",
    "\n",
    "#例\n",
    "def test3(m,n):\n",
    "    if m==2:\n",
    "        n()\n",
    "    else:\n",
    "        print('不可调用')\n",
    "def one():\n",
    "    print('函数一')\n",
    "def two():\n",
    "    print('函数二')\n",
    "test3(2,one)"
   ]
  },
  {
   "cell_type": "code",
   "execution_count": null,
   "id": "d5a62432-0730-465b-b71c-3924ec7db39a",
   "metadata": {},
   "outputs": [],
   "source": []
  }
 ],
 "metadata": {
  "kernelspec": {
   "display_name": "Python [conda env:base] *",
   "language": "python",
   "name": "conda-base-py"
  },
  "language_info": {
   "codemirror_mode": {
    "name": "ipython",
    "version": 3
   },
   "file_extension": ".py",
   "mimetype": "text/x-python",
   "name": "python",
   "nbconvert_exporter": "python",
   "pygments_lexer": "ipython3",
   "version": "3.12.7"
  }
 },
 "nbformat": 4,
 "nbformat_minor": 5
}
