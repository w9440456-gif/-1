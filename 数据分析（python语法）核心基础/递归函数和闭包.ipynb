{
 "cells": [
  {
   "cell_type": "code",
   "execution_count": 3,
   "id": "a35a530f-251d-43e8-95e0-7fc0f846a6f2",
   "metadata": {},
   "outputs": [
    {
     "name": "stdout",
     "output_type": "stream",
     "text": [
      "6\n"
     ]
    }
   ],
   "source": [
    "#递归函数 sum=0  sum=sum+1 sum=sum+2 sum=sum+3 sum=sum+4\n",
    "#求n项的和\n",
    "def funa(n):\n",
    "    if n>0:\n",
    "        return funa(n-1)+n\n",
    "    else:\n",
    "        return 0\n",
    "print(funa(3))  #funa(n)=funa(n-1)+ndu\n",
    "#递归过程\n",
    "#f(3)\n",
    "#=f(2)+3\n",
    "#=f(1)+2+3\n",
    "#=f(0)+1+2+3  #要f(0)设置一个初始值"
   ]
  },
  {
   "cell_type": "code",
   "execution_count": 4,
   "id": "005596f6-0c47-4cda-83b8-8d2915dd7ee1",
   "metadata": {},
   "outputs": [
    {
     "name": "stdout",
     "output_type": "stream",
     "text": [
      "[1, 1, 2, 3, 5, 8, 13, 21, 34, 55]\n"
     ]
    }
   ],
   "source": [
    "#用递归实现斐波那契函数序列\n",
    "li1=[]\n",
    "def funa(n):  #定义第n项的值\n",
    "    if n<=1:\n",
    "        return n\n",
    "    else:\n",
    "        return funa(n-1)+funa(n-2)\n",
    "for i in range(1,11): #循环10次\n",
    "    li1.append(funa(i))\n",
    "print(li1)"
   ]
  },
  {
   "cell_type": "code",
   "execution_count": 6,
   "id": "13667b3a-3436-47f7-9298-d87bec45cb6a",
   "metadata": {},
   "outputs": [
    {
     "name": "stdout",
     "output_type": "stream",
     "text": [
      "3 4303544144\n",
      "3 4303544144\n",
      "--wfw--\n",
      "4369235488\n",
      "4369235488\n"
     ]
    }
   ],
   "source": [
    "#变量引用\n",
    "a=3\n",
    "print(a,id(a))\n",
    "b=a\n",
    "print(b,id(b))\n",
    "\n",
    "#函数的引用:\n",
    "#如果收到的是不可变对象（列表，字典），引用可以修改原始值（不改变地址）\n",
    "#如果是不可变对象（数字元），引用不可改变原始值（改变的话地址会另建）\n",
    "def test1():\n",
    "    print('--wfw--')\n",
    "test1()\n",
    "res=test1  #相当于变量赋值（函数名）\n",
    "print(id(res))\n",
    "print(id(test1))"
   ]
  },
  {
   "cell_type": "code",
   "execution_count": 11,
   "id": "eff3acc1-00ff-44c8-9b64-0fafd84c87c8",
   "metadata": {},
   "outputs": [
    {
     "name": "stdout",
     "output_type": "stream",
     "text": [
      "inner函数 13\n",
      "2\n"
     ]
    }
   ],
   "source": [
    "#闭包的定义：\n",
    "#闭包是函数内部定义的函数\n",
    "#1）闭包是嵌套在函数中的函数\n",
    "#2）闭包必须是内层函数对外层函数变量\n",
    "#构成条件\n",
    "#1）函数中嵌套一个函数\n",
    "#2）内层嵌套函数，对外部作用域有体格非全局变量的引用\n",
    "#3）外层函数的返回时内存函数的函数名\n",
    "\n",
    "#模版：\n",
    "def outf():\n",
    "    sum=n    #定义一个非全局变量\n",
    "    def inf(): \n",
    "        return sum+1\n",
    "    return inf  #外层函数返回值是内层函数的函数名\n",
    "\n",
    "#闭包的作用：保存局部信息不被销毁，保证数据的案例性\n",
    "#闭包的应用：\n",
    "#1）可以保存一些局部变量但是不易被销毁，改变的数据\n",
    "#2）装饰器\n",
    "#3）实现数据锁定\n",
    "\n",
    "#创建闭包\n",
    "def outer(m):\n",
    "    n=10\n",
    "    def inner():\n",
    "        print('inner函数',n+m)\n",
    "    return inner\n",
    "ot=outer(3)  \n",
    "ot()\n",
    "!!!执行顺序，先调用了outer（3）进行传参，进入外层函数n=10，然后到return inner，返回值到调用处，即ot,然后ot()即inner（）的调用\n",
    "\n",
    "#修改外部函数的变量 nonlocal\n",
    "def outer(a):\n",
    "    def inner():\n",
    "        nonlocal a #声明外层函数的非全局变量\n",
    "        a+=1\n",
    "        print(a)\n",
    "    return inner\n",
    "ot=outer(1)\n",
    "ot()"
   ]
  },
  {
   "cell_type": "code",
   "execution_count": null,
   "id": "c001ee2a-c78c-4d17-a2b4-f0a325710d0e",
   "metadata": {},
   "outputs": [],
   "source": []
  }
 ],
 "metadata": {
  "kernelspec": {
   "display_name": "Python [conda env:base] *",
   "language": "python",
   "name": "conda-base-py"
  },
  "language_info": {
   "codemirror_mode": {
    "name": "ipython",
    "version": 3
   },
   "file_extension": ".py",
   "mimetype": "text/x-python",
   "name": "python",
   "nbconvert_exporter": "python",
   "pygments_lexer": "ipython3",
   "version": "3.12.7"
  }
 },
 "nbformat": 4,
 "nbformat_minor": 5
}
