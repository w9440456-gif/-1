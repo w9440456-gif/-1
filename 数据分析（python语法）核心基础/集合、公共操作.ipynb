{
 "cells": [
  {
   "cell_type": "code",
   "execution_count": 3,
   "id": "b0918573-9c3f-4625-a38d-5198a6ac749a",
   "metadata": {},
   "outputs": [
    {
     "name": "stdout",
     "output_type": "stream",
     "text": [
      "{1, 2, 3}\n",
      "<class 'set'>\n",
      "{'e', 'd', 'b', 'c', 'a'}\n",
      "<class 'set'>\n"
     ]
    }
   ],
   "source": [
    "#集合的定义：大括号。与字典的区别：字典键值对形式，集合不用\n",
    "#集合是无序，不重复的，故不支持下标\n",
    "s1={1,2,3}  #直接定义\n",
    "print(s1)\n",
    "print(type(s1))\n",
    "s2=set('abcde')\n",
    "print(s2)\n",
    "print(type(s2))"
   ]
  },
  {
   "cell_type": "code",
   "execution_count": 5,
   "id": "4841efeb-8187-4fb1-91e9-64b09c6dfdf0",
   "metadata": {},
   "outputs": [
    {
     "name": "stdout",
     "output_type": "stream",
     "text": [
      "{}\n",
      "<class 'dict'>\n",
      "set()\n",
      "<class 'set'>\n"
     ]
    }
   ],
   "source": [
    "#定义空集合\n",
    "s4={} #系统这里默认是空字典\n",
    "print(s4)\n",
    "print(type(s4))\n",
    "s5=set()\n",
    "print(s5)\n",
    "print(type(s5))"
   ]
  },
  {
   "cell_type": "code",
   "execution_count": 8,
   "id": "d37de79d-8df4-4283-8c09-c8d2f96373f2",
   "metadata": {},
   "outputs": [
    {
     "name": "stdout",
     "output_type": "stream",
     "text": [
      "{1, 2, 100}\n"
     ]
    }
   ],
   "source": [
    "#一、增\n",
    "#1、add() 是添加某个元素\n",
    "s1={1,2}\n",
    "s1.add(100)\n",
    "print(s1)\n",
    "s1.add(1)  #原本就有1,再添加1，也只会去重\n",
    " "
   ]
  },
  {
   "cell_type": "code",
   "execution_count": 17,
   "id": "a3a8a6e3-6467-4a9d-9974-86ed610a4fce",
   "metadata": {},
   "outputs": [
    {
     "name": "stdout",
     "output_type": "stream",
     "text": [
      "{1, 2}\n",
      "{1, 2, 100}\n",
      "{1, 2, 100}\n",
      "{1, 2, 100}\n",
      "{1, 2, 100}\n"
     ]
    }
   ],
   "source": [
    "#2、update(),追加的对象要是可迭代对象（列表，元组，字典，集合）\n",
    "s1={1,2} \n",
    "#s1.update(100) #报错，整形不是可迭代对象\n",
    "print(s1)\n",
    "#添加列表\n",
    "s1.update([100])\n",
    "print(s1)\n",
    "#添加元组\n",
    "s1.update((100,))\n",
    "print(s1)\n",
    "#添加集合\n",
    "s1.update({100})\n",
    "print(s1)\n",
    "#添加字典\n",
    "s1.update({100:200}) #这里添加的是字典的key\n",
    "print(s1)"
   ]
  },
  {
   "cell_type": "code",
   "execution_count": 26,
   "id": "4f62f45b-6eaf-4ef4-9932-346997c87849",
   "metadata": {},
   "outputs": [
    {
     "name": "stdout",
     "output_type": "stream",
     "text": [
      "{'gfh', 34, 56, 234, 'saf'}\n"
     ]
    }
   ],
   "source": [
    "#x和y合并，并去重\n",
    "x={'saf','gfh',234}\n",
    "y={'saf',34,56}\n",
    "x.update(y)\n",
    "print(x)\n",
    "#x.add(y) 会报错，add只能添加某个元素"
   ]
  },
  {
   "cell_type": "code",
   "execution_count": 35,
   "id": "0708c250-be3b-4a87-88e1-d9e4ddb74cf2",
   "metadata": {},
   "outputs": [
    {
     "name": "stdout",
     "output_type": "stream",
     "text": [
      "{1, 2, 45}\n",
      "{1, 2, 45}\n",
      "1\n"
     ]
    }
   ],
   "source": [
    "#二、删\n",
    "#remove 和discard\n",
    "s1={1,2,45,3}\n",
    "s1.remove(3)\n",
    "print(s1)\n",
    "#s1.remove(100) 删除集合中没有的元素会报，discard不会\n",
    "s1.discard(100)\n",
    "print(s1)\n",
    "\n",
    "#pop() 随机删除集合的某个元素，返回的是删除的元素\n",
    "s1={1,2,45,3}\n",
    "del_num=s1.pop()\n",
    "print(del_num)"
   ]
  },
  {
   "cell_type": "code",
   "execution_count": 37,
   "id": "9ad6f028-9cdd-4a80-b0dc-c04db084a9bf",
   "metadata": {},
   "outputs": [
    {
     "name": "stdout",
     "output_type": "stream",
     "text": [
      "{1}\n",
      "{65, 1, 67, 4, 4356, 5, 6, 8, 124}\n"
     ]
    }
   ],
   "source": [
    "#交集（shift+7）和并集（shift+|）\n",
    "a={1,4,4356,65,4}\n",
    "b={124,1,67,6,5,8}\n",
    "se=a&b\n",
    "sc=a|b\n",
    "print(se)\n",
    "print(sc)"
   ]
  },
  {
   "cell_type": "code",
   "execution_count": 48,
   "id": "5a5f3566-6481-4035-98a4-5109d3c38471",
   "metadata": {},
   "outputs": [
    {
     "name": "stdout",
     "output_type": "stream",
     "text": [
      "3\n",
      "89\n",
      "2\n",
      "0\n",
      "1\n",
      "2\n",
      "3\n",
      "4\n",
      "(0, 'a')\n",
      "(1, 'b')\n",
      "(2, 'c')\n"
     ]
    }
   ],
   "source": [
    "#公共方法 \n",
    "#len() 字符串、列表、元组、字典、集合都适用\n",
    "s1={10,20,30}\n",
    "print(len(s1))\n",
    "\n",
    "#del\n",
    "#li1=[1,2,3]\n",
    "#del li1\n",
    "#print(li1) #会报错\n",
    "\n",
    "#max()和min\n",
    "li1=[2,4,6,89,5]\n",
    "print(max(li1))\n",
    "print(min(li1))\n",
    "\n",
    "#range()\n",
    "for i in range(5):\n",
    "    print(i)\n",
    "\n",
    "#enumerate()  效果是（下标，数据） 一一列出，通常和for遍历用\n",
    "li1=['a','b','c']\n",
    "for i in enumerate(li1):\n",
    "    print(i)"
   ]
  },
  {
   "cell_type": "code",
   "execution_count": 63,
   "id": "22a57f46-9728-4042-a305-09d0dc6808b7",
   "metadata": {},
   "outputs": [
    {
     "name": "stdout",
     "output_type": "stream",
     "text": [
      "[0, 1, 2, 3, 4, 5, 6, 7, 8, 9]\n",
      "[0, 1, 2, 3, 4, 5, 6, 7, 8, 9]\n",
      "<generator object <genexpr> at 0x1640d3f40>\n",
      "(0, 1, 2, 3, 4, 5, 6, 7, 8, 9)\n",
      "{0: 0, 1: 1, 2: 4}\n",
      "{1, 4}\n"
     ]
    }
   ],
   "source": [
    "#列表推导式\n",
    "#while\n",
    "list1=[]\n",
    "i=0\n",
    "while i<10:\n",
    "   list1.append(i)\n",
    "   i+=1\n",
    "print(list1)\n",
    "#for\n",
    "list=[i for i in range(10)]\n",
    "print(list)\n",
    "\n",
    "#元组推导式\n",
    "t1=(i for i in range(10))\n",
    "print(t1) #这里只返回对象的地址\n",
    "print(tuple(t1))  #元组推导式注意！！\n",
    "\n",
    "#字典推导式\n",
    "dict1={i:i**2 for i in range(3)} #**为次方数\n",
    "print(dict1)\n",
    "\n",
    "#集合推导式\n",
    "list1=[1,1,2]\n",
    "set1={i**2 for i in list1} #in运算符不支持集合，只能通过其他转化过来\n",
    "print(set1)"
   ]
  },
  {
   "cell_type": "code",
   "execution_count": null,
   "id": "91d3ec44-0dc7-45d5-ab81-66502e87c3a7",
   "metadata": {},
   "outputs": [],
   "source": [
    "\n"
   ]
  }
 ],
 "metadata": {
  "kernelspec": {
   "display_name": "Python [conda env:base] *",
   "language": "python",
   "name": "conda-base-py"
  },
  "language_info": {
   "codemirror_mode": {
    "name": "ipython",
    "version": 3
   },
   "file_extension": ".py",
   "mimetype": "text/x-python",
   "name": "python",
   "nbconvert_exporter": "python",
   "pygments_lexer": "ipython3",
   "version": "3.12.7"
  }
 },
 "nbformat": 4,
 "nbformat_minor": 5
}
