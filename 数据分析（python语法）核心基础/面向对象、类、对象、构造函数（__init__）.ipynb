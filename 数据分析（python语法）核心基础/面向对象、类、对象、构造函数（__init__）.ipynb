{
 "cells": [
  {
   "cell_type": "code",
   "execution_count": 14,
   "id": "00f18d19-8905-4713-8596-26412fe7fd51",
   "metadata": {},
   "outputs": [
    {
     "name": "stdout",
     "output_type": "stream",
     "text": [
      "{'__module__': '__main__', 'name': 'lucy', 'info': <function Student.info at 0x12c254540>, '__dict__': <attribute '__dict__' of 'Student' objects>, '__weakref__': <attribute '__weakref__' of 'Student' objects>, '__doc__': None}\n",
      "lucy\n",
      "jack\n",
      "走路\n"
     ]
    }
   ],
   "source": [
    "#面向过程：需要s实现一个功能时，着重的是开发的过程和步骤，每个步骤都需要自己亲力亲为3，需要编写代码\n",
    "#面向对象：需要实现一个功能时，不注重过程和步骤，关心的是谁来帮我做这件事\n",
    "#面向对象的程序设计的核心是对象（上帝思维），要理解对象为何物，必须把自己当成上帝，上帝眼里万事万物皆为对象，不存在的也可以创造出来。\n",
    "\n",
    "#类：（具有相同属性或功能）抽象的概念。对象：具体的实实在在的\n",
    "#类的定义\n",
    "#1、class 类名：  （类名常用大驼峰命名法：首字母大字，私有类可用一个下划线开头）\n",
    "#       pass      里面什么都没有，用pass\n",
    "#2、class 类名：\n",
    "#       成员\n",
    "class Hero(object):  #object是python中最顶级的父类\n",
    "    def info(self):  #info是实例方法，第一个参数一般是self，表示的是实例本身。也可取其他名字，作用是这个变量指向了实例对象。\n",
    "        print('hero')\n",
    "\n",
    "#属性：对象的特征描述（实际上为类中定义变量，该变量为属性）\n",
    "#方法：对象具有的行为（本质是函数），类中定义函数方法\n",
    "class Student():\n",
    "    name='lucy'  #属性\n",
    "    def info(self): #方法\n",
    "        print(123)\n",
    "print(Student.__dict__) #查看类的属性\n",
    "\n",
    "#类中的增删改查\n",
    "print(Student.name)  #查属性内容\n",
    "Student.name='jack'  #修改属性内容\n",
    "print(Student.name) \n",
    "#del Student.name    #删除属性，会报错\n",
    "Student.walk='走路'   #新增属性\n",
    "print(Student.walk)\n",
    "#---小结：属性内容有则覆盖，无则添加，使用的是类名.属性\n"
   ]
  },
  {
   "cell_type": "code",
   "execution_count": 17,
   "id": "5d3df0a4-ff96-400a-8752-0baf69333f40",
   "metadata": {},
   "outputs": [
    {
     "name": "stdout",
     "output_type": "stream",
     "text": [
      "<__main__.Hero object at 0x11fda1640>\n",
      "self各不相同，对象是出处\n",
      "<__main__.Hero object at 0x11fda1640>\n",
      "<__main__.Hero object at 0x108516780>\n",
      "self各不相同，对象是出处\n",
      "<__main__.Hero object at 0x11f9714f0>\n",
      "self各不相同，对象是出处\n",
      "英雄jack的生命值: 2500\n",
      "正在前往事发地址···\n",
      "jack的年龄是20\n",
      "{'name': 'jack', 'age': 20}\n",
      "it\n"
     ]
    }
   ],
   "source": [
    "#类的定义\n",
    "#1)\n",
    "class Hero():\n",
    "    def info(self):  #实例方法\n",
    "        print(self)\n",
    "        print('self各不相同，对象是出处')\n",
    "#创建对象，实例化一个对象。可理解为定义一个对象 (对象名=类名（）)\n",
    "#2）\n",
    "hero1=Hero()  #创建的对象不限数量,这里的hero1等于self\n",
    "hero2=Hero()\n",
    "hero3=Hero()\n",
    "hero1.info()    #调用实例方法，这里的hero1等于self\n",
    "print(hero1)    #打印的是对象的内存地址\n",
    "hero2.info()\n",
    "hero3.info()   \n",
    "\n",
    "\n",
    "#添加和获取对象的属性和方法\n",
    "#定义类\n",
    "class Hero(object):\n",
    "    #定义一个方法\n",
    "    def move(self):\n",
    "        print('正在前往事发地址···')\n",
    "#定义对象\n",
    "hero=Hero()\n",
    "#添加属性\n",
    "hero.name='jack'  #添加属性和属性内容\n",
    "hero.hp=2500  \n",
    "print('英雄%s的生命值: %d' %(hero.name,hero.hp))\n",
    "hero.move()   #调用实例方法 \n",
    "\n",
    "#2、\n",
    "class A():\n",
    "    def test(self):\n",
    "        print('%s的年龄是%d' %(self.name,self.age))\n",
    "a=A()   #实例化一个对象a\n",
    "a.name='jack' #定义对象的属性\n",
    "a.age=20\n",
    "a.test()      #调用实例方法 对象.方法\n",
    "print(a.__dict__)  #查看对象的所有属性\n",
    "a.job='it'\n",
    "print(a.job)"
   ]
  },
  {
   "cell_type": "code",
   "execution_count": 24,
   "id": "b168b779-c931-438f-9ba6-03691edd6979",
   "metadata": {},
   "outputs": [
    {
     "name": "stdout",
     "output_type": "stream",
     "text": [
      "大乔正在移动\n",
      "大乔的生命值400,发出了一招攻击300\n",
      "小乔正在移动\n",
      "小乔的生命值300,发出了一招攻击200\n"
     ]
    }
   ],
   "source": [
    "#__init__（构造函数）的使用：初始化作用，当类被实例化对象时自动执行调用的函数\n",
    "class Hero:\n",
    "    def __init__(self,name,hp,at):\n",
    "        self.name=name\n",
    "        self.hp=hp\n",
    "        self.at=at\n",
    "    def move(self):\n",
    "        print(f'{self.name}正在移动')\n",
    "    def attack(self):\n",
    "        print(f'{self.name}的生命值{self.hp},发出了一招攻击{self.at}')\n",
    "#创建对象\n",
    "hero1=Hero('大乔',400,300)\n",
    "hero2=Hero('小乔',300,200)\n",
    "hero1.move()  #调用方法\n",
    "hero1.attack()\n",
    "\n",
    "hero2.move()\n",
    "hero2.attack()"
   ]
  },
  {
   "cell_type": "code",
   "execution_count": 27,
   "id": "f6d3f88c-6d20-49fb-9724-436fda6a555a",
   "metadata": {},
   "outputs": [
    {
     "name": "stdout",
     "output_type": "stream",
     "text": [
      "zs\n",
      "0\n",
      "0\n",
      "我的名字是zs\n",
      "我的名字是zs\n",
      "20\n"
     ]
    }
   ],
   "source": [
    "#实例属性和类属性的区别和使用\n",
    "class B:\n",
    "    num=0                             #类属性\n",
    "    def __init__(self,name):          \n",
    "        self.name=name                #实例属性，在__init__内部定义\n",
    "    def test(self):\n",
    "        print(f'我的名字是{self.name}')\n",
    "#实例对象\n",
    "b=B('zs')  \n",
    "print(b.name) #对象可以访问实例属性,有__init__初始化，创建完对象就可以直接拿来用\n",
    "#print(B.name) #类不能访问实例属性\n",
    "print(b.num)  #对象可以类属性\n",
    "print(B.num)  #类可以访问类属性  （小结，小的可以用大的，大的不可以用小的）\n",
    "b.test()     #对象调用实例方法\n",
    " \n",
    "\n",
    "class B:\n",
    "    num=0                             #类属性\n",
    "    def __init__(self,name):          \n",
    "        self.name=name                #实例属性，在__init__内部定义\n",
    "    def test(self,age):\n",
    "        self.age=age\n",
    "        print(f'我的名字是{self.name}')\n",
    "#实例对象\n",
    "b=B('zs') \n",
    "#print(b.age) #报错，没有初始化，不能直接用\n",
    "#print(B.age) #报错，没有初始化，不能直接用，要使用age属性先调用\n",
    "b.test(20)\n",
    "print(b.age)\n",
    "#print(B.age)  #报错，类不能访问实例属性\n",
    "\n"
   ]
  },
  {
   "cell_type": "code",
   "execution_count": null,
   "id": "ffd154e8-7478-40b6-a36e-59e7e2b36da5",
   "metadata": {},
   "outputs": [],
   "source": []
  }
 ],
 "metadata": {
  "kernelspec": {
   "display_name": "Python [conda env:base] *",
   "language": "python",
   "name": "conda-base-py"
  },
  "language_info": {
   "codemirror_mode": {
    "name": "ipython",
    "version": 3
   },
   "file_extension": ".py",
   "mimetype": "text/x-python",
   "name": "python",
   "nbconvert_exporter": "python",
   "pygments_lexer": "ipython3",
   "version": "3.12.7"
  }
 },
 "nbformat": 4,
 "nbformat_minor": 5
}
